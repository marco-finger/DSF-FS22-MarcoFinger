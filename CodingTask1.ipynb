{
  "nbformat": 4,
  "nbformat_minor": 0,
  "metadata": {
    "colab": {
      "name": "CodingTask1.ipynb",
      "provenance": [],
      "toc_visible": true,
      "include_colab_link": true
    },
    "kernelspec": {
      "name": "python3",
      "display_name": "Python 3"
    },
    "language_info": {
      "name": "python"
    }
  },
  "cells": [
    {
      "cell_type": "markdown",
      "metadata": {
        "id": "view-in-github",
        "colab_type": "text"
      },
      "source": [
        "<a href=\"https://colab.research.google.com/github/marco-finger/derLauch/blob/main/CodingTask1.ipynb\" target=\"_parent\"><img src=\"https://colab.research.google.com/assets/colab-badge.svg\" alt=\"Open In Colab\"/></a>"
      ]
    },
    {
      "cell_type": "markdown",
      "source": [
        "Data Science Fundamentals for DCBP, S. Haug, University of Bern "
      ],
      "metadata": {
        "id": "_-1mhuoK6uqC"
      }
    },
    {
      "cell_type": "markdown",
      "source": [
        "# Coding Task 1\n",
        "\n",
        "- Deadline (upload to Ilias): 2022-03-20 24:00\n",
        "- Estimated effort: 2-5 hours\n",
        "- Data on Ilias (4ms_...) with metadata file CCD-Metadata\n"
      ],
      "metadata": {
        "id": "gn4RkUC66-ou"
      }
    },
    {
      "cell_type": "markdown",
      "source": [
        "## Tasks (maximum 12.5 points)"
      ],
      "metadata": {
        "id": "KYKF2iS56v1z"
      }
    },
    {
      "cell_type": "markdown",
      "source": [
        "- Write a method (function) which removes the header information in the datafile and saves that information into a separate textfile. [0.5 points] \n",
        "- Write a function which reduces the data resolution by averaging over 1, 2, 3 and 4 nm wavelengths. Save these 4 new reduced datasets in new files. Do this (1) by writing an explicit loop and (2) by using pandas methods. Measure the running times of the two approaches. [6 points]\n",
        "- Write a function which takes two wavelengths as input and plots the difference of the data at these lengths over time. [2 points] \n",
        "- Let the x-axis be in seconds, label the axes with names and units, label the plot with color and legend, make a title for the plot. Save the plot to a file. [2 points]\n",
        "- Plot the full and the reduced datasets in the same figure. Is there any visual difference? [2 points]"
      ],
      "metadata": {
        "id": "rXqhhPMu9aPx"
      }
    },
    {
      "cell_type": "code",
      "source": [
        "# import of standard libraries\n",
        "import numpy as np\n",
        "import pandas as pd\n",
        "import matplotlib.pyplot as plt"
      ],
      "metadata": {
        "id": "OfvMackX-SFc"
      },
      "execution_count": 2,
      "outputs": []
    },
    {
      "cell_type": "code",
      "source": [
        "# mount dataset from Google drive\n",
        "from google.colab import drive\n",
        "drive.mount('/content/drive')\n",
        "path = '/content/drive/MyDrive/DSF-FS22/data/4ms_10 av_30 s_Absorbance_10-32-04-868.txt'\n",
        "df = pd.read_csv(path, delimiter='\\t', header = 13) # header taken as from column 13 (wavelengths)\n",
        "df = df.drop(columns = \"Unnamed: 0\") # removes the redundant first column"
      ],
      "metadata": {
        "id": "TaPLqlKE-cjI",
        "outputId": "84432f88-ac65-498a-8e4a-dacdf4e1a1a6",
        "colab": {
          "base_uri": "https://localhost:8080/"
        }
      },
      "execution_count": 3,
      "outputs": [
        {
          "output_type": "stream",
          "name": "stdout",
          "text": [
            "Mounted at /content/drive\n"
          ]
        }
      ]
    },
    {
      "cell_type": "markdown",
      "source": [
        "### 1. Removing header (0.5 points)"
      ],
      "metadata": {
        "id": "mQjwil2Jshxr"
      }
    },
    {
      "cell_type": "code",
      "source": [
        "df.info()"
      ],
      "metadata": {
        "id": "mFU_-4Zh-rS7",
        "outputId": "0a8f949d-1e99-470f-f677-f37ebfa99e33",
        "colab": {
          "base_uri": "https://localhost:8080/"
        }
      },
      "execution_count": 4,
      "outputs": [
        {
          "output_type": "stream",
          "name": "stdout",
          "text": [
            "<class 'pandas.core.frame.DataFrame'>\n",
            "RangeIndex: 355 entries, 0 to 354\n",
            "Columns: 3649 entries, Unnamed: 1 to 780.0381\n",
            "dtypes: float64(3648), int64(1)\n",
            "memory usage: 9.9 MB\n"
          ]
        }
      ]
    },
    {
      "cell_type": "code",
      "source": [
        "df.describe()"
      ],
      "metadata": {
        "id": "DH09kANz_G25",
        "outputId": "6b9f475b-5e92-4b2c-bc4d-16a197b5f58e",
        "colab": {
          "base_uri": "https://localhost:8080/",
          "height": 390
        }
      },
      "execution_count": 5,
      "outputs": [
        {
          "output_type": "execute_result",
          "data": {
            "text/plain": [
              "         Unnamed: 1    316.6137    316.7492    316.8847    317.0203  \\\n",
              "count  3.550000e+02  355.000000  355.000000  355.000000  355.000000   \n",
              "mean   1.540456e+12    0.409207    0.409207    0.409207    0.120755   \n",
              "std    8.676718e+03    0.327439    0.327439    0.327439    0.225739   \n",
              "min    1.540456e+12   -0.243277   -0.243277   -0.243277   -0.504316   \n",
              "25%    1.540456e+12    0.103420    0.103420    0.103420   -0.016814   \n",
              "50%    1.540456e+12    0.330891    0.330891    0.330891    0.076447   \n",
              "75%    1.540456e+12    0.844202    0.844202    0.844202    0.212742   \n",
              "max    1.540456e+12    0.871232    0.871232    0.871232    2.056905   \n",
              "\n",
              "         317.1558    317.2913    317.4268    317.5623    317.6977  ...  \\\n",
              "count  355.000000  355.000000  355.000000  355.000000  355.000000  ...   \n",
              "mean    -0.332947   -1.138412   -0.273126    0.036164   -0.026767  ...   \n",
              "std      0.368498    0.926140    0.318666    0.331674    0.756225  ...   \n",
              "min     -0.879836   -2.446382   -0.772345   -0.629352   -0.809866  ...   \n",
              "25%     -0.600144   -1.975407   -0.483988   -0.005090   -0.200815  ...   \n",
              "50%     -0.424603   -1.462398   -0.339107    0.000000    0.000000  ...   \n",
              "75%     -0.124390   -0.000000   -0.114209    0.016706   -0.000000  ...   \n",
              "max      1.344611    0.301030    1.797614    2.025306   12.746800  ...   \n",
              "\n",
              "         778.9703     779.089    779.2076    779.3263    779.4449    779.5636  \\\n",
              "count  355.000000  355.000000  355.000000  355.000000  355.000000  355.000000   \n",
              "mean    -0.037705   -0.037621   -0.036954   -0.035224   -0.037010   -0.036702   \n",
              "std      0.001611    0.001573    0.001648    0.001574    0.001522    0.001571   \n",
              "min     -0.041032   -0.040494   -0.039786   -0.039203   -0.040537   -0.040524   \n",
              "25%     -0.038473   -0.038412   -0.037876   -0.036055   -0.037728   -0.037505   \n",
              "50%     -0.037737   -0.037731   -0.036998   -0.035267   -0.037119   -0.036722   \n",
              "75%     -0.037022   -0.036934   -0.036270   -0.034529   -0.036315   -0.035969   \n",
              "max     -0.016370   -0.016801   -0.014841   -0.014077   -0.017539   -0.015907   \n",
              "\n",
              "         779.6822    779.8008    779.9194    780.0381  \n",
              "count  355.000000  355.000000  355.000000  355.000000  \n",
              "mean    -0.037107   -0.036634   -0.037724   -0.035371  \n",
              "std      0.001649    0.001624    0.001545    0.001536  \n",
              "min     -0.040304   -0.039905   -0.040929   -0.038231  \n",
              "25%     -0.037930   -0.037541   -0.038611   -0.036165  \n",
              "50%     -0.037191   -0.036708   -0.037786   -0.035425  \n",
              "75%     -0.036296   -0.035855   -0.036984   -0.034661  \n",
              "max     -0.016059   -0.015445   -0.016981   -0.014757  \n",
              "\n",
              "[8 rows x 3649 columns]"
            ],
            "text/html": [
              "\n",
              "  <div id=\"df-940d873d-cf07-49f8-ae1b-65f2e4c326fe\">\n",
              "    <div class=\"colab-df-container\">\n",
              "      <div>\n",
              "<style scoped>\n",
              "    .dataframe tbody tr th:only-of-type {\n",
              "        vertical-align: middle;\n",
              "    }\n",
              "\n",
              "    .dataframe tbody tr th {\n",
              "        vertical-align: top;\n",
              "    }\n",
              "\n",
              "    .dataframe thead th {\n",
              "        text-align: right;\n",
              "    }\n",
              "</style>\n",
              "<table border=\"1\" class=\"dataframe\">\n",
              "  <thead>\n",
              "    <tr style=\"text-align: right;\">\n",
              "      <th></th>\n",
              "      <th>Unnamed: 1</th>\n",
              "      <th>316.6137</th>\n",
              "      <th>316.7492</th>\n",
              "      <th>316.8847</th>\n",
              "      <th>317.0203</th>\n",
              "      <th>317.1558</th>\n",
              "      <th>317.2913</th>\n",
              "      <th>317.4268</th>\n",
              "      <th>317.5623</th>\n",
              "      <th>317.6977</th>\n",
              "      <th>...</th>\n",
              "      <th>778.9703</th>\n",
              "      <th>779.089</th>\n",
              "      <th>779.2076</th>\n",
              "      <th>779.3263</th>\n",
              "      <th>779.4449</th>\n",
              "      <th>779.5636</th>\n",
              "      <th>779.6822</th>\n",
              "      <th>779.8008</th>\n",
              "      <th>779.9194</th>\n",
              "      <th>780.0381</th>\n",
              "    </tr>\n",
              "  </thead>\n",
              "  <tbody>\n",
              "    <tr>\n",
              "      <th>count</th>\n",
              "      <td>3.550000e+02</td>\n",
              "      <td>355.000000</td>\n",
              "      <td>355.000000</td>\n",
              "      <td>355.000000</td>\n",
              "      <td>355.000000</td>\n",
              "      <td>355.000000</td>\n",
              "      <td>355.000000</td>\n",
              "      <td>355.000000</td>\n",
              "      <td>355.000000</td>\n",
              "      <td>355.000000</td>\n",
              "      <td>...</td>\n",
              "      <td>355.000000</td>\n",
              "      <td>355.000000</td>\n",
              "      <td>355.000000</td>\n",
              "      <td>355.000000</td>\n",
              "      <td>355.000000</td>\n",
              "      <td>355.000000</td>\n",
              "      <td>355.000000</td>\n",
              "      <td>355.000000</td>\n",
              "      <td>355.000000</td>\n",
              "      <td>355.000000</td>\n",
              "    </tr>\n",
              "    <tr>\n",
              "      <th>mean</th>\n",
              "      <td>1.540456e+12</td>\n",
              "      <td>0.409207</td>\n",
              "      <td>0.409207</td>\n",
              "      <td>0.409207</td>\n",
              "      <td>0.120755</td>\n",
              "      <td>-0.332947</td>\n",
              "      <td>-1.138412</td>\n",
              "      <td>-0.273126</td>\n",
              "      <td>0.036164</td>\n",
              "      <td>-0.026767</td>\n",
              "      <td>...</td>\n",
              "      <td>-0.037705</td>\n",
              "      <td>-0.037621</td>\n",
              "      <td>-0.036954</td>\n",
              "      <td>-0.035224</td>\n",
              "      <td>-0.037010</td>\n",
              "      <td>-0.036702</td>\n",
              "      <td>-0.037107</td>\n",
              "      <td>-0.036634</td>\n",
              "      <td>-0.037724</td>\n",
              "      <td>-0.035371</td>\n",
              "    </tr>\n",
              "    <tr>\n",
              "      <th>std</th>\n",
              "      <td>8.676718e+03</td>\n",
              "      <td>0.327439</td>\n",
              "      <td>0.327439</td>\n",
              "      <td>0.327439</td>\n",
              "      <td>0.225739</td>\n",
              "      <td>0.368498</td>\n",
              "      <td>0.926140</td>\n",
              "      <td>0.318666</td>\n",
              "      <td>0.331674</td>\n",
              "      <td>0.756225</td>\n",
              "      <td>...</td>\n",
              "      <td>0.001611</td>\n",
              "      <td>0.001573</td>\n",
              "      <td>0.001648</td>\n",
              "      <td>0.001574</td>\n",
              "      <td>0.001522</td>\n",
              "      <td>0.001571</td>\n",
              "      <td>0.001649</td>\n",
              "      <td>0.001624</td>\n",
              "      <td>0.001545</td>\n",
              "      <td>0.001536</td>\n",
              "    </tr>\n",
              "    <tr>\n",
              "      <th>min</th>\n",
              "      <td>1.540456e+12</td>\n",
              "      <td>-0.243277</td>\n",
              "      <td>-0.243277</td>\n",
              "      <td>-0.243277</td>\n",
              "      <td>-0.504316</td>\n",
              "      <td>-0.879836</td>\n",
              "      <td>-2.446382</td>\n",
              "      <td>-0.772345</td>\n",
              "      <td>-0.629352</td>\n",
              "      <td>-0.809866</td>\n",
              "      <td>...</td>\n",
              "      <td>-0.041032</td>\n",
              "      <td>-0.040494</td>\n",
              "      <td>-0.039786</td>\n",
              "      <td>-0.039203</td>\n",
              "      <td>-0.040537</td>\n",
              "      <td>-0.040524</td>\n",
              "      <td>-0.040304</td>\n",
              "      <td>-0.039905</td>\n",
              "      <td>-0.040929</td>\n",
              "      <td>-0.038231</td>\n",
              "    </tr>\n",
              "    <tr>\n",
              "      <th>25%</th>\n",
              "      <td>1.540456e+12</td>\n",
              "      <td>0.103420</td>\n",
              "      <td>0.103420</td>\n",
              "      <td>0.103420</td>\n",
              "      <td>-0.016814</td>\n",
              "      <td>-0.600144</td>\n",
              "      <td>-1.975407</td>\n",
              "      <td>-0.483988</td>\n",
              "      <td>-0.005090</td>\n",
              "      <td>-0.200815</td>\n",
              "      <td>...</td>\n",
              "      <td>-0.038473</td>\n",
              "      <td>-0.038412</td>\n",
              "      <td>-0.037876</td>\n",
              "      <td>-0.036055</td>\n",
              "      <td>-0.037728</td>\n",
              "      <td>-0.037505</td>\n",
              "      <td>-0.037930</td>\n",
              "      <td>-0.037541</td>\n",
              "      <td>-0.038611</td>\n",
              "      <td>-0.036165</td>\n",
              "    </tr>\n",
              "    <tr>\n",
              "      <th>50%</th>\n",
              "      <td>1.540456e+12</td>\n",
              "      <td>0.330891</td>\n",
              "      <td>0.330891</td>\n",
              "      <td>0.330891</td>\n",
              "      <td>0.076447</td>\n",
              "      <td>-0.424603</td>\n",
              "      <td>-1.462398</td>\n",
              "      <td>-0.339107</td>\n",
              "      <td>0.000000</td>\n",
              "      <td>0.000000</td>\n",
              "      <td>...</td>\n",
              "      <td>-0.037737</td>\n",
              "      <td>-0.037731</td>\n",
              "      <td>-0.036998</td>\n",
              "      <td>-0.035267</td>\n",
              "      <td>-0.037119</td>\n",
              "      <td>-0.036722</td>\n",
              "      <td>-0.037191</td>\n",
              "      <td>-0.036708</td>\n",
              "      <td>-0.037786</td>\n",
              "      <td>-0.035425</td>\n",
              "    </tr>\n",
              "    <tr>\n",
              "      <th>75%</th>\n",
              "      <td>1.540456e+12</td>\n",
              "      <td>0.844202</td>\n",
              "      <td>0.844202</td>\n",
              "      <td>0.844202</td>\n",
              "      <td>0.212742</td>\n",
              "      <td>-0.124390</td>\n",
              "      <td>-0.000000</td>\n",
              "      <td>-0.114209</td>\n",
              "      <td>0.016706</td>\n",
              "      <td>-0.000000</td>\n",
              "      <td>...</td>\n",
              "      <td>-0.037022</td>\n",
              "      <td>-0.036934</td>\n",
              "      <td>-0.036270</td>\n",
              "      <td>-0.034529</td>\n",
              "      <td>-0.036315</td>\n",
              "      <td>-0.035969</td>\n",
              "      <td>-0.036296</td>\n",
              "      <td>-0.035855</td>\n",
              "      <td>-0.036984</td>\n",
              "      <td>-0.034661</td>\n",
              "    </tr>\n",
              "    <tr>\n",
              "      <th>max</th>\n",
              "      <td>1.540456e+12</td>\n",
              "      <td>0.871232</td>\n",
              "      <td>0.871232</td>\n",
              "      <td>0.871232</td>\n",
              "      <td>2.056905</td>\n",
              "      <td>1.344611</td>\n",
              "      <td>0.301030</td>\n",
              "      <td>1.797614</td>\n",
              "      <td>2.025306</td>\n",
              "      <td>12.746800</td>\n",
              "      <td>...</td>\n",
              "      <td>-0.016370</td>\n",
              "      <td>-0.016801</td>\n",
              "      <td>-0.014841</td>\n",
              "      <td>-0.014077</td>\n",
              "      <td>-0.017539</td>\n",
              "      <td>-0.015907</td>\n",
              "      <td>-0.016059</td>\n",
              "      <td>-0.015445</td>\n",
              "      <td>-0.016981</td>\n",
              "      <td>-0.014757</td>\n",
              "    </tr>\n",
              "  </tbody>\n",
              "</table>\n",
              "<p>8 rows × 3649 columns</p>\n",
              "</div>\n",
              "      <button class=\"colab-df-convert\" onclick=\"convertToInteractive('df-940d873d-cf07-49f8-ae1b-65f2e4c326fe')\"\n",
              "              title=\"Convert this dataframe to an interactive table.\"\n",
              "              style=\"display:none;\">\n",
              "        \n",
              "  <svg xmlns=\"http://www.w3.org/2000/svg\" height=\"24px\"viewBox=\"0 0 24 24\"\n",
              "       width=\"24px\">\n",
              "    <path d=\"M0 0h24v24H0V0z\" fill=\"none\"/>\n",
              "    <path d=\"M18.56 5.44l.94 2.06.94-2.06 2.06-.94-2.06-.94-.94-2.06-.94 2.06-2.06.94zm-11 1L8.5 8.5l.94-2.06 2.06-.94-2.06-.94L8.5 2.5l-.94 2.06-2.06.94zm10 10l.94 2.06.94-2.06 2.06-.94-2.06-.94-.94-2.06-.94 2.06-2.06.94z\"/><path d=\"M17.41 7.96l-1.37-1.37c-.4-.4-.92-.59-1.43-.59-.52 0-1.04.2-1.43.59L10.3 9.45l-7.72 7.72c-.78.78-.78 2.05 0 2.83L4 21.41c.39.39.9.59 1.41.59.51 0 1.02-.2 1.41-.59l7.78-7.78 2.81-2.81c.8-.78.8-2.07 0-2.86zM5.41 20L4 18.59l7.72-7.72 1.47 1.35L5.41 20z\"/>\n",
              "  </svg>\n",
              "      </button>\n",
              "      \n",
              "  <style>\n",
              "    .colab-df-container {\n",
              "      display:flex;\n",
              "      flex-wrap:wrap;\n",
              "      gap: 12px;\n",
              "    }\n",
              "\n",
              "    .colab-df-convert {\n",
              "      background-color: #E8F0FE;\n",
              "      border: none;\n",
              "      border-radius: 50%;\n",
              "      cursor: pointer;\n",
              "      display: none;\n",
              "      fill: #1967D2;\n",
              "      height: 32px;\n",
              "      padding: 0 0 0 0;\n",
              "      width: 32px;\n",
              "    }\n",
              "\n",
              "    .colab-df-convert:hover {\n",
              "      background-color: #E2EBFA;\n",
              "      box-shadow: 0px 1px 2px rgba(60, 64, 67, 0.3), 0px 1px 3px 1px rgba(60, 64, 67, 0.15);\n",
              "      fill: #174EA6;\n",
              "    }\n",
              "\n",
              "    [theme=dark] .colab-df-convert {\n",
              "      background-color: #3B4455;\n",
              "      fill: #D2E3FC;\n",
              "    }\n",
              "\n",
              "    [theme=dark] .colab-df-convert:hover {\n",
              "      background-color: #434B5C;\n",
              "      box-shadow: 0px 1px 3px 1px rgba(0, 0, 0, 0.15);\n",
              "      filter: drop-shadow(0px 1px 2px rgba(0, 0, 0, 0.3));\n",
              "      fill: #FFFFFF;\n",
              "    }\n",
              "  </style>\n",
              "\n",
              "      <script>\n",
              "        const buttonEl =\n",
              "          document.querySelector('#df-940d873d-cf07-49f8-ae1b-65f2e4c326fe button.colab-df-convert');\n",
              "        buttonEl.style.display =\n",
              "          google.colab.kernel.accessAllowed ? 'block' : 'none';\n",
              "\n",
              "        async function convertToInteractive(key) {\n",
              "          const element = document.querySelector('#df-940d873d-cf07-49f8-ae1b-65f2e4c326fe');\n",
              "          const dataTable =\n",
              "            await google.colab.kernel.invokeFunction('convertToInteractive',\n",
              "                                                     [key], {});\n",
              "          if (!dataTable) return;\n",
              "\n",
              "          const docLinkHtml = 'Like what you see? Visit the ' +\n",
              "            '<a target=\"_blank\" href=https://colab.research.google.com/notebooks/data_table.ipynb>data table notebook</a>'\n",
              "            + ' to learn more about interactive tables.';\n",
              "          element.innerHTML = '';\n",
              "          dataTable['output_type'] = 'display_data';\n",
              "          await google.colab.output.renderOutput(dataTable, element);\n",
              "          const docLink = document.createElement('div');\n",
              "          docLink.innerHTML = docLinkHtml;\n",
              "          element.appendChild(docLink);\n",
              "        }\n",
              "      </script>\n",
              "    </div>\n",
              "  </div>\n",
              "  "
            ]
          },
          "metadata": {},
          "execution_count": 5
        }
      ]
    },
    {
      "cell_type": "code",
      "source": [
        "df.head()"
      ],
      "metadata": {
        "colab": {
          "base_uri": "https://localhost:8080/",
          "height": 297
        },
        "id": "T83UMD44KmLY",
        "outputId": "81a050ce-6790-4493-a991-f7ded54c89d1"
      },
      "execution_count": 6,
      "outputs": [
        {
          "output_type": "execute_result",
          "data": {
            "text/plain": [
              "      Unnamed: 1  316.6137  316.7492  316.8847  317.0203  317.1558  317.2913  \\\n",
              "0  1540456324789  0.329672  0.329672  0.329672  0.090294 -0.716926 -1.829304   \n",
              "1  1540456324878 -0.044412 -0.044412 -0.044412  0.157632 -0.672423 -2.183981   \n",
              "2  1540456324962  0.338219  0.338219  0.338219  0.330993 -0.879836 -0.000000   \n",
              "3  1540456325046 -0.049682 -0.049682 -0.049682  0.519086 -0.681150 -0.000000   \n",
              "4  1540456325129  0.335086  0.335086  0.335086 -0.041393 -0.000000 -1.802774   \n",
              "\n",
              "   317.4268  317.5623  317.6977  ...  778.9703   779.089  779.2076  779.3263  \\\n",
              "0 -0.686330 -0.428776  1.740363  ... -0.038483 -0.039623 -0.036920 -0.037309   \n",
              "1 -0.492421 -0.000000 -0.695800  ... -0.039428 -0.038486 -0.037309 -0.036357   \n",
              "2 -0.559845 -0.000000 -0.275276  ... -0.037725 -0.037534 -0.036560 -0.036152   \n",
              "3 -0.417230 -0.000000 -0.140451  ... -0.037613 -0.037168 -0.036369 -0.034549   \n",
              "4 -0.510417 -0.000000 -0.000000  ... -0.040919 -0.038288 -0.035840 -0.035638   \n",
              "\n",
              "   779.4449  779.5636  779.6822  779.8008  779.9194  780.0381  \n",
              "0 -0.037299 -0.037476 -0.036856 -0.036853 -0.039100 -0.035545  \n",
              "1 -0.037289 -0.038728 -0.037214 -0.036902 -0.040210 -0.038165  \n",
              "2 -0.036554 -0.036875 -0.037351 -0.036746 -0.038686 -0.036903  \n",
              "3 -0.036252 -0.037948 -0.036713 -0.035706 -0.038203 -0.036822  \n",
              "4 -0.039504 -0.040093 -0.039953 -0.037656 -0.038082 -0.035900  \n",
              "\n",
              "[5 rows x 3649 columns]"
            ],
            "text/html": [
              "\n",
              "  <div id=\"df-26c23f81-df84-4e17-8bc7-4db42fac3d1f\">\n",
              "    <div class=\"colab-df-container\">\n",
              "      <div>\n",
              "<style scoped>\n",
              "    .dataframe tbody tr th:only-of-type {\n",
              "        vertical-align: middle;\n",
              "    }\n",
              "\n",
              "    .dataframe tbody tr th {\n",
              "        vertical-align: top;\n",
              "    }\n",
              "\n",
              "    .dataframe thead th {\n",
              "        text-align: right;\n",
              "    }\n",
              "</style>\n",
              "<table border=\"1\" class=\"dataframe\">\n",
              "  <thead>\n",
              "    <tr style=\"text-align: right;\">\n",
              "      <th></th>\n",
              "      <th>Unnamed: 1</th>\n",
              "      <th>316.6137</th>\n",
              "      <th>316.7492</th>\n",
              "      <th>316.8847</th>\n",
              "      <th>317.0203</th>\n",
              "      <th>317.1558</th>\n",
              "      <th>317.2913</th>\n",
              "      <th>317.4268</th>\n",
              "      <th>317.5623</th>\n",
              "      <th>317.6977</th>\n",
              "      <th>...</th>\n",
              "      <th>778.9703</th>\n",
              "      <th>779.089</th>\n",
              "      <th>779.2076</th>\n",
              "      <th>779.3263</th>\n",
              "      <th>779.4449</th>\n",
              "      <th>779.5636</th>\n",
              "      <th>779.6822</th>\n",
              "      <th>779.8008</th>\n",
              "      <th>779.9194</th>\n",
              "      <th>780.0381</th>\n",
              "    </tr>\n",
              "  </thead>\n",
              "  <tbody>\n",
              "    <tr>\n",
              "      <th>0</th>\n",
              "      <td>1540456324789</td>\n",
              "      <td>0.329672</td>\n",
              "      <td>0.329672</td>\n",
              "      <td>0.329672</td>\n",
              "      <td>0.090294</td>\n",
              "      <td>-0.716926</td>\n",
              "      <td>-1.829304</td>\n",
              "      <td>-0.686330</td>\n",
              "      <td>-0.428776</td>\n",
              "      <td>1.740363</td>\n",
              "      <td>...</td>\n",
              "      <td>-0.038483</td>\n",
              "      <td>-0.039623</td>\n",
              "      <td>-0.036920</td>\n",
              "      <td>-0.037309</td>\n",
              "      <td>-0.037299</td>\n",
              "      <td>-0.037476</td>\n",
              "      <td>-0.036856</td>\n",
              "      <td>-0.036853</td>\n",
              "      <td>-0.039100</td>\n",
              "      <td>-0.035545</td>\n",
              "    </tr>\n",
              "    <tr>\n",
              "      <th>1</th>\n",
              "      <td>1540456324878</td>\n",
              "      <td>-0.044412</td>\n",
              "      <td>-0.044412</td>\n",
              "      <td>-0.044412</td>\n",
              "      <td>0.157632</td>\n",
              "      <td>-0.672423</td>\n",
              "      <td>-2.183981</td>\n",
              "      <td>-0.492421</td>\n",
              "      <td>-0.000000</td>\n",
              "      <td>-0.695800</td>\n",
              "      <td>...</td>\n",
              "      <td>-0.039428</td>\n",
              "      <td>-0.038486</td>\n",
              "      <td>-0.037309</td>\n",
              "      <td>-0.036357</td>\n",
              "      <td>-0.037289</td>\n",
              "      <td>-0.038728</td>\n",
              "      <td>-0.037214</td>\n",
              "      <td>-0.036902</td>\n",
              "      <td>-0.040210</td>\n",
              "      <td>-0.038165</td>\n",
              "    </tr>\n",
              "    <tr>\n",
              "      <th>2</th>\n",
              "      <td>1540456324962</td>\n",
              "      <td>0.338219</td>\n",
              "      <td>0.338219</td>\n",
              "      <td>0.338219</td>\n",
              "      <td>0.330993</td>\n",
              "      <td>-0.879836</td>\n",
              "      <td>-0.000000</td>\n",
              "      <td>-0.559845</td>\n",
              "      <td>-0.000000</td>\n",
              "      <td>-0.275276</td>\n",
              "      <td>...</td>\n",
              "      <td>-0.037725</td>\n",
              "      <td>-0.037534</td>\n",
              "      <td>-0.036560</td>\n",
              "      <td>-0.036152</td>\n",
              "      <td>-0.036554</td>\n",
              "      <td>-0.036875</td>\n",
              "      <td>-0.037351</td>\n",
              "      <td>-0.036746</td>\n",
              "      <td>-0.038686</td>\n",
              "      <td>-0.036903</td>\n",
              "    </tr>\n",
              "    <tr>\n",
              "      <th>3</th>\n",
              "      <td>1540456325046</td>\n",
              "      <td>-0.049682</td>\n",
              "      <td>-0.049682</td>\n",
              "      <td>-0.049682</td>\n",
              "      <td>0.519086</td>\n",
              "      <td>-0.681150</td>\n",
              "      <td>-0.000000</td>\n",
              "      <td>-0.417230</td>\n",
              "      <td>-0.000000</td>\n",
              "      <td>-0.140451</td>\n",
              "      <td>...</td>\n",
              "      <td>-0.037613</td>\n",
              "      <td>-0.037168</td>\n",
              "      <td>-0.036369</td>\n",
              "      <td>-0.034549</td>\n",
              "      <td>-0.036252</td>\n",
              "      <td>-0.037948</td>\n",
              "      <td>-0.036713</td>\n",
              "      <td>-0.035706</td>\n",
              "      <td>-0.038203</td>\n",
              "      <td>-0.036822</td>\n",
              "    </tr>\n",
              "    <tr>\n",
              "      <th>4</th>\n",
              "      <td>1540456325129</td>\n",
              "      <td>0.335086</td>\n",
              "      <td>0.335086</td>\n",
              "      <td>0.335086</td>\n",
              "      <td>-0.041393</td>\n",
              "      <td>-0.000000</td>\n",
              "      <td>-1.802774</td>\n",
              "      <td>-0.510417</td>\n",
              "      <td>-0.000000</td>\n",
              "      <td>-0.000000</td>\n",
              "      <td>...</td>\n",
              "      <td>-0.040919</td>\n",
              "      <td>-0.038288</td>\n",
              "      <td>-0.035840</td>\n",
              "      <td>-0.035638</td>\n",
              "      <td>-0.039504</td>\n",
              "      <td>-0.040093</td>\n",
              "      <td>-0.039953</td>\n",
              "      <td>-0.037656</td>\n",
              "      <td>-0.038082</td>\n",
              "      <td>-0.035900</td>\n",
              "    </tr>\n",
              "  </tbody>\n",
              "</table>\n",
              "<p>5 rows × 3649 columns</p>\n",
              "</div>\n",
              "      <button class=\"colab-df-convert\" onclick=\"convertToInteractive('df-26c23f81-df84-4e17-8bc7-4db42fac3d1f')\"\n",
              "              title=\"Convert this dataframe to an interactive table.\"\n",
              "              style=\"display:none;\">\n",
              "        \n",
              "  <svg xmlns=\"http://www.w3.org/2000/svg\" height=\"24px\"viewBox=\"0 0 24 24\"\n",
              "       width=\"24px\">\n",
              "    <path d=\"M0 0h24v24H0V0z\" fill=\"none\"/>\n",
              "    <path d=\"M18.56 5.44l.94 2.06.94-2.06 2.06-.94-2.06-.94-.94-2.06-.94 2.06-2.06.94zm-11 1L8.5 8.5l.94-2.06 2.06-.94-2.06-.94L8.5 2.5l-.94 2.06-2.06.94zm10 10l.94 2.06.94-2.06 2.06-.94-2.06-.94-.94-2.06-.94 2.06-2.06.94z\"/><path d=\"M17.41 7.96l-1.37-1.37c-.4-.4-.92-.59-1.43-.59-.52 0-1.04.2-1.43.59L10.3 9.45l-7.72 7.72c-.78.78-.78 2.05 0 2.83L4 21.41c.39.39.9.59 1.41.59.51 0 1.02-.2 1.41-.59l7.78-7.78 2.81-2.81c.8-.78.8-2.07 0-2.86zM5.41 20L4 18.59l7.72-7.72 1.47 1.35L5.41 20z\"/>\n",
              "  </svg>\n",
              "      </button>\n",
              "      \n",
              "  <style>\n",
              "    .colab-df-container {\n",
              "      display:flex;\n",
              "      flex-wrap:wrap;\n",
              "      gap: 12px;\n",
              "    }\n",
              "\n",
              "    .colab-df-convert {\n",
              "      background-color: #E8F0FE;\n",
              "      border: none;\n",
              "      border-radius: 50%;\n",
              "      cursor: pointer;\n",
              "      display: none;\n",
              "      fill: #1967D2;\n",
              "      height: 32px;\n",
              "      padding: 0 0 0 0;\n",
              "      width: 32px;\n",
              "    }\n",
              "\n",
              "    .colab-df-convert:hover {\n",
              "      background-color: #E2EBFA;\n",
              "      box-shadow: 0px 1px 2px rgba(60, 64, 67, 0.3), 0px 1px 3px 1px rgba(60, 64, 67, 0.15);\n",
              "      fill: #174EA6;\n",
              "    }\n",
              "\n",
              "    [theme=dark] .colab-df-convert {\n",
              "      background-color: #3B4455;\n",
              "      fill: #D2E3FC;\n",
              "    }\n",
              "\n",
              "    [theme=dark] .colab-df-convert:hover {\n",
              "      background-color: #434B5C;\n",
              "      box-shadow: 0px 1px 3px 1px rgba(0, 0, 0, 0.15);\n",
              "      filter: drop-shadow(0px 1px 2px rgba(0, 0, 0, 0.3));\n",
              "      fill: #FFFFFF;\n",
              "    }\n",
              "  </style>\n",
              "\n",
              "      <script>\n",
              "        const buttonEl =\n",
              "          document.querySelector('#df-26c23f81-df84-4e17-8bc7-4db42fac3d1f button.colab-df-convert');\n",
              "        buttonEl.style.display =\n",
              "          google.colab.kernel.accessAllowed ? 'block' : 'none';\n",
              "\n",
              "        async function convertToInteractive(key) {\n",
              "          const element = document.querySelector('#df-26c23f81-df84-4e17-8bc7-4db42fac3d1f');\n",
              "          const dataTable =\n",
              "            await google.colab.kernel.invokeFunction('convertToInteractive',\n",
              "                                                     [key], {});\n",
              "          if (!dataTable) return;\n",
              "\n",
              "          const docLinkHtml = 'Like what you see? Visit the ' +\n",
              "            '<a target=\"_blank\" href=https://colab.research.google.com/notebooks/data_table.ipynb>data table notebook</a>'\n",
              "            + ' to learn more about interactive tables.';\n",
              "          element.innerHTML = '';\n",
              "          dataTable['output_type'] = 'display_data';\n",
              "          await google.colab.output.renderOutput(dataTable, element);\n",
              "          const docLink = document.createElement('div');\n",
              "          docLink.innerHTML = docLinkHtml;\n",
              "          element.appendChild(docLink);\n",
              "        }\n",
              "      </script>\n",
              "    </div>\n",
              "  </div>\n",
              "  "
            ]
          },
          "metadata": {},
          "execution_count": 6
        }
      ]
    },
    {
      "cell_type": "code",
      "source": [
        "df.to_csv('/content/drive/MyDrive/DSF-FS22/data/task1/CCD-Data.csv') # creates a csv file containg only the data and saves it into a folder called \"task1\""
      ],
      "metadata": {
        "id": "bEjku8EsC9fq"
      },
      "execution_count": 7,
      "outputs": []
    },
    {
      "cell_type": "code",
      "source": [
        "# % ls -l"
      ],
      "metadata": {
        "id": "3LAo0t7ZXl6Y"
      },
      "execution_count": null,
      "outputs": []
    },
    {
      "cell_type": "markdown",
      "source": [
        "### 2. Reducing data resolution (6 points)\n"
      ],
      "metadata": {
        "id": "KYiCNK5hsvSL"
      }
    },
    {
      "cell_type": "code",
      "source": [
        "print(df.iloc[2, 10])\n",
        "print(df.columns[10])\n",
        "#df.plot([0,1:1000])"
      ],
      "metadata": {
        "id": "nfJkrhBXLWuq",
        "colab": {
          "base_uri": "https://localhost:8080/"
        },
        "outputId": "63aa00dd-71dd-426a-b985-ebfde1af534a"
      },
      "execution_count": 8,
      "outputs": [
        {
          "output_type": "stream",
          "name": "stdout",
          "text": [
            "0.627907\n",
            "317.8332\n"
          ]
        }
      ]
    },
    {
      "cell_type": "code",
      "source": [
        "\n",
        "x = df.iloc[:,0]\n",
        "y = df.iloc[:,1950]\n",
        "plt.plot(x,y)"
      ],
      "metadata": {
        "id": "XwqqQFW_Zdky",
        "outputId": "8650a10e-1473-48d0-d063-6b209db33521",
        "colab": {
          "base_uri": "https://localhost:8080/",
          "height": 295
        }
      },
      "execution_count": 9,
      "outputs": [
        {
          "output_type": "execute_result",
          "data": {
            "text/plain": [
              "[<matplotlib.lines.Line2D at 0x7faf15a505d0>]"
            ]
          },
          "metadata": {},
          "execution_count": 9
        },
        {
          "output_type": "display_data",
          "data": {
            "text/plain": [
              "<Figure size 432x288 with 1 Axes>"
            ],
            "image/png": "[encoded data removed]"
          },
          "metadata": {
            "needs_background": "light"
          }
        }
      ]
    },
    {
      "cell_type": "code",
      "source": [
        "# x = df.iloc[0,1:-1]\n",
        "# y = df.iloc[10,:]\n",
        "# plt.plot(x,y)\n",
        "\n",
        "df1 = df.iloc[0,1:-1]\n",
        "print(df1.shape)\n",
        "df1.plot()"
      ],
      "metadata": {
        "id": "wlHzxb44obd8",
        "outputId": "2f9f344c-0c26-47d5-d303-87d94425b6bd",
        "colab": {
          "base_uri": "https://localhost:8080/",
          "height": 303
        }
      },
      "execution_count": 10,
      "outputs": [
        {
          "output_type": "stream",
          "name": "stdout",
          "text": [
            "(3647,)\n"
          ]
        },
        {
          "output_type": "execute_result",
          "data": {
            "text/plain": [
              "<matplotlib.axes._subplots.AxesSubplot at 0x7faf14b64f10>"
            ]
          },
          "metadata": {},
          "execution_count": 10
        },
        {
          "output_type": "display_data",
          "data": {
            "text/plain": [
              "<Figure size 432x288 with 1 Axes>"
            ],
            "image/png": "[encoded data removed]"
          },
          "metadata": {
            "needs_background": "light"
          }
        }
      ]
    },
    {
      "cell_type": "code",
      "source": [
        "x = df.iloc[:,0]\n",
        "y = -(df.iloc[:,1950]-df.iloc[:,1800])\n",
        "plt.plot(x,y)"
      ],
      "metadata": {
        "id": "zuhs2B8gbHnA",
        "outputId": "17c67ddf-000d-46c1-c069-d0d2e21ac353",
        "colab": {
          "base_uri": "https://localhost:8080/",
          "height": 295
        }
      },
      "execution_count": 11,
      "outputs": [
        {
          "output_type": "execute_result",
          "data": {
            "text/plain": [
              "[<matplotlib.lines.Line2D at 0x7faf15312110>]"
            ]
          },
          "metadata": {},
          "execution_count": 11
        },
        {
          "output_type": "display_data",
          "data": {
            "text/plain": [
              "<Figure size 432x288 with 1 Axes>"
            ],
            "image/png": "[encoded data removed]"
          },
          "metadata": {
            "needs_background": "light"
          }
        }
      ]
    },
    {
      "cell_type": "code",
      "source": [
        "time = df.iloc[:,0]\n",
        "\n",
        "time_zero = time[0]\n",
        "\n",
        "L = []\n",
        "\n",
        "for i in range(len(time)):\n",
        "  time[i] = time[i] - time_zero\n",
        "  L.append(time[i])\n",
        "print(L)"
      ],
      "metadata": {
        "id": "kBcRB8mFmeaw",
        "outputId": "c45b2740-ba8a-4244-a128-73f866832ab1",
        "colab": {
          "base_uri": "https://localhost:8080/"
        }
      },
      "execution_count": 80,
      "outputs": [
        {
          "output_type": "stream",
          "name": "stderr",
          "text": [
            "/usr/local/lib/python3.7/dist-packages/ipykernel_launcher.py:13: SettingWithCopyWarning: \n",
            "A value is trying to be set on a copy of a slice from a DataFrame\n",
            "\n",
            "See the caveats in the documentation: https://pandas.pydata.org/pandas-docs/stable/user_guide/indexing.html#returning-a-view-versus-a-copy\n",
            "  del sys.path[0]\n"
          ]
        },
        {
          "output_type": "stream",
          "name": "stdout",
          "text": [
            "[0, 1, -2, 1, -4, 8, -8, 8, -4, 0, -1, -2, 7, -12, 16, -8, 0, 0, 1, -2, -3, 4, 4, -4, 0, -4, 8, -16, 23, -10, -1, 0, 0, 0, 0, 1, -2, -3, 8, -4, 0, 0, 0, 0, -4, 8, -5, 2, -1, -4, 8, -3, -2, -3, 8, -4, 0, 0, 0, 0, 0, 0, 0, -4, 8, -4, -1, 2, 0, -6, 9, -4, 0, -4, 8, -4, 0, 0, 0, 0, 0, 0, 0, 0, 0, -4, 8, -8, 8, -4, 0, 0, -4, 8, -4, 0, 0, 0, 0, 0, 0, 0, 1, -3, 3, -1, 0, 0, 0, 0, 0, 0, 0, 0, -4, 8, -4, 0, -4, 9, -6, 1, -1, -2, 7, -4, 0, 0, -4, 8, -4, 0, 0, 0, -4, 9, -6, 1, 0, 0, -4, 7, -2, -1, 0, 0, 0, 0, 0, 0, -4, 8, -7, 6, -3, 0, 0, 0, 0, -1, 2, -1, 0, 0, 0, 0, 0, -4, 8, -3, -2, 1, 0, 0, 0, 0, 0, 0, -1, 2, -1, 0, 0, -4, 8, -4, 1, -2, -3, 8, -4, -4, 8, -8, 8, -4, 0, -1, 2, -1, 0, 0, 0, 1, -2, -3, 8, -4, 0, 0, 0, 0, 0, 0, 0, 0, -5, 10, -5, 1, -2, 1, 0, 0, 0, 0, 0, 0, 0, 0, 0, 0, 0, 0, 0, -1, 3, -3, 1, -4, 8, -4, 0, 0, 0, 0, 0, 0, -4, 8, -4, 0, 0, -8, 16, -8, 0, 0, 0, 0, 0, 0, 0, 0, 0, -4, 8, -4, 0, 0, 1, -2, 0, 2, -1, 0, -4, 8, -4, 0, -4, 4, -12, 28, -16, 0, 1, -2, 1, 0, -1, 2, -1, 0, 0, 0, 0, 0, 0, -4, 8, -4, 0, 1, -2, 1, 0, 0, 0, -1, 2, -1, 0, 0, -4, 8, -4, 0, 0, 0, 1, -2, 1, 0, 0, 0, 0, 0, -1, 2, -5, 8, -4, 0, 0, -4, 8, -3, -2, 1, 0, 0, 0, 0, 0, 0, 0, -5, 10, -9, 8, -4, 1540456354828, -3080912709572, 1540456354744]\n"
          ]
        }
      ]
    },
    {
      "cell_type": "code",
      "source": [
        "type(time)"
      ],
      "metadata": {
        "id": "s1Fg3uXs3S6-",
        "outputId": "2115206b-4d21-43bb-aa74-819c1bd77404",
        "colab": {
          "base_uri": "https://localhost:8080/"
        }
      },
      "execution_count": 61,
      "outputs": [
        {
          "output_type": "execute_result",
          "data": {
            "text/plain": [
              "pandas.core.series.Series"
            ]
          },
          "metadata": {},
          "execution_count": 61
        }
      ]
    },
    {
      "cell_type": "code",
      "source": [
        "# df[0].apply(lambda x: x-df.iloc[[0],[1]])"
      ],
      "metadata": {
        "id": "rJraUQH0AU8D"
      },
      "execution_count": 83,
      "outputs": []
    }
  ]
}