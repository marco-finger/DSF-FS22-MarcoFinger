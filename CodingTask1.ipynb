{
  "nbformat": 4,
  "nbformat_minor": 0,
  "metadata": {
    "colab": {
      "name": "CodingTask1.ipynb",
      "provenance": [],
      "toc_visible": true,
      "include_colab_link": true
    },
    "kernelspec": {
      "name": "python3",
      "display_name": "Python 3"
    },
    "language_info": {
      "name": "python"
    }
  },
  "cells": [
    {
      "cell_type": "markdown",
      "metadata": {
        "id": "view-in-github",
        "colab_type": "text"
      },
      "source": [
        "<a href=\"https://colab.research.google.com/github/marco-finger/derLauch/blob/main/CodingTask1.ipynb\" target=\"_parent\"><img src=\"https://colab.research.google.com/assets/colab-badge.svg\" alt=\"Open In Colab\"/></a>"
      ]
    },
    {
      "cell_type": "markdown",
      "source": [
        "Data Science Fundamentals for DCBP, S. Haug, University of Bern "
      ],
      "metadata": {
        "id": "_-1mhuoK6uqC"
      }
    },
    {
      "cell_type": "markdown",
      "source": [
        "# Coding Task 1\n",
        "\n",
        "- Deadline (upload to Ilias): 2022-03-20 24:00\n",
        "- Estimated effort: 2-5 hours\n",
        "- Data on Ilias (4ms_...) with metadata file CCD-Metadata\n"
      ],
      "metadata": {
        "id": "gn4RkUC66-ou"
      }
    },
    {
      "cell_type": "markdown",
      "source": [
        "## Tasks (maximum 12.5 points)"
      ],
      "metadata": {
        "id": "KYKF2iS56v1z"
      }
    },
    {
      "cell_type": "markdown",
      "source": [
        "- Write a method (function) which removes the header information in the datafile and saves that information into a separate textfile. [0.5 points] \n",
        "- Write a function which reduces the data resolution by averaging over 1, 2, 3 and 4 nm wavelengths. Save these 4 new reduced datasets in new files. Do this (1) by writing an explicit loop and (2) by using pandas methods. Measure the running times of the two approaches. [6 points]\n",
        "- Write a function which takes two wavelengths as input and plots the difference of the data at these lengths over time. [2 points] \n",
        "- Let the x-axis be in seconds, label the axes with names and units, label the plot with color and legend, make a title for the plot. Save the plot to a file. [2 points]\n",
        "- Plot the full and the reduced datasets in the same figure. Is there any visual difference? [2 points]"
      ],
      "metadata": {
        "id": "rXqhhPMu9aPx"
      }
    },
    {
      "cell_type": "code",
      "source": [
        "# import of standard libraries\n",
        "import numpy as np\n",
        "import pandas as pd\n",
        "import matplotlib.pyplot as plt"
      ],
      "metadata": {
        "id": "OfvMackX-SFc"
      },
      "execution_count": null,
      "outputs": []
    },
    {
      "cell_type": "code",
      "source": [
        "# mount dataset from Google drive\n",
        "from google.colab import drive\n",
        "drive.mount('/content/drive')\n",
        "path = '/content/drive/MyDrive/DSF-FS22/data/task1/4ms_10 av_30 s_Absorbance_10-32-04-868.txt'"
      ],
      "metadata": {
        "id": "TaPLqlKE-cjI",
        "outputId": "7bc41e0d-8ade-4847-846e-6ab822b42274",
        "colab": {
          "base_uri": "https://localhost:8080/"
        }
      },
      "execution_count": null,
      "outputs": [
        {
          "output_type": "stream",
          "name": "stdout",
          "text": [
            "Drive already mounted at /content/drive; to attempt to forcibly remount, call drive.mount(\"/content/drive\", force_remount=True).\n"
          ]
        }
      ]
    },
    {
      "cell_type": "code",
      "source": [
        "# studying dataframe\n",
        "# df.info()\n",
        "# df.describe()\n",
        "# df.head()\n",
        "# df.tail()"
      ],
      "metadata": {
        "id": "ysBDmf36-_DQ"
      },
      "execution_count": null,
      "outputs": []
    },
    {
      "cell_type": "markdown",
      "source": [
        "### 1. Removing header (0.5 points)"
      ],
      "metadata": {
        "id": "mQjwil2Jshxr"
      }
    },
    {
      "cell_type": "markdown",
      "source": [
        "#### Old approach"
      ],
      "metadata": {
        "id": "xhslw8M__QKL"
      }
    },
    {
      "cell_type": "code",
      "source": [
        "# df = pd.read_csv(path, delimiter='\\t', header = 13) # header taken as from row 13 \n",
        "# df = df.drop(columns = \"Unnamed: 0\") # removes the redundant first column\n",
        "# df.to_csv('/content/drive/MyDrive/DSF-FS22/data/task1/CCD-Data.csv') # creates a csv file containg only the data and saves it into a folder called \"task1\"\n",
        "# df = df.rename(columns={\"Unnamed: 1\": \"time\"}) # calling first column \"time\""
      ],
      "metadata": {
        "id": "g-a98OD9_PLq"
      },
      "execution_count": null,
      "outputs": []
    },
    {
      "cell_type": "markdown",
      "source": [
        "#### New approach"
      ],
      "metadata": {
        "id": "q9KiFMV1_HT8"
      }
    },
    {
      "cell_type": "code",
      "source": [
        "def remove_header(path): # function that removes the header (argument = path)\n",
        "    header = [] # empty list\n",
        "    try: # see https://docs.python.org/3/tutorial/errors.html for the try-clause \n",
        "        file = open(path, encoding = 'utf-8') # for meaning of utf-8, see: https://en.wikipedia.org/wiki/UTF-8\n",
        "        for line in iter(file.readline, b''): # iteration over header columns; see https://stackoverflow.com/a/12944855\n",
        "            if line == \">>>>>Begin Spectral Data<<<<<\\n\": # start of the spectrum; looking for the indicated string in the csv file\n",
        "                break # see notebook 03_Basic_Python_2.ipynb\n",
        "            header.append(line) # appends lines to header\n",
        "    finally: # see: https://www.geeksforgeeks.org/try-except-else-and-finally-in-python/ for finally-clause\n",
        "        file.close() # https://www.tutorialspoint.com/python/file_close.htm (close method)\n",
        "    return header # output of code"
      ],
      "metadata": {
        "id": "OqNCHfvhupWN"
      },
      "execution_count": null,
      "outputs": []
    },
    {
      "cell_type": "code",
      "source": [
        "header = remove_header(\"/content/drive/MyDrive/DSF-FS22/data/task1/4ms_10 av_30 s_Absorbance_10-32-04-868.txt\")"
      ],
      "metadata": {
        "id": "D--tfse9u_qj"
      },
      "execution_count": null,
      "outputs": []
    },
    {
      "cell_type": "code",
      "source": [
        "def save_header(header, path): # function to save header information as a seperate file\n",
        "    try:\n",
        "        file = open(path, 'w', encoding = 'utf-8') # utf-8 encoded text file\n",
        "        for line in header: # iteration over all header lines\n",
        "            file.write(line) # writes a file with the respective lines\n",
        "    finally:\n",
        "        file.close()"
      ],
      "metadata": {
        "id": "9mE4f3Ravc2_"
      },
      "execution_count": null,
      "outputs": []
    },
    {
      "cell_type": "code",
      "source": [
        "save_header(header, '/content/drive/MyDrive/DSF-FS22/data/task1/CCD-Header.csv') # saves the header information into file called \"CCD-Header.csv\""
      ],
      "metadata": {
        "id": "599tcMhyvs2V"
      },
      "execution_count": null,
      "outputs": []
    },
    {
      "cell_type": "code",
      "source": [
        "def split_data(path, filename): # function that splits the original csv file into header and data\n",
        "    lines = [] \n",
        "\n",
        "    # Split file into header and data\n",
        "    try:\n",
        "        file = open(path + filename, encoding = 'utf-8')\n",
        "        # read and store all lines into list\n",
        "        lines = file.readlines()\n",
        "        file.close()\n",
        "        # Open header file\n",
        "        file = open(path + 'CCD-Header.csv', 'w', encoding = 'utf-8')\n",
        "        for line in lines:\n",
        "            if line == \">>>>>Begin Spectral Data<<<<<\\n\":\n",
        "                # Switch to data file\n",
        "                file.close()\n",
        "                file = open(path + 'CCD-Data.csv', 'w', encoding = 'utf-8')\n",
        "                continue\n",
        "            file.write(line)\n",
        "    finally:\n",
        "        file.close()"
      ],
      "metadata": {
        "id": "2l8Iokt6wIJj"
      },
      "execution_count": null,
      "outputs": []
    },
    {
      "cell_type": "code",
      "source": [
        "split_data(\"/content/drive/MyDrive/DSF-FS22/data/task1/\", \"4ms_10 av_30 s_Absorbance_10-32-04-868.txt\")"
      ],
      "metadata": {
        "id": "uxKd7xFJwa7w"
      },
      "execution_count": null,
      "outputs": []
    },
    {
      "cell_type": "markdown",
      "source": [
        "### 2. Reducing data resolution (6 points)\n"
      ],
      "metadata": {
        "id": "KYiCNK5hsvSL"
      }
    },
    {
      "cell_type": "markdown",
      "source": [
        "#### Loop approach"
      ],
      "metadata": {
        "id": "sNCvycko_amZ"
      }
    },
    {
      "cell_type": "code",
      "source": [
        "wavelengths = [] # save wavelengths as a list\n",
        "try:\n",
        "    f = open(\"/content/drive/MyDrive/DSF-FS22/data/task1/\" + \"CCD-Data.csv\") # where to grap the data\n",
        "    # remove the first two values and convert to float by applying a map function\n",
        "    wavelengths = list(map(float, f.readline().split(\"\\t\")[2:])) # wavelengths start with index 2\n",
        "finally:\n",
        "    f.close()"
      ],
      "metadata": {
        "id": "Yf-sIMRx2rgN"
      },
      "execution_count": null,
      "outputs": []
    },
    {
      "cell_type": "code",
      "source": [
        "wavelengths[0:10] # call the wavelengths saved as a list"
      ],
      "metadata": {
        "colab": {
          "base_uri": "https://localhost:8080/"
        },
        "id": "J2efAlmw3EJI",
        "outputId": "a0424b1d-1da4-4b05-abe4-314511f0c9d9"
      },
      "execution_count": null,
      "outputs": [
        {
          "output_type": "execute_result",
          "data": {
            "text/plain": [
              "[316.6137,\n",
              " 316.7492,\n",
              " 316.8847,\n",
              " 317.0203,\n",
              " 317.1558,\n",
              " 317.2913,\n",
              " 317.4268,\n",
              " 317.5623,\n",
              " 317.6977,\n",
              " 317.8332]"
            ]
          },
          "metadata": {},
          "execution_count": 163
        }
      ]
    },
    {
      "cell_type": "code",
      "source": [
        "def extract_indices(wavelengths, binning_value): # binning_value means data resolution\n",
        "    indices = [0]\n",
        "    for index, wavelength in enumerate(wavelengths): # interation through a list using the enumerate() method\n",
        "        if (int(wavelength) - int(wavelengths[indices[-1]]) < binning_value): # float to int conversion; binning wavelength indices within \"binning_value\"\n",
        "            continue\n",
        "        indices.append(index)\n",
        "    return indices"
      ],
      "metadata": {
        "id": "z0U38rK73RF9"
      },
      "execution_count": null,
      "outputs": []
    },
    {
      "cell_type": "code",
      "source": [
        "indices = extract_indices(wavelengths, 4)"
      ],
      "metadata": {
        "id": "hHtNVLcQ3Trq"
      },
      "execution_count": null,
      "outputs": []
    },
    {
      "cell_type": "code",
      "source": [
        "zipped_indices = list(zip(indices, indices[1:])) # https://note.nkmk.me/en/python-for-enumerate-zip/ geting elements for lists"
      ],
      "metadata": {
        "id": "d2jUcgnH3cqP"
      },
      "execution_count": null,
      "outputs": []
    },
    {
      "cell_type": "code",
      "source": [
        "zipped_indices[:4]"
      ],
      "metadata": {
        "colab": {
          "base_uri": "https://localhost:8080/"
        },
        "id": "C0-RUwJI3gEx",
        "outputId": "c529d205-3779-430b-e5b8-8cbfccd7a66c"
      },
      "execution_count": null,
      "outputs": [
        {
          "output_type": "execute_result",
          "data": {
            "text/plain": [
              "[(0, 25), (25, 55), (55, 85), (85, 114)]"
            ]
          },
          "metadata": {},
          "execution_count": 167
        }
      ]
    },
    {
      "cell_type": "code",
      "source": [
        "def aggregate_explicit(path, data_filename, indices):\n",
        "    lines = []\n",
        "    # Split file into header and data\n",
        "    try:\n",
        "        file = open(path + data_filename, encoding = 'utf-8')\n",
        "        # read and store all lines but first into list\n",
        "        lines = file.readlines()[1:]\n",
        "        file.close()\n",
        "        file = open(path + \"CCD-Data_aggregated.txt\", 'w', encoding = 'utf-8')\n",
        "        for line in lines:\n",
        "            # extract values\n",
        "            values = line.split(\"\\t\")\n",
        "            # write timestamps\n",
        "            file.write(\"\\t\".join(values[:2]))\n",
        "            # skip timestamp and convert values to float\n",
        "            values = list(map(float, values[2:]))\n",
        "            for (start, end) in indices:\n",
        "                file.write(\"\\t\")\n",
        "                # calculate mean\n",
        "                value = sum(values[start:end]) / (end - start)\n",
        "                file.write(str(value))\n",
        "            file.write(\"\\n\")\n",
        "    finally:\n",
        "        file.close()"
      ],
      "metadata": {
        "id": "TuvMk_uq3w-q"
      },
      "execution_count": null,
      "outputs": []
    },
    {
      "cell_type": "code",
      "source": [
        "aggregate_explicit(\"/content/drive/MyDrive/DSF-FS22/data/task1/\", \"CCD-Data.csv\", zipped_indices) "
      ],
      "metadata": {
        "id": "ILI1iXDm6M7N"
      },
      "execution_count": null,
      "outputs": []
    },
    {
      "cell_type": "code",
      "source": [
        "# measuring run time of the loop approach\n",
        "%%timeit -n 10000 -r 5      \n",
        "\n",
        "def explicit_aggregate_wavelengths(path, data_filename, binning_value):\n",
        "    try:\n",
        "        file = open(path + data_filename)\n",
        "        # remove the first two values and convert to float by applying a map function\n",
        "        wavelengths = list(map(float, file.readline().split(\"\\t\")[2:]))\n",
        "        indices = [0]\n",
        "        for index, wavelength in enumerate(wavelengths):\n",
        "            if (int(wavelength) - int(wavelengths[indices[-1]]) < binning_value):\n",
        "                continue\n",
        "            indices.append(index)\n",
        "        zipped_indices = list(zip(indices, indices[1:]))\n",
        "        lines = file.readlines()\n",
        "        file.close()\n",
        "        file = open(path + \"CCD-Data_\" + str(binning_value) + \"nm.txt\", 'w', encoding = 'utf-8')\n",
        "        for line in lines:\n",
        "            # extract values\n",
        "            values = line.split(\"\\t\")\n",
        "            # write timestamps\n",
        "            file.write(\"\\t\".join(values[:2]))\n",
        "            # skip timestamp and convert values to float\n",
        "            values = list(map(float, values[2:]))\n",
        "            for (start, end) in zipped_indices:\n",
        "                file.write(\"\\t\")\n",
        "                # calculate mean\n",
        "                value = sum(values[start:end]) / (end - start)\n",
        "                file.write(str(value))\n",
        "            file.write(\"\\n\")\n",
        "    finally:\n",
        "        f.close()   "
      ],
      "metadata": {
        "colab": {
          "base_uri": "https://localhost:8080/"
        },
        "id": "2dw-lt1P6g22",
        "outputId": "ef4f9f15-399a-46ab-f00e-0bbe3183254a"
      },
      "execution_count": null,
      "outputs": [
        {
          "output_type": "stream",
          "name": "stdout",
          "text": [
            "10000 loops, best of 5: 73.1 ns per loop\n"
          ]
        }
      ]
    },
    {
      "cell_type": "code",
      "source": [
        "for i in [1,2,3,4]: # for binning with resolutions of 1-4 nm\n",
        "    explicit_aggregate_wavelengths(\"/content/drive/MyDrive/DSF-FS22/data/task1/\", \"CCD-Data.csv\", i)"
      ],
      "metadata": {
        "id": "Gs_FERsN7cRH"
      },
      "execution_count": null,
      "outputs": []
    },
    {
      "cell_type": "markdown",
      "source": [
        "#### Pandas approach"
      ],
      "metadata": {
        "id": "4ddRzE_S_f6R"
      }
    },
    {
      "cell_type": "code",
      "source": [
        "df = pd.read_table(\"/content/drive/MyDrive/DSF-FS22/data/task1/CCD-Data.csv\")\n",
        "df"
      ],
      "metadata": {
        "colab": {
          "base_uri": "https://localhost:8080/",
          "height": 653
        },
        "id": "G7Sr5q8s9cuO",
        "outputId": "347aab80-6034-476d-bd18-768ae21740dc"
      },
      "execution_count": null,
      "outputs": [
        {
          "output_type": "execute_result",
          "data": {
            "text/plain": [
              "                     Unnamed: 0     Unnamed: 1  316.6137  316.7492  316.8847  \\\n",
              "0    2018-10-25 10:32:04.789000  1540456324789  0.329672  0.329672  0.329672   \n",
              "1    2018-10-25 10:32:04.878000  1540456324878 -0.044412 -0.044412 -0.044412   \n",
              "2    2018-10-25 10:32:04.962000  1540456324962  0.338219  0.338219  0.338219   \n",
              "3    2018-10-25 10:32:05.046000  1540456325046 -0.049682 -0.049682 -0.049682   \n",
              "4    2018-10-25 10:32:05.129000  1540456325129  0.335086  0.335086  0.335086   \n",
              "..                          ...            ...       ...       ...       ...   \n",
              "350  2018-10-25 10:32:34.404000  1540456354404 -0.048929 -0.048929 -0.048929   \n",
              "351  2018-10-25 10:32:34.488000  1540456354488  0.851907  0.851907  0.851907   \n",
              "352  2018-10-25 10:32:34.576000  1540456354576  0.329255  0.329255  0.329255   \n",
              "353  2018-10-25 10:32:34.660000  1540456354660  0.330061  0.330061  0.330061   \n",
              "354  2018-10-25 10:32:34.744000  1540456354744  0.101879  0.101879  0.101879   \n",
              "\n",
              "     317.0203  317.1558  317.2913  317.4268  317.5623  ...  778.9703  \\\n",
              "0    0.090294 -0.716926 -1.829304 -0.686330 -0.428776  ... -0.038483   \n",
              "1    0.157632 -0.672423 -2.183981 -0.492421 -0.000000  ... -0.039428   \n",
              "2    0.330993 -0.879836 -0.000000 -0.559845 -0.000000  ... -0.037725   \n",
              "3    0.519086 -0.681150 -0.000000 -0.417230 -0.000000  ... -0.037613   \n",
              "4   -0.041393 -0.000000 -1.802774 -0.510417 -0.000000  ... -0.040919   \n",
              "..        ...       ...       ...       ...       ...  ...       ...   \n",
              "350 -0.052674 -0.739370 -2.155336 -0.520450 -0.000000  ... -0.038112   \n",
              "351 -0.111298 -0.639166 -2.039414 -0.531784 -0.000000  ... -0.036887   \n",
              "352  0.064351  0.316582 -2.107210 -0.298427  0.570461  ... -0.037311   \n",
              "353  0.081473 -0.525273 -1.750123 -0.134352  0.243550  ... -0.036267   \n",
              "354  0.177809 -0.456259 -0.000000 -0.157833 -0.376095  ... -0.037316   \n",
              "\n",
              "      779.089  779.2076  779.3263  779.4449  779.5636  779.6822  779.8008  \\\n",
              "0   -0.039623 -0.036920 -0.037309 -0.037299 -0.037476 -0.036856 -0.036853   \n",
              "1   -0.038486 -0.037309 -0.036357 -0.037289 -0.038728 -0.037214 -0.036902   \n",
              "2   -0.037534 -0.036560 -0.036152 -0.036554 -0.036875 -0.037351 -0.036746   \n",
              "3   -0.037168 -0.036369 -0.034549 -0.036252 -0.037948 -0.036713 -0.035706   \n",
              "4   -0.038288 -0.035840 -0.035638 -0.039504 -0.040093 -0.039953 -0.037656   \n",
              "..        ...       ...       ...       ...       ...       ...       ...   \n",
              "350 -0.036615 -0.035938 -0.034245 -0.035340 -0.037055 -0.035771 -0.036557   \n",
              "351 -0.036921 -0.035249 -0.033394 -0.035231 -0.035815 -0.037457 -0.035020   \n",
              "352 -0.036231 -0.037977 -0.033525 -0.035225 -0.036255 -0.036670 -0.036079   \n",
              "353 -0.036341 -0.037307 -0.035010 -0.036073 -0.036282 -0.036911 -0.036554   \n",
              "354 -0.035830 -0.036852 -0.034170 -0.034227 -0.035085 -0.035308 -0.034768   \n",
              "\n",
              "     779.9194  780.0381  \n",
              "0   -0.039100 -0.035545  \n",
              "1   -0.040210 -0.038165  \n",
              "2   -0.038686 -0.036903  \n",
              "3   -0.038203 -0.036822  \n",
              "4   -0.038082 -0.035900  \n",
              "..        ...       ...  \n",
              "350 -0.037451 -0.033582  \n",
              "351 -0.038338 -0.035408  \n",
              "352 -0.038006 -0.035039  \n",
              "353 -0.037560 -0.034496  \n",
              "354 -0.036334 -0.034725  \n",
              "\n",
              "[355 rows x 3650 columns]"
            ],
            "text/html": [
              "\n",
              "  <div id=\"df-fbfce8b1-d0a5-456d-b9c6-ade9962ebc2a\">\n",
              "    <div class=\"colab-df-container\">\n",
              "      <div>\n",
              "<style scoped>\n",
              "    .dataframe tbody tr th:only-of-type {\n",
              "        vertical-align: middle;\n",
              "    }\n",
              "\n",
              "    .dataframe tbody tr th {\n",
              "        vertical-align: top;\n",
              "    }\n",
              "\n",
              "    .dataframe thead th {\n",
              "        text-align: right;\n",
              "    }\n",
              "</style>\n",
              "<table border=\"1\" class=\"dataframe\">\n",
              "  <thead>\n",
              "    <tr style=\"text-align: right;\">\n",
              "      <th></th>\n",
              "      <th>Unnamed: 0</th>\n",
              "      <th>Unnamed: 1</th>\n",
              "      <th>316.6137</th>\n",
              "      <th>316.7492</th>\n",
              "      <th>316.8847</th>\n",
              "      <th>317.0203</th>\n",
              "      <th>317.1558</th>\n",
              "      <th>317.2913</th>\n",
              "      <th>317.4268</th>\n",
              "      <th>317.5623</th>\n",
              "      <th>...</th>\n",
              "      <th>778.9703</th>\n",
              "      <th>779.089</th>\n",
              "      <th>779.2076</th>\n",
              "      <th>779.3263</th>\n",
              "      <th>779.4449</th>\n",
              "      <th>779.5636</th>\n",
              "      <th>779.6822</th>\n",
              "      <th>779.8008</th>\n",
              "      <th>779.9194</th>\n",
              "      <th>780.0381</th>\n",
              "    </tr>\n",
              "  </thead>\n",
              "  <tbody>\n",
              "    <tr>\n",
              "      <th>0</th>\n",
              "      <td>2018-10-25 10:32:04.789000</td>\n",
              "      <td>1540456324789</td>\n",
              "      <td>0.329672</td>\n",
              "      <td>0.329672</td>\n",
              "      <td>0.329672</td>\n",
              "      <td>0.090294</td>\n",
              "      <td>-0.716926</td>\n",
              "      <td>-1.829304</td>\n",
              "      <td>-0.686330</td>\n",
              "      <td>-0.428776</td>\n",
              "      <td>...</td>\n",
              "      <td>-0.038483</td>\n",
              "      <td>-0.039623</td>\n",
              "      <td>-0.036920</td>\n",
              "      <td>-0.037309</td>\n",
              "      <td>-0.037299</td>\n",
              "      <td>-0.037476</td>\n",
              "      <td>-0.036856</td>\n",
              "      <td>-0.036853</td>\n",
              "      <td>-0.039100</td>\n",
              "      <td>-0.035545</td>\n",
              "    </tr>\n",
              "    <tr>\n",
              "      <th>1</th>\n",
              "      <td>2018-10-25 10:32:04.878000</td>\n",
              "      <td>1540456324878</td>\n",
              "      <td>-0.044412</td>\n",
              "      <td>-0.044412</td>\n",
              "      <td>-0.044412</td>\n",
              "      <td>0.157632</td>\n",
              "      <td>-0.672423</td>\n",
              "      <td>-2.183981</td>\n",
              "      <td>-0.492421</td>\n",
              "      <td>-0.000000</td>\n",
              "      <td>...</td>\n",
              "      <td>-0.039428</td>\n",
              "      <td>-0.038486</td>\n",
              "      <td>-0.037309</td>\n",
              "      <td>-0.036357</td>\n",
              "      <td>-0.037289</td>\n",
              "      <td>-0.038728</td>\n",
              "      <td>-0.037214</td>\n",
              "      <td>-0.036902</td>\n",
              "      <td>-0.040210</td>\n",
              "      <td>-0.038165</td>\n",
              "    </tr>\n",
              "    <tr>\n",
              "      <th>2</th>\n",
              "      <td>2018-10-25 10:32:04.962000</td>\n",
              "      <td>1540456324962</td>\n",
              "      <td>0.338219</td>\n",
              "      <td>0.338219</td>\n",
              "      <td>0.338219</td>\n",
              "      <td>0.330993</td>\n",
              "      <td>-0.879836</td>\n",
              "      <td>-0.000000</td>\n",
              "      <td>-0.559845</td>\n",
              "      <td>-0.000000</td>\n",
              "      <td>...</td>\n",
              "      <td>-0.037725</td>\n",
              "      <td>-0.037534</td>\n",
              "      <td>-0.036560</td>\n",
              "      <td>-0.036152</td>\n",
              "      <td>-0.036554</td>\n",
              "      <td>-0.036875</td>\n",
              "      <td>-0.037351</td>\n",
              "      <td>-0.036746</td>\n",
              "      <td>-0.038686</td>\n",
              "      <td>-0.036903</td>\n",
              "    </tr>\n",
              "    <tr>\n",
              "      <th>3</th>\n",
              "      <td>2018-10-25 10:32:05.046000</td>\n",
              "      <td>1540456325046</td>\n",
              "      <td>-0.049682</td>\n",
              "      <td>-0.049682</td>\n",
              "      <td>-0.049682</td>\n",
              "      <td>0.519086</td>\n",
              "      <td>-0.681150</td>\n",
              "      <td>-0.000000</td>\n",
              "      <td>-0.417230</td>\n",
              "      <td>-0.000000</td>\n",
              "      <td>...</td>\n",
              "      <td>-0.037613</td>\n",
              "      <td>-0.037168</td>\n",
              "      <td>-0.036369</td>\n",
              "      <td>-0.034549</td>\n",
              "      <td>-0.036252</td>\n",
              "      <td>-0.037948</td>\n",
              "      <td>-0.036713</td>\n",
              "      <td>-0.035706</td>\n",
              "      <td>-0.038203</td>\n",
              "      <td>-0.036822</td>\n",
              "    </tr>\n",
              "    <tr>\n",
              "      <th>4</th>\n",
              "      <td>2018-10-25 10:32:05.129000</td>\n",
              "      <td>1540456325129</td>\n",
              "      <td>0.335086</td>\n",
              "      <td>0.335086</td>\n",
              "      <td>0.335086</td>\n",
              "      <td>-0.041393</td>\n",
              "      <td>-0.000000</td>\n",
              "      <td>-1.802774</td>\n",
              "      <td>-0.510417</td>\n",
              "      <td>-0.000000</td>\n",
              "      <td>...</td>\n",
              "      <td>-0.040919</td>\n",
              "      <td>-0.038288</td>\n",
              "      <td>-0.035840</td>\n",
              "      <td>-0.035638</td>\n",
              "      <td>-0.039504</td>\n",
              "      <td>-0.040093</td>\n",
              "      <td>-0.039953</td>\n",
              "      <td>-0.037656</td>\n",
              "      <td>-0.038082</td>\n",
              "      <td>-0.035900</td>\n",
              "    </tr>\n",
              "    <tr>\n",
              "      <th>...</th>\n",
              "      <td>...</td>\n",
              "      <td>...</td>\n",
              "      <td>...</td>\n",
              "      <td>...</td>\n",
              "      <td>...</td>\n",
              "      <td>...</td>\n",
              "      <td>...</td>\n",
              "      <td>...</td>\n",
              "      <td>...</td>\n",
              "      <td>...</td>\n",
              "      <td>...</td>\n",
              "      <td>...</td>\n",
              "      <td>...</td>\n",
              "      <td>...</td>\n",
              "      <td>...</td>\n",
              "      <td>...</td>\n",
              "      <td>...</td>\n",
              "      <td>...</td>\n",
              "      <td>...</td>\n",
              "      <td>...</td>\n",
              "      <td>...</td>\n",
              "    </tr>\n",
              "    <tr>\n",
              "      <th>350</th>\n",
              "      <td>2018-10-25 10:32:34.404000</td>\n",
              "      <td>1540456354404</td>\n",
              "      <td>-0.048929</td>\n",
              "      <td>-0.048929</td>\n",
              "      <td>-0.048929</td>\n",
              "      <td>-0.052674</td>\n",
              "      <td>-0.739370</td>\n",
              "      <td>-2.155336</td>\n",
              "      <td>-0.520450</td>\n",
              "      <td>-0.000000</td>\n",
              "      <td>...</td>\n",
              "      <td>-0.038112</td>\n",
              "      <td>-0.036615</td>\n",
              "      <td>-0.035938</td>\n",
              "      <td>-0.034245</td>\n",
              "      <td>-0.035340</td>\n",
              "      <td>-0.037055</td>\n",
              "      <td>-0.035771</td>\n",
              "      <td>-0.036557</td>\n",
              "      <td>-0.037451</td>\n",
              "      <td>-0.033582</td>\n",
              "    </tr>\n",
              "    <tr>\n",
              "      <th>351</th>\n",
              "      <td>2018-10-25 10:32:34.488000</td>\n",
              "      <td>1540456354488</td>\n",
              "      <td>0.851907</td>\n",
              "      <td>0.851907</td>\n",
              "      <td>0.851907</td>\n",
              "      <td>-0.111298</td>\n",
              "      <td>-0.639166</td>\n",
              "      <td>-2.039414</td>\n",
              "      <td>-0.531784</td>\n",
              "      <td>-0.000000</td>\n",
              "      <td>...</td>\n",
              "      <td>-0.036887</td>\n",
              "      <td>-0.036921</td>\n",
              "      <td>-0.035249</td>\n",
              "      <td>-0.033394</td>\n",
              "      <td>-0.035231</td>\n",
              "      <td>-0.035815</td>\n",
              "      <td>-0.037457</td>\n",
              "      <td>-0.035020</td>\n",
              "      <td>-0.038338</td>\n",
              "      <td>-0.035408</td>\n",
              "    </tr>\n",
              "    <tr>\n",
              "      <th>352</th>\n",
              "      <td>2018-10-25 10:32:34.576000</td>\n",
              "      <td>1540456354576</td>\n",
              "      <td>0.329255</td>\n",
              "      <td>0.329255</td>\n",
              "      <td>0.329255</td>\n",
              "      <td>0.064351</td>\n",
              "      <td>0.316582</td>\n",
              "      <td>-2.107210</td>\n",
              "      <td>-0.298427</td>\n",
              "      <td>0.570461</td>\n",
              "      <td>...</td>\n",
              "      <td>-0.037311</td>\n",
              "      <td>-0.036231</td>\n",
              "      <td>-0.037977</td>\n",
              "      <td>-0.033525</td>\n",
              "      <td>-0.035225</td>\n",
              "      <td>-0.036255</td>\n",
              "      <td>-0.036670</td>\n",
              "      <td>-0.036079</td>\n",
              "      <td>-0.038006</td>\n",
              "      <td>-0.035039</td>\n",
              "    </tr>\n",
              "    <tr>\n",
              "      <th>353</th>\n",
              "      <td>2018-10-25 10:32:34.660000</td>\n",
              "      <td>1540456354660</td>\n",
              "      <td>0.330061</td>\n",
              "      <td>0.330061</td>\n",
              "      <td>0.330061</td>\n",
              "      <td>0.081473</td>\n",
              "      <td>-0.525273</td>\n",
              "      <td>-1.750123</td>\n",
              "      <td>-0.134352</td>\n",
              "      <td>0.243550</td>\n",
              "      <td>...</td>\n",
              "      <td>-0.036267</td>\n",
              "      <td>-0.036341</td>\n",
              "      <td>-0.037307</td>\n",
              "      <td>-0.035010</td>\n",
              "      <td>-0.036073</td>\n",
              "      <td>-0.036282</td>\n",
              "      <td>-0.036911</td>\n",
              "      <td>-0.036554</td>\n",
              "      <td>-0.037560</td>\n",
              "      <td>-0.034496</td>\n",
              "    </tr>\n",
              "    <tr>\n",
              "      <th>354</th>\n",
              "      <td>2018-10-25 10:32:34.744000</td>\n",
              "      <td>1540456354744</td>\n",
              "      <td>0.101879</td>\n",
              "      <td>0.101879</td>\n",
              "      <td>0.101879</td>\n",
              "      <td>0.177809</td>\n",
              "      <td>-0.456259</td>\n",
              "      <td>-0.000000</td>\n",
              "      <td>-0.157833</td>\n",
              "      <td>-0.376095</td>\n",
              "      <td>...</td>\n",
              "      <td>-0.037316</td>\n",
              "      <td>-0.035830</td>\n",
              "      <td>-0.036852</td>\n",
              "      <td>-0.034170</td>\n",
              "      <td>-0.034227</td>\n",
              "      <td>-0.035085</td>\n",
              "      <td>-0.035308</td>\n",
              "      <td>-0.034768</td>\n",
              "      <td>-0.036334</td>\n",
              "      <td>-0.034725</td>\n",
              "    </tr>\n",
              "  </tbody>\n",
              "</table>\n",
              "<p>355 rows × 3650 columns</p>\n",
              "</div>\n",
              "      <button class=\"colab-df-convert\" onclick=\"convertToInteractive('df-fbfce8b1-d0a5-456d-b9c6-ade9962ebc2a')\"\n",
              "              title=\"Convert this dataframe to an interactive table.\"\n",
              "              style=\"display:none;\">\n",
              "        \n",
              "  <svg xmlns=\"http://www.w3.org/2000/svg\" height=\"24px\"viewBox=\"0 0 24 24\"\n",
              "       width=\"24px\">\n",
              "    <path d=\"M0 0h24v24H0V0z\" fill=\"none\"/>\n",
              "    <path d=\"M18.56 5.44l.94 2.06.94-2.06 2.06-.94-2.06-.94-.94-2.06-.94 2.06-2.06.94zm-11 1L8.5 8.5l.94-2.06 2.06-.94-2.06-.94L8.5 2.5l-.94 2.06-2.06.94zm10 10l.94 2.06.94-2.06 2.06-.94-2.06-.94-.94-2.06-.94 2.06-2.06.94z\"/><path d=\"M17.41 7.96l-1.37-1.37c-.4-.4-.92-.59-1.43-.59-.52 0-1.04.2-1.43.59L10.3 9.45l-7.72 7.72c-.78.78-.78 2.05 0 2.83L4 21.41c.39.39.9.59 1.41.59.51 0 1.02-.2 1.41-.59l7.78-7.78 2.81-2.81c.8-.78.8-2.07 0-2.86zM5.41 20L4 18.59l7.72-7.72 1.47 1.35L5.41 20z\"/>\n",
              "  </svg>\n",
              "      </button>\n",
              "      \n",
              "  <style>\n",
              "    .colab-df-container {\n",
              "      display:flex;\n",
              "      flex-wrap:wrap;\n",
              "      gap: 12px;\n",
              "    }\n",
              "\n",
              "    .colab-df-convert {\n",
              "      background-color: #E8F0FE;\n",
              "      border: none;\n",
              "      border-radius: 50%;\n",
              "      cursor: pointer;\n",
              "      display: none;\n",
              "      fill: #1967D2;\n",
              "      height: 32px;\n",
              "      padding: 0 0 0 0;\n",
              "      width: 32px;\n",
              "    }\n",
              "\n",
              "    .colab-df-convert:hover {\n",
              "      background-color: #E2EBFA;\n",
              "      box-shadow: 0px 1px 2px rgba(60, 64, 67, 0.3), 0px 1px 3px 1px rgba(60, 64, 67, 0.15);\n",
              "      fill: #174EA6;\n",
              "    }\n",
              "\n",
              "    [theme=dark] .colab-df-convert {\n",
              "      background-color: #3B4455;\n",
              "      fill: #D2E3FC;\n",
              "    }\n",
              "\n",
              "    [theme=dark] .colab-df-convert:hover {\n",
              "      background-color: #434B5C;\n",
              "      box-shadow: 0px 1px 3px 1px rgba(0, 0, 0, 0.15);\n",
              "      filter: drop-shadow(0px 1px 2px rgba(0, 0, 0, 0.3));\n",
              "      fill: #FFFFFF;\n",
              "    }\n",
              "  </style>\n",
              "\n",
              "      <script>\n",
              "        const buttonEl =\n",
              "          document.querySelector('#df-fbfce8b1-d0a5-456d-b9c6-ade9962ebc2a button.colab-df-convert');\n",
              "        buttonEl.style.display =\n",
              "          google.colab.kernel.accessAllowed ? 'block' : 'none';\n",
              "\n",
              "        async function convertToInteractive(key) {\n",
              "          const element = document.querySelector('#df-fbfce8b1-d0a5-456d-b9c6-ade9962ebc2a');\n",
              "          const dataTable =\n",
              "            await google.colab.kernel.invokeFunction('convertToInteractive',\n",
              "                                                     [key], {});\n",
              "          if (!dataTable) return;\n",
              "\n",
              "          const docLinkHtml = 'Like what you see? Visit the ' +\n",
              "            '<a target=\"_blank\" href=https://colab.research.google.com/notebooks/data_table.ipynb>data table notebook</a>'\n",
              "            + ' to learn more about interactive tables.';\n",
              "          element.innerHTML = '';\n",
              "          dataTable['output_type'] = 'display_data';\n",
              "          await google.colab.output.renderOutput(dataTable, element);\n",
              "          const docLink = document.createElement('div');\n",
              "          docLink.innerHTML = docLinkHtml;\n",
              "          element.appendChild(docLink);\n",
              "        }\n",
              "      </script>\n",
              "    </div>\n",
              "  </div>\n",
              "  "
            ]
          },
          "metadata": {},
          "execution_count": 190
        }
      ]
    },
    {
      "cell_type": "code",
      "source": [
        "def extract_column_names(df, binning_value):\n",
        "    #skip timestamps\n",
        "    columns = df.columns[2:]\n",
        "    wavelengths = []\n",
        "    indices = [0]                         \n",
        "    column_names = {}\n",
        "    column_names[str(int(float(columns[0])))] = []\n",
        "    for index, column in enumerate(columns):\n",
        "        if (int(float(column)) - int(float(columns[indices[-1]])) < binning_value):\n",
        "            column_names[str(int(float(columns[indices[-1]])))].append(column)\n",
        "            continue\n",
        "        column_names[str(int(float(column)))] = [column]\n",
        "        indices.append(index)\n",
        "    return column_names"
      ],
      "metadata": {
        "id": "8EdP9DdB-XW9"
      },
      "execution_count": null,
      "outputs": []
    },
    {
      "cell_type": "code",
      "source": [
        "column_names = extract_column_names(df, 1)"
      ],
      "metadata": {
        "id": "LJoyFyr3-n6O"
      },
      "execution_count": null,
      "outputs": []
    },
    {
      "cell_type": "code",
      "source": [
        "agg = pd.DataFrame() # aggregated data set\n",
        "for (col, values) in column_names.items():\n",
        "    agg[col] = df[values].agg(\"mean\", axis=\"columns\")"
      ],
      "metadata": {
        "colab": {
          "base_uri": "https://localhost:8080/"
        },
        "id": "qt1fG3s4-rz8",
        "outputId": "e8b6b94a-4cb8-43c2-d4a1-fe93a770f1bd"
      },
      "execution_count": null,
      "outputs": [
        {
          "output_type": "stream",
          "name": "stderr",
          "text": [
            "/usr/local/lib/python3.7/dist-packages/ipykernel_launcher.py:3: PerformanceWarning: DataFrame is highly fragmented.  This is usually the result of calling `frame.insert` many times, which has poor performance.  Consider joining all columns at once using pd.concat(axis=1) instead.  To get a de-fragmented frame, use `newframe = frame.copy()`\n",
            "  This is separate from the ipykernel package so we can avoid doing imports until\n"
          ]
        }
      ]
    },
    {
      "cell_type": "code",
      "source": [
        "agg"
      ],
      "metadata": {
        "colab": {
          "base_uri": "https://localhost:8080/",
          "height": 483
        },
        "id": "lsHB1wvm-tio",
        "outputId": "393e6e52-5a2c-4bfb-dd86-a63a9a61e954"
      },
      "execution_count": null,
      "outputs": [
        {
          "output_type": "execute_result",
          "data": {
            "text/plain": [
              "          316       317       318       319       320       321       322  \\\n",
              "0    0.329672 -0.166957 -0.064746  0.133130  0.123705 -0.249831  0.271327   \n",
              "1   -0.044412 -0.411839 -0.133472  2.032979 -0.387814 -0.031617  0.322955   \n",
              "2    0.338219 -0.094507 -0.024912  0.061890 -0.226986  0.107871  0.121011   \n",
              "3   -0.049682  0.027980 -0.008338 -0.088350  0.070348 -0.013674  0.307321   \n",
              "4    0.335086 -0.162378 -0.102281  0.045717 -0.088278  0.042099  0.304675   \n",
              "..        ...       ...       ...       ...       ...       ...       ...   \n",
              "350 -0.048929 -0.438802  1.870540 -0.089910  0.026243  0.046500  0.342797   \n",
              "351  0.851907 -0.282855 -0.039069 -0.227483 -0.140185  0.055663  0.211854   \n",
              "352  0.329255 -0.074950  0.074278 -0.053091 -0.073518  0.004167  0.393093   \n",
              "353  0.330061 -0.260591 -0.020120  0.093793  0.100177  0.134214  0.319046   \n",
              "354  0.101879 -0.044056 -0.018367  0.052064 -0.184325  0.217345  0.319578   \n",
              "\n",
              "          323       324       325  ...       771       772       773  \\\n",
              "0   -0.093151 -0.123458 -0.026454  ... -0.038555 -0.038021 -0.039290   \n",
              "1    1.744725 -0.051639 -0.147937  ... -0.038100 -0.038118 -0.038622   \n",
              "2   -0.208504 -0.418836  0.005751  ... -0.038063 -0.038303 -0.039200   \n",
              "3    0.159532 -0.047932  0.080549  ... -0.037775 -0.037678 -0.038711   \n",
              "4   -0.261077 -0.009424  0.153932  ... -0.038433 -0.038135 -0.038991   \n",
              "..        ...       ...       ...  ...       ...       ...       ...   \n",
              "350 -0.024736  0.087382 -0.000370  ... -0.037537 -0.036913 -0.038062   \n",
              "351 -0.064256  0.039251 -0.158020  ... -0.036774 -0.036255 -0.037614   \n",
              "352 -0.051061  0.048273 -0.049056  ... -0.037064 -0.037087 -0.037948   \n",
              "353  0.029385  0.033831 -0.089956  ... -0.036520 -0.036748 -0.037822   \n",
              "354 -0.109302  0.034795 -0.055079  ... -0.036704 -0.036247 -0.037451   \n",
              "\n",
              "          774       775       776       777       778       779       780  \n",
              "0   -0.038654 -0.036496 -0.038835 -0.038145 -0.038333 -0.037680 -0.035545  \n",
              "1   -0.038308 -0.036896 -0.039010 -0.038400 -0.037930 -0.037812 -0.038165  \n",
              "2   -0.038397 -0.036932 -0.038245 -0.037664 -0.037514 -0.037057 -0.036903  \n",
              "3   -0.038133 -0.036972 -0.038177 -0.037273 -0.036996 -0.036614 -0.036822  \n",
              "4   -0.038178 -0.037010 -0.038540 -0.038076 -0.037606 -0.038132 -0.035900  \n",
              "..        ...       ...       ...       ...       ...       ...       ...  \n",
              "350 -0.037199 -0.035328 -0.037879 -0.037486 -0.036303 -0.036122 -0.033582  \n",
              "351 -0.037000 -0.035254 -0.037384 -0.036114 -0.035518 -0.035928 -0.035408  \n",
              "352 -0.036972 -0.035591 -0.036524 -0.036691 -0.036766 -0.036246 -0.035039  \n",
              "353 -0.036839 -0.035118 -0.037559 -0.036426 -0.036488 -0.036505 -0.034496  \n",
              "354 -0.036805 -0.035636 -0.036897 -0.036027 -0.035583 -0.035322 -0.034725  \n",
              "\n",
              "[355 rows x 465 columns]"
            ],
            "text/html": [
              "\n",
              "  <div id=\"df-dd6a6fad-1bd9-42a2-9142-5ed8fd1c8fd6\">\n",
              "    <div class=\"colab-df-container\">\n",
              "      <div>\n",
              "<style scoped>\n",
              "    .dataframe tbody tr th:only-of-type {\n",
              "        vertical-align: middle;\n",
              "    }\n",
              "\n",
              "    .dataframe tbody tr th {\n",
              "        vertical-align: top;\n",
              "    }\n",
              "\n",
              "    .dataframe thead th {\n",
              "        text-align: right;\n",
              "    }\n",
              "</style>\n",
              "<table border=\"1\" class=\"dataframe\">\n",
              "  <thead>\n",
              "    <tr style=\"text-align: right;\">\n",
              "      <th></th>\n",
              "      <th>316</th>\n",
              "      <th>317</th>\n",
              "      <th>318</th>\n",
              "      <th>319</th>\n",
              "      <th>320</th>\n",
              "      <th>321</th>\n",
              "      <th>322</th>\n",
              "      <th>323</th>\n",
              "      <th>324</th>\n",
              "      <th>325</th>\n",
              "      <th>...</th>\n",
              "      <th>771</th>\n",
              "      <th>772</th>\n",
              "      <th>773</th>\n",
              "      <th>774</th>\n",
              "      <th>775</th>\n",
              "      <th>776</th>\n",
              "      <th>777</th>\n",
              "      <th>778</th>\n",
              "      <th>779</th>\n",
              "      <th>780</th>\n",
              "    </tr>\n",
              "  </thead>\n",
              "  <tbody>\n",
              "    <tr>\n",
              "      <th>0</th>\n",
              "      <td>0.329672</td>\n",
              "      <td>-0.166957</td>\n",
              "      <td>-0.064746</td>\n",
              "      <td>0.133130</td>\n",
              "      <td>0.123705</td>\n",
              "      <td>-0.249831</td>\n",
              "      <td>0.271327</td>\n",
              "      <td>-0.093151</td>\n",
              "      <td>-0.123458</td>\n",
              "      <td>-0.026454</td>\n",
              "      <td>...</td>\n",
              "      <td>-0.038555</td>\n",
              "      <td>-0.038021</td>\n",
              "      <td>-0.039290</td>\n",
              "      <td>-0.038654</td>\n",
              "      <td>-0.036496</td>\n",
              "      <td>-0.038835</td>\n",
              "      <td>-0.038145</td>\n",
              "      <td>-0.038333</td>\n",
              "      <td>-0.037680</td>\n",
              "      <td>-0.035545</td>\n",
              "    </tr>\n",
              "    <tr>\n",
              "      <th>1</th>\n",
              "      <td>-0.044412</td>\n",
              "      <td>-0.411839</td>\n",
              "      <td>-0.133472</td>\n",
              "      <td>2.032979</td>\n",
              "      <td>-0.387814</td>\n",
              "      <td>-0.031617</td>\n",
              "      <td>0.322955</td>\n",
              "      <td>1.744725</td>\n",
              "      <td>-0.051639</td>\n",
              "      <td>-0.147937</td>\n",
              "      <td>...</td>\n",
              "      <td>-0.038100</td>\n",
              "      <td>-0.038118</td>\n",
              "      <td>-0.038622</td>\n",
              "      <td>-0.038308</td>\n",
              "      <td>-0.036896</td>\n",
              "      <td>-0.039010</td>\n",
              "      <td>-0.038400</td>\n",
              "      <td>-0.037930</td>\n",
              "      <td>-0.037812</td>\n",
              "      <td>-0.038165</td>\n",
              "    </tr>\n",
              "    <tr>\n",
              "      <th>2</th>\n",
              "      <td>0.338219</td>\n",
              "      <td>-0.094507</td>\n",
              "      <td>-0.024912</td>\n",
              "      <td>0.061890</td>\n",
              "      <td>-0.226986</td>\n",
              "      <td>0.107871</td>\n",
              "      <td>0.121011</td>\n",
              "      <td>-0.208504</td>\n",
              "      <td>-0.418836</td>\n",
              "      <td>0.005751</td>\n",
              "      <td>...</td>\n",
              "      <td>-0.038063</td>\n",
              "      <td>-0.038303</td>\n",
              "      <td>-0.039200</td>\n",
              "      <td>-0.038397</td>\n",
              "      <td>-0.036932</td>\n",
              "      <td>-0.038245</td>\n",
              "      <td>-0.037664</td>\n",
              "      <td>-0.037514</td>\n",
              "      <td>-0.037057</td>\n",
              "      <td>-0.036903</td>\n",
              "    </tr>\n",
              "    <tr>\n",
              "      <th>3</th>\n",
              "      <td>-0.049682</td>\n",
              "      <td>0.027980</td>\n",
              "      <td>-0.008338</td>\n",
              "      <td>-0.088350</td>\n",
              "      <td>0.070348</td>\n",
              "      <td>-0.013674</td>\n",
              "      <td>0.307321</td>\n",
              "      <td>0.159532</td>\n",
              "      <td>-0.047932</td>\n",
              "      <td>0.080549</td>\n",
              "      <td>...</td>\n",
              "      <td>-0.037775</td>\n",
              "      <td>-0.037678</td>\n",
              "      <td>-0.038711</td>\n",
              "      <td>-0.038133</td>\n",
              "      <td>-0.036972</td>\n",
              "      <td>-0.038177</td>\n",
              "      <td>-0.037273</td>\n",
              "      <td>-0.036996</td>\n",
              "      <td>-0.036614</td>\n",
              "      <td>-0.036822</td>\n",
              "    </tr>\n",
              "    <tr>\n",
              "      <th>4</th>\n",
              "      <td>0.335086</td>\n",
              "      <td>-0.162378</td>\n",
              "      <td>-0.102281</td>\n",
              "      <td>0.045717</td>\n",
              "      <td>-0.088278</td>\n",
              "      <td>0.042099</td>\n",
              "      <td>0.304675</td>\n",
              "      <td>-0.261077</td>\n",
              "      <td>-0.009424</td>\n",
              "      <td>0.153932</td>\n",
              "      <td>...</td>\n",
              "      <td>-0.038433</td>\n",
              "      <td>-0.038135</td>\n",
              "      <td>-0.038991</td>\n",
              "      <td>-0.038178</td>\n",
              "      <td>-0.037010</td>\n",
              "      <td>-0.038540</td>\n",
              "      <td>-0.038076</td>\n",
              "      <td>-0.037606</td>\n",
              "      <td>-0.038132</td>\n",
              "      <td>-0.035900</td>\n",
              "    </tr>\n",
              "    <tr>\n",
              "      <th>...</th>\n",
              "      <td>...</td>\n",
              "      <td>...</td>\n",
              "      <td>...</td>\n",
              "      <td>...</td>\n",
              "      <td>...</td>\n",
              "      <td>...</td>\n",
              "      <td>...</td>\n",
              "      <td>...</td>\n",
              "      <td>...</td>\n",
              "      <td>...</td>\n",
              "      <td>...</td>\n",
              "      <td>...</td>\n",
              "      <td>...</td>\n",
              "      <td>...</td>\n",
              "      <td>...</td>\n",
              "      <td>...</td>\n",
              "      <td>...</td>\n",
              "      <td>...</td>\n",
              "      <td>...</td>\n",
              "      <td>...</td>\n",
              "      <td>...</td>\n",
              "    </tr>\n",
              "    <tr>\n",
              "      <th>350</th>\n",
              "      <td>-0.048929</td>\n",
              "      <td>-0.438802</td>\n",
              "      <td>1.870540</td>\n",
              "      <td>-0.089910</td>\n",
              "      <td>0.026243</td>\n",
              "      <td>0.046500</td>\n",
              "      <td>0.342797</td>\n",
              "      <td>-0.024736</td>\n",
              "      <td>0.087382</td>\n",
              "      <td>-0.000370</td>\n",
              "      <td>...</td>\n",
              "      <td>-0.037537</td>\n",
              "      <td>-0.036913</td>\n",
              "      <td>-0.038062</td>\n",
              "      <td>-0.037199</td>\n",
              "      <td>-0.035328</td>\n",
              "      <td>-0.037879</td>\n",
              "      <td>-0.037486</td>\n",
              "      <td>-0.036303</td>\n",
              "      <td>-0.036122</td>\n",
              "      <td>-0.033582</td>\n",
              "    </tr>\n",
              "    <tr>\n",
              "      <th>351</th>\n",
              "      <td>0.851907</td>\n",
              "      <td>-0.282855</td>\n",
              "      <td>-0.039069</td>\n",
              "      <td>-0.227483</td>\n",
              "      <td>-0.140185</td>\n",
              "      <td>0.055663</td>\n",
              "      <td>0.211854</td>\n",
              "      <td>-0.064256</td>\n",
              "      <td>0.039251</td>\n",
              "      <td>-0.158020</td>\n",
              "      <td>...</td>\n",
              "      <td>-0.036774</td>\n",
              "      <td>-0.036255</td>\n",
              "      <td>-0.037614</td>\n",
              "      <td>-0.037000</td>\n",
              "      <td>-0.035254</td>\n",
              "      <td>-0.037384</td>\n",
              "      <td>-0.036114</td>\n",
              "      <td>-0.035518</td>\n",
              "      <td>-0.035928</td>\n",
              "      <td>-0.035408</td>\n",
              "    </tr>\n",
              "    <tr>\n",
              "      <th>352</th>\n",
              "      <td>0.329255</td>\n",
              "      <td>-0.074950</td>\n",
              "      <td>0.074278</td>\n",
              "      <td>-0.053091</td>\n",
              "      <td>-0.073518</td>\n",
              "      <td>0.004167</td>\n",
              "      <td>0.393093</td>\n",
              "      <td>-0.051061</td>\n",
              "      <td>0.048273</td>\n",
              "      <td>-0.049056</td>\n",
              "      <td>...</td>\n",
              "      <td>-0.037064</td>\n",
              "      <td>-0.037087</td>\n",
              "      <td>-0.037948</td>\n",
              "      <td>-0.036972</td>\n",
              "      <td>-0.035591</td>\n",
              "      <td>-0.036524</td>\n",
              "      <td>-0.036691</td>\n",
              "      <td>-0.036766</td>\n",
              "      <td>-0.036246</td>\n",
              "      <td>-0.035039</td>\n",
              "    </tr>\n",
              "    <tr>\n",
              "      <th>353</th>\n",
              "      <td>0.330061</td>\n",
              "      <td>-0.260591</td>\n",
              "      <td>-0.020120</td>\n",
              "      <td>0.093793</td>\n",
              "      <td>0.100177</td>\n",
              "      <td>0.134214</td>\n",
              "      <td>0.319046</td>\n",
              "      <td>0.029385</td>\n",
              "      <td>0.033831</td>\n",
              "      <td>-0.089956</td>\n",
              "      <td>...</td>\n",
              "      <td>-0.036520</td>\n",
              "      <td>-0.036748</td>\n",
              "      <td>-0.037822</td>\n",
              "      <td>-0.036839</td>\n",
              "      <td>-0.035118</td>\n",
              "      <td>-0.037559</td>\n",
              "      <td>-0.036426</td>\n",
              "      <td>-0.036488</td>\n",
              "      <td>-0.036505</td>\n",
              "      <td>-0.034496</td>\n",
              "    </tr>\n",
              "    <tr>\n",
              "      <th>354</th>\n",
              "      <td>0.101879</td>\n",
              "      <td>-0.044056</td>\n",
              "      <td>-0.018367</td>\n",
              "      <td>0.052064</td>\n",
              "      <td>-0.184325</td>\n",
              "      <td>0.217345</td>\n",
              "      <td>0.319578</td>\n",
              "      <td>-0.109302</td>\n",
              "      <td>0.034795</td>\n",
              "      <td>-0.055079</td>\n",
              "      <td>...</td>\n",
              "      <td>-0.036704</td>\n",
              "      <td>-0.036247</td>\n",
              "      <td>-0.037451</td>\n",
              "      <td>-0.036805</td>\n",
              "      <td>-0.035636</td>\n",
              "      <td>-0.036897</td>\n",
              "      <td>-0.036027</td>\n",
              "      <td>-0.035583</td>\n",
              "      <td>-0.035322</td>\n",
              "      <td>-0.034725</td>\n",
              "    </tr>\n",
              "  </tbody>\n",
              "</table>\n",
              "<p>355 rows × 465 columns</p>\n",
              "</div>\n",
              "      <button class=\"colab-df-convert\" onclick=\"convertToInteractive('df-dd6a6fad-1bd9-42a2-9142-5ed8fd1c8fd6')\"\n",
              "              title=\"Convert this dataframe to an interactive table.\"\n",
              "              style=\"display:none;\">\n",
              "        \n",
              "  <svg xmlns=\"http://www.w3.org/2000/svg\" height=\"24px\"viewBox=\"0 0 24 24\"\n",
              "       width=\"24px\">\n",
              "    <path d=\"M0 0h24v24H0V0z\" fill=\"none\"/>\n",
              "    <path d=\"M18.56 5.44l.94 2.06.94-2.06 2.06-.94-2.06-.94-.94-2.06-.94 2.06-2.06.94zm-11 1L8.5 8.5l.94-2.06 2.06-.94-2.06-.94L8.5 2.5l-.94 2.06-2.06.94zm10 10l.94 2.06.94-2.06 2.06-.94-2.06-.94-.94-2.06-.94 2.06-2.06.94z\"/><path d=\"M17.41 7.96l-1.37-1.37c-.4-.4-.92-.59-1.43-.59-.52 0-1.04.2-1.43.59L10.3 9.45l-7.72 7.72c-.78.78-.78 2.05 0 2.83L4 21.41c.39.39.9.59 1.41.59.51 0 1.02-.2 1.41-.59l7.78-7.78 2.81-2.81c.8-.78.8-2.07 0-2.86zM5.41 20L4 18.59l7.72-7.72 1.47 1.35L5.41 20z\"/>\n",
              "  </svg>\n",
              "      </button>\n",
              "      \n",
              "  <style>\n",
              "    .colab-df-container {\n",
              "      display:flex;\n",
              "      flex-wrap:wrap;\n",
              "      gap: 12px;\n",
              "    }\n",
              "\n",
              "    .colab-df-convert {\n",
              "      background-color: #E8F0FE;\n",
              "      border: none;\n",
              "      border-radius: 50%;\n",
              "      cursor: pointer;\n",
              "      display: none;\n",
              "      fill: #1967D2;\n",
              "      height: 32px;\n",
              "      padding: 0 0 0 0;\n",
              "      width: 32px;\n",
              "    }\n",
              "\n",
              "    .colab-df-convert:hover {\n",
              "      background-color: #E2EBFA;\n",
              "      box-shadow: 0px 1px 2px rgba(60, 64, 67, 0.3), 0px 1px 3px 1px rgba(60, 64, 67, 0.15);\n",
              "      fill: #174EA6;\n",
              "    }\n",
              "\n",
              "    [theme=dark] .colab-df-convert {\n",
              "      background-color: #3B4455;\n",
              "      fill: #D2E3FC;\n",
              "    }\n",
              "\n",
              "    [theme=dark] .colab-df-convert:hover {\n",
              "      background-color: #434B5C;\n",
              "      box-shadow: 0px 1px 3px 1px rgba(0, 0, 0, 0.15);\n",
              "      filter: drop-shadow(0px 1px 2px rgba(0, 0, 0, 0.3));\n",
              "      fill: #FFFFFF;\n",
              "    }\n",
              "  </style>\n",
              "\n",
              "      <script>\n",
              "        const buttonEl =\n",
              "          document.querySelector('#df-dd6a6fad-1bd9-42a2-9142-5ed8fd1c8fd6 button.colab-df-convert');\n",
              "        buttonEl.style.display =\n",
              "          google.colab.kernel.accessAllowed ? 'block' : 'none';\n",
              "\n",
              "        async function convertToInteractive(key) {\n",
              "          const element = document.querySelector('#df-dd6a6fad-1bd9-42a2-9142-5ed8fd1c8fd6');\n",
              "          const dataTable =\n",
              "            await google.colab.kernel.invokeFunction('convertToInteractive',\n",
              "                                                     [key], {});\n",
              "          if (!dataTable) return;\n",
              "\n",
              "          const docLinkHtml = 'Like what you see? Visit the ' +\n",
              "            '<a target=\"_blank\" href=https://colab.research.google.com/notebooks/data_table.ipynb>data table notebook</a>'\n",
              "            + ' to learn more about interactive tables.';\n",
              "          element.innerHTML = '';\n",
              "          dataTable['output_type'] = 'display_data';\n",
              "          await google.colab.output.renderOutput(dataTable, element);\n",
              "          const docLink = document.createElement('div');\n",
              "          docLink.innerHTML = docLinkHtml;\n",
              "          element.appendChild(docLink);\n",
              "        }\n",
              "      </script>\n",
              "    </div>\n",
              "  </div>\n",
              "  "
            ]
          },
          "metadata": {},
          "execution_count": 176
        }
      ]
    },
    {
      "cell_type": "code",
      "source": [
        "# measuring run time of the loop approach\n",
        "%%timeit -n 10000 -r 5  \n",
        "\n",
        "def pandas_aggregate_wavelengths(path, data_filename, binning_value):\n",
        "    df = pd.read_table(path + data_filename)\n",
        "    #skip timestamps\n",
        "    columns = df.columns[2:]\n",
        "    wavelengths = []\n",
        "    indices = [0]                         \n",
        "    column_names = {}\n",
        "    column_names[str(int(float(columns[0])))] = []\n",
        "    for index, column in enumerate(columns):\n",
        "        if (int(float(column)) - int(float(columns[indices[-1]])) < binning_value):\n",
        "            column_names[str(int(float(columns[indices[-1]])))].append(column)\n",
        "            continue\n",
        "        column_names[str(int(float(column)))] = [column]\n",
        "        indices.append(index)\n",
        "    agg = pd.DataFrame()\n",
        "    for (col, values) in column_names.items():\n",
        "        agg[col] = df[values].agg(\"mean\", axis=\"columns\")\n",
        "    # reappend timestamps\n",
        "    agg.insert(0, df.columns[0], df[df.columns[0]])\n",
        "    agg.insert(1, df.columns[1], df[df.columns[1]])\n",
        "    # Write to file\n",
        "    agg.to_csv(path + \"CCD-Data_pandas_\" + str(binning_value) + \"nm.txt\", header=None, index=None, sep='\\t')"
      ],
      "metadata": {
        "colab": {
          "base_uri": "https://localhost:8080/"
        },
        "id": "O8Ly1EDn_CPt",
        "outputId": "076a2b7f-17e7-4991-c975-6afa42bdc55a"
      },
      "execution_count": null,
      "outputs": [
        {
          "output_type": "stream",
          "name": "stdout",
          "text": [
            "10000 loops, best of 5: 74.8 ns per loop\n"
          ]
        }
      ]
    },
    {
      "cell_type": "code",
      "source": [
        "for i in [1,2,3,4]:\n",
        "    pandas_aggregate_wavelengths(\"/content/drive/MyDrive/DSF-FS22/data/task1/\", \"CCD-Data.csv\", i)"
      ],
      "metadata": {
        "colab": {
          "base_uri": "https://localhost:8080/"
        },
        "id": "KuMca0Ul_z0L",
        "outputId": "7aa55c43-894b-4ca1-849f-9d1d96da54e4"
      },
      "execution_count": null,
      "outputs": [
        {
          "output_type": "stream",
          "name": "stderr",
          "text": [
            "/usr/local/lib/python3.7/dist-packages/ipykernel_launcher.py:17: PerformanceWarning: DataFrame is highly fragmented.  This is usually the result of calling `frame.insert` many times, which has poor performance.  Consider joining all columns at once using pd.concat(axis=1) instead.  To get a de-fragmented frame, use `newframe = frame.copy()`\n",
            "/usr/local/lib/python3.7/dist-packages/IPython/core/interactiveshell.py:2882: PerformanceWarning: DataFrame is highly fragmented.  This is usually the result of calling `frame.insert` many times, which has poor performance.  Consider joining all columns at once using pd.concat(axis=1) instead.  To get a de-fragmented frame, use `newframe = frame.copy()`\n",
            "  exec(code_obj, self.user_global_ns, self.user_ns)\n"
          ]
        }
      ]
    },
    {
      "cell_type": "code",
      "source": [
        ""
      ],
      "metadata": {
        "id": "_LBQD28CA8Dm"
      },
      "execution_count": null,
      "outputs": []
    },
    {
      "cell_type": "markdown",
      "source": [
        "### 3. Wavelength difference function (2 points)"
      ],
      "metadata": {
        "id": "SpiBSeu2losp"
      }
    },
    {
      "cell_type": "code",
      "source": [
        "df = df.drop(columns = \"Unnamed: 0\") # removes the redundant first column\n",
        "df = df.rename(columns={\"Unnamed: 1\": \"time\"}) # calling first column \"time\""
      ],
      "metadata": {
        "id": "6tb9hkqKCqdd"
      },
      "execution_count": null,
      "outputs": []
    },
    {
      "cell_type": "code",
      "source": [
        "# rescaling the time column\n",
        "time = df.iloc[:,0]\n",
        "time_zero = time[0]\n",
        "for i in range(len(time)):\n",
        " time[i] = time[i] - time_zero"
      ],
      "metadata": {
        "colab": {
          "base_uri": "https://localhost:8080/"
        },
        "id": "Se8V5if1CgV5",
        "outputId": "41c20b07-0441-4547-c068-329435132225"
      },
      "execution_count": null,
      "outputs": [
        {
          "output_type": "stream",
          "name": "stderr",
          "text": [
            "/usr/local/lib/python3.7/dist-packages/ipykernel_launcher.py:5: SettingWithCopyWarning: \n",
            "A value is trying to be set on a copy of a slice from a DataFrame\n",
            "\n",
            "See the caveats in the documentation: https://pandas.pydata.org/pandas-docs/stable/user_guide/indexing.html#returning-a-view-versus-a-copy\n",
            "  \"\"\"\n"
          ]
        }
      ]
    },
    {
      "cell_type": "markdown",
      "source": [
        "### 4. Plotting wavelengths over time (2 points)"
      ],
      "metadata": {
        "id": "GnhKSDXsEFnX"
      }
    },
    {
      "cell_type": "code",
      "source": [
        "y = -(df.iloc[:,1950]-df.iloc[:,1800]) # takes two wavelengths with indices 1950 and 1800\n",
        "\n",
        "plt.figure(figsize = (12,8)) # modify picture size\n",
        "plt.plot(time, y, color = \"magenta\", label = 'Shift over time', lw = 3) # plot of the difference in intensity at two wavelengths over time\n",
        "plt.xlabel('Time / ms', size = 14) # x-label\n",
        "plt.ylabel('Intensity difference / a.u', size = 14) # y-label\n",
        "plt.legend()\n",
        "plt.title('This is a title')\n",
        "plt.savefig('/content/drive/MyDrive/DSF-FS22/data/task1/CCD-Plot.png')"
      ],
      "metadata": {
        "colab": {
          "base_uri": "https://localhost:8080/",
          "height": 517
        },
        "id": "mi7tKWRnl5um",
        "outputId": "fd46c365-fa60-4899-c16c-78488b0d5474"
      },
      "execution_count": null,
      "outputs": [
        {
          "output_type": "display_data",
          "data": {
            "text/plain": [
              "<Figure size 864x576 with 1 Axes>"
            ],
            "image/png": "[encoded data removed]"
          },
          "metadata": {
            "needs_background": "light"
          }
        }
      ]
    },
    {
      "cell_type": "markdown",
      "source": [
        "### 5. Additional stuff"
      ],
      "metadata": {
        "id": "YvN_HurtEVsE"
      }
    },
    {
      "cell_type": "code",
      "source": [
        "# intensity over time\n",
        "\n",
        "plt.figure(figsize = (10,4))\n",
        "\n",
        "plt.plot(time, df.iloc[:,1950], label = \"time domain\") \n",
        "plt.xlabel('time / ms')\n",
        "plt.ylabel('Intensity / a.u')\n",
        "plt.legend()"
      ],
      "metadata": {
        "colab": {
          "base_uri": "https://localhost:8080/",
          "height": 296
        },
        "id": "ZREKnpIdBkKs",
        "outputId": "94cff2a6-2c5f-43e2-c47f-60570adcef30"
      },
      "execution_count": null,
      "outputs": [
        {
          "output_type": "execute_result",
          "data": {
            "text/plain": [
              "<matplotlib.legend.Legend at 0x7f064ac54810>"
            ]
          },
          "metadata": {},
          "execution_count": 194
        },
        {
          "output_type": "display_data",
          "data": {
            "text/plain": [
              "<Figure size 720x288 with 1 Axes>"
            ],
            "image/png": "[encoded data removed]"
          },
          "metadata": {
            "needs_background": "light"
          }
        }
      ]
    },
    {
      "cell_type": "code",
      "source": [
        "# classical spectrum over wavelength\n",
        "\n",
        "\n",
        "plt.figure(figsize = (10,4))\n",
        "plt.xlabel('wavelength / nm')\n",
        "plt.ylabel('Intensity / a.u')\n",
        "df1 = df.iloc[0,1:-1]\n",
        "df1.plot()"
      ],
      "metadata": {
        "colab": {
          "base_uri": "https://localhost:8080/",
          "height": 300
        },
        "id": "rm_v53XwDRGA",
        "outputId": "80a8f247-5921-4c46-c071-53595bfa34f0"
      },
      "execution_count": null,
      "outputs": [
        {
          "output_type": "execute_result",
          "data": {
            "text/plain": [
              "<matplotlib.axes._subplots.AxesSubplot at 0x7f0649754710>"
            ]
          },
          "metadata": {},
          "execution_count": 231
        },
        {
          "output_type": "display_data",
          "data": {
            "text/plain": [
              "<Figure size 720x288 with 1 Axes>"
            ],
            "image/png": "[encoded data removed]"
          },
          "metadata": {
            "needs_background": "light"
          }
        }
      ]
    },
    {
      "cell_type": "markdown",
      "source": [
        "# Disclaimer"
      ],
      "metadata": {
        "id": "qjLFFwyPHbHX"
      }
    },
    {
      "cell_type": "markdown",
      "source": [
        "This notebook was created by Marco Finger and Gianluca Righetti.\n",
        "\n",
        "Considering parts 1 and 2, we had significant help from a colleague and we would like to express our graditude for his support."
      ],
      "metadata": {
        "id": "-meAj1AuHixd"
      }
    }
  ]
}