{
  "nbformat": 4,
  "nbformat_minor": 0,
  "metadata": {
    "anaconda-cloud": {},
    "kernelspec": {
      "display_name": "Python 3",
      "language": "python",
      "name": "python3"
    },
    "language_info": {
      "codemirror_mode": {
        "name": "ipython",
        "version": 3
      },
      "file_extension": ".py",
      "mimetype": "text/x-python",
      "name": "python",
      "nbconvert_exporter": "python",
      "pygments_lexer": "ipython3",
      "version": "3.6.8"
    },
    "colab": {
      "name": "03_Basic_Python_2.ipynb",
      "provenance": [],
      "toc_visible": true,
      "include_colab_link": true
    }
  },
  "cells": [
    {
      "cell_type": "markdown",
      "metadata": {
        "id": "view-in-github",
        "colab_type": "text"
      },
      "source": [
        "<a href=\"https://colab.research.google.com/github/marco-finger/derLauch/blob/main/03_Basic_Python_2.ipynb\" target=\"_parent\"><img src=\"https://colab.research.google.com/assets/colab-badge.svg\" alt=\"Open In Colab\"/></a>"
      ]
    },
    {
      "cell_type": "markdown",
      "metadata": {
        "id": "GbB2F0nUnmkv"
      },
      "source": [
        "<!--BOOK_INFORMATION-->\n",
        "<img align=\"left\" style=\"padding-right:10px;\" src=\"https://github.com/sigvehaug/Introduction-to-Python-Programming-For-Medical-Researchers/blob/master/Course/fig/cover-small.jpg?raw=1\">\n",
        "\n",
        "*This notebook contains an excerpt from the [Whirlwind Tour of Python](http://www.oreilly.com/programming/free/a-whirlwind-tour-of-python.csp) by Jake VanderPlas; the content is available [on GitHub](https://github.com/jakevdp/WhirlwindTourOfPython).*\n",
        "\n",
        "*The text and code are released under the [CC0](https://github.com/jakevdp/WhirlwindTourOfPython/blob/master/LICENSE) license; see also the companion project, the [Python Data Science Handbook](https://github.com/jakevdp/PythonDataScienceHandbook).*\n"
      ]
    },
    {
      "cell_type": "markdown",
      "metadata": {
        "id": "rzrzHykrUoFO"
      },
      "source": [
        "Data Science Fundamentals for Chemists and Biochemists, University of Bern, Sigve Haug"
      ]
    },
    {
      "cell_type": "markdown",
      "metadata": {
        "id": "cpigRldCUqre"
      },
      "source": [
        "# Basic Python 2 (60 min)\n",
        "\n",
        "This notebook is a systematic and very condensed overview of\n",
        "- Python Control Flow\n",
        "- Python Functions\n",
        "- Python Strings and Regular expressions\n",
        "- Python File and Operating System Operations\n",
        "- Python File Reading and Writing\n",
        "- Python Modules and Packages\n",
        "\n",
        "The content is basic and belongs to necessary knowledge by any Python programmers. One does not learn it by heart, however, after some hours of practicing Python, it automatically becomes active knowledge.\n",
        "\n",
        "It corresponds to the chapters 7, 8, 13, 14 and 15 of the book referenced above. There you may get more detailed descriptions. The chapters on Errors and Exceptions, Iterators, List Comprehensions and Generators we don't cover here. You may read them in the book."
      ]
    },
    {
      "cell_type": "markdown",
      "metadata": {
        "id": "7o5d-zXknmk0"
      },
      "source": [
        "## Control Flow"
      ]
    },
    {
      "cell_type": "markdown",
      "metadata": {
        "id": "eOJcaRgop2Iv"
      },
      "source": [
        "Control flow is where the rubber really meets the road in programming. Without it, a program is simply a list of statements that are sequentially executed. With control flow, you can execute certain code blocks conditionally and/or repeatedly: these basic building blocks can be combined to create surprisingly sophisticated programs!\n",
        "\n",
        "Here we'll cover conditional statements (including \"if\", \"elif\", and \"else\"), loop statements (including \"for\" and \"while\" and the accompanying \"break\", \"continue\", and \"pass\").\n",
        "\n",
        "Practise by executing the code snippets yourself !"
      ]
    },
    {
      "cell_type": "markdown",
      "metadata": {
        "id": "lR0KjE6rp6Nk"
      },
      "source": [
        "### Conditional Statements: if-elif-else"
      ]
    },
    {
      "cell_type": "markdown",
      "source": [
        "```\n",
        "x = -15\n",
        "if x == 0:\n",
        "    print(x, \"is zero\")\n",
        "elif x > 0:\n",
        "    print(x, \"is positive\")\n",
        "elif x < 0:\n",
        "    print(x, \"is negative\")\n",
        "else:\n",
        "    print(x, \"is unlike anything I've ever seen...\")\n",
        "```"
      ],
      "metadata": {
        "id": "6yvQawUpn-2u"
      }
    },
    {
      "cell_type": "code",
      "source": [
        "x = input(\"Enter an integer: \") # integer input\n",
        "\n",
        "check_int = isinstance(x, int)\n",
        "\n",
        "if check_int == True:\n",
        "  if x == 0:\n",
        "      print(x, \"is zero\")\n",
        "  elif x > 0:\n",
        "      print(x, \"is positive\")\n",
        "  elif x < 0:\n",
        "      print(x, \"is negative\")\n",
        "else:\n",
        "      print(x, \"no integer\")  \n",
        "\n",
        "  "
      ],
      "metadata": {
        "id": "bA5nH8S6HApX",
        "colab": {
          "base_uri": "https://localhost:8080/"
        },
        "outputId": "ab574b5e-f7fe-4133-bae1-0304275ebc96"
      },
      "execution_count": null,
      "outputs": [
        {
          "output_type": "stream",
          "name": "stdout",
          "text": [
            "Enter an integer: 5.5\n",
            "5.5 no integer\n"
          ]
        }
      ]
    },
    {
      "cell_type": "markdown",
      "metadata": {
        "id": "aHFF0F73qYh5"
      },
      "source": [
        "### for Loops"
      ]
    },
    {
      "cell_type": "markdown",
      "source": [
        "```\n",
        "for N in [2, 3, 5, 7]:\n",
        "    print(N, end=' ') # print all on same line\n",
        "print()\n",
        "for i in range(10):\n",
        "    print(i, end=' ')\n",
        "print()\n",
        "for i in range(6,60,5):\n",
        "    print(i, end=' ')\n",
        "``` "
      ],
      "metadata": {
        "id": "tOcDxEO4oSjf"
      }
    },
    {
      "cell_type": "code",
      "source": [
        "for N in [2, 3, 5, 7]:\n",
        "    print(N, end=' ') # print all on same line\n",
        "print()\n",
        "\n",
        "for i in range(10):\n",
        "    print(i, end=' ') # print all on same line\n",
        "print()\n",
        "\n",
        "for j in range(6,60,5): # range from 6 to 60 by 5\n",
        "    print(j, end=' ') # print all on same line\n",
        "print()    "
      ],
      "metadata": {
        "id": "yWwADUhiHYQI",
        "colab": {
          "base_uri": "https://localhost:8080/"
        },
        "outputId": "e7c0b5e6-8194-4339-f995-4e6bb45c0f52"
      },
      "execution_count": null,
      "outputs": [
        {
          "output_type": "stream",
          "name": "stdout",
          "text": [
            "2 3 5 7 \n",
            "0 1 2 3 4 5 6 7 8 9 \n",
            "6 11 16 21 26 31 36 41 46 51 56 \n"
          ]
        }
      ]
    },
    {
      "cell_type": "markdown",
      "metadata": {
        "id": "Ma7mjiqmrM5M"
      },
      "source": [
        "### while Loops"
      ]
    },
    {
      "cell_type": "markdown",
      "source": [
        "```\n",
        "i = 0\n",
        "while i < 10:\n",
        "    print(i, end=' ')\n",
        "    i += 1\n",
        "```"
      ],
      "metadata": {
        "id": "bQ_6CPCULCRO"
      }
    },
    {
      "cell_type": "code",
      "source": [
        "i = 0 # set i = 0 as the starting point\n",
        "while i < 10: # while i is less than 10\n",
        "  print(i, end=\" \") # return i\n",
        "  i +=1 # set i to i+1 and repeart as above\n",
        "print()  "
      ],
      "metadata": {
        "id": "YcWCBKNotrLE",
        "colab": {
          "base_uri": "https://localhost:8080/"
        },
        "outputId": "317327a0-7138-4bc1-cb4a-ec26622139a8"
      },
      "execution_count": null,
      "outputs": [
        {
          "output_type": "stream",
          "name": "stdout",
          "text": [
            "0 1 2 3 4 5 6 7 8 9 \n"
          ]
        }
      ]
    },
    {
      "cell_type": "markdown",
      "metadata": {
        "id": "HKMKM97NrVWX"
      },
      "source": [
        "### break and continue"
      ]
    },
    {
      "cell_type": "markdown",
      "source": [
        "```\n",
        "for n in range(20):\n",
        "    # if the remainder of n / 2 is 0, skip the rest of the loop\n",
        "    if n % 2 == 0:\n",
        "        continue\n",
        "\n",
        "    print(n, end=' ')\n",
        "```\n"
      ],
      "metadata": {
        "id": "EqKNb1VsrT_A"
      }
    },
    {
      "cell_type": "code",
      "source": [
        "for n in range(20):\n",
        "    if n % 2 == 0: # if the remainder of n / 2 is 0, skip the rest of the loop\n",
        "        continue\n",
        "    print(n, end=' ')"
      ],
      "metadata": {
        "id": "hEUd59imt0lV",
        "colab": {
          "base_uri": "https://localhost:8080/"
        },
        "outputId": "0ff60adc-98fd-4443-8c0d-c2b39638f530"
      },
      "execution_count": null,
      "outputs": [
        {
          "output_type": "stream",
          "name": "stdout",
          "text": [
            "1 3 5 7 9 11 13 15 17 19 "
          ]
        }
      ]
    },
    {
      "cell_type": "code",
      "source": [
        "# break, continue, pass\n",
        "\n",
        "av = 5 # number of available candies\n",
        "\n",
        "x = int(input(\"How many Candies you want? \"))\n",
        "\n",
        "i = 1\n",
        "while i <= x: # could be done in a for-loop\n",
        "  if i > av:\n",
        "    print(\"Out of stock\")\n",
        "    break # jumps out of the loop\n",
        "\n",
        "  print(\"Candy\")\n",
        "  i += 1\n",
        "\n",
        "print(\"Thank you\")  "
      ],
      "metadata": {
        "colab": {
          "base_uri": "https://localhost:8080/"
        },
        "id": "SSIp83urQQ-h",
        "outputId": "bf7634b7-28fd-4c9c-f52d-7d131ecd726b"
      },
      "execution_count": null,
      "outputs": [
        {
          "output_type": "stream",
          "name": "stdout",
          "text": [
            "How many Candies you want? 66\n",
            "Candy\n",
            "Candy\n",
            "Candy\n",
            "Candy\n",
            "Candy\n",
            "Out of stock\n",
            "Thank you\n"
          ]
        }
      ]
    },
    {
      "cell_type": "code",
      "source": [
        "# break, continue, pass\n",
        "\n",
        "for i in range(1, 101):\n",
        "  if i%3 == 0 or i%5 == 0: # check if i is divisible by 3 or 5\n",
        "    continue\n",
        "  print(i, end=\"\")\n",
        "\n",
        "print(\"End\")  "
      ],
      "metadata": {
        "colab": {
          "base_uri": "https://localhost:8080/"
        },
        "id": "fZD3iYnJRz9o",
        "outputId": "4fab548d-8ae3-4aff-c122-702cdb25ba3f"
      },
      "execution_count": null,
      "outputs": [
        {
          "output_type": "stream",
          "name": "stdout",
          "text": [
            "12478111314161719222326282931323437384143444647495253565859616264676871737476777982838688899192949798End\n"
          ]
        }
      ]
    },
    {
      "cell_type": "code",
      "source": [
        "# break, continue, pass\n",
        "\n",
        "for i in range(1, 101):\n",
        "  \n",
        "  if(i%2!=0): # checks for even numbers\n",
        "    pass\n",
        "  else:\n",
        "    print(i, end=\"\")"
      ],
      "metadata": {
        "colab": {
          "base_uri": "https://localhost:8080/"
        },
        "id": "vNUhsuEhTMCa",
        "outputId": "b4f17b1d-eb77-4631-beb5-d3d21b4a1626"
      },
      "execution_count": null,
      "outputs": [
        {
          "output_type": "stream",
          "name": "stdout",
          "text": [
            "2468101214161820222426283032343638404244464850525456586062646668707274767880828486889092949698100"
          ]
        }
      ]
    },
    {
      "cell_type": "markdown",
      "source": [
        "```\n",
        "a, b = 0, 1\n",
        "amax = 100\n",
        "L = []\n",
        "\n",
        "while True:\n",
        "    (a, b) = (b, a + b)\n",
        "    if a > amax:\n",
        "        break\n",
        "    L.append(a)\n",
        "\n",
        "print(L)\n",
        "```"
      ],
      "metadata": {
        "id": "JLMZdGGsrfTw"
      }
    },
    {
      "cell_type": "code",
      "source": [
        "a, b = 0, 1\n",
        "a_max = 100\n",
        "L = [] # list\n",
        "\n",
        "while True:\n",
        "    (a, b) = (b, a + b) # tuple\n",
        "    if a > a_max:\n",
        "        break\n",
        "    L.append(a)\n",
        "\n",
        "print(L)"
      ],
      "metadata": {
        "id": "DzabsvWXuHxs",
        "colab": {
          "base_uri": "https://localhost:8080/"
        },
        "outputId": "f91b9d84-eb61-465c-e333-ef2a5f873c35"
      },
      "execution_count": null,
      "outputs": [
        {
          "output_type": "stream",
          "name": "stdout",
          "text": [
            "[1, 1, 2, 3, 5, 8, 13, 21, 34, 55, 89]\n"
          ]
        }
      ]
    },
    {
      "cell_type": "code",
      "source": [
        ""
      ],
      "metadata": {
        "id": "jkUBuPFLuA3v"
      },
      "execution_count": null,
      "outputs": []
    },
    {
      "cell_type": "markdown",
      "source": [
        "```\n",
        "# Loop with an else block\n",
        "L = []\n",
        "nmax = 30\n",
        "\n",
        "for n in range(2, nmax):\n",
        "    for factor in L:\n",
        "        if n % factor == 0:\n",
        "            break\n",
        "    else: # no break\n",
        "        L.append(n)\n",
        "print(L)\n",
        "```"
      ],
      "metadata": {
        "id": "PUTf66F9rpyt"
      }
    },
    {
      "cell_type": "code",
      "source": [
        "# Loop with an else block ???\n",
        "L = []\n",
        "n_max = 30\n",
        "\n",
        "for n in range(2, n_max):\n",
        "    for factor in L:\n",
        "        if n % factor == 0: # if a number has more than two factors the program breaks\n",
        "            break\n",
        "    else: # no break\n",
        "        L.append(n) # all prime numbers are added to the list \"L\"\n",
        "print(L)"
      ],
      "metadata": {
        "id": "y7K5V8CruQt5",
        "colab": {
          "base_uri": "https://localhost:8080/"
        },
        "outputId": "85f012fb-72ee-4e9c-9a6f-6766b84fe2d1"
      },
      "execution_count": null,
      "outputs": [
        {
          "output_type": "stream",
          "name": "stdout",
          "text": [
            "[2, 3, 5, 7, 11, 13, 17, 19, 23, 29]\n"
          ]
        }
      ]
    },
    {
      "cell_type": "markdown",
      "metadata": {
        "id": "HkuA8EhlsdpJ"
      },
      "source": [
        "## Defining and Using Functions\n",
        "\n",
        "So far, our scripts have been simple, single-use code blocks. One way to organize our Python code and to make it more readable and reusable is to factor-out useful pieces into reusable functions. Here we'll cover two ways of creating functions: the def statement, useful for any type of function, and the lambda statement, useful for creating short anonymous functions."
      ]
    },
    {
      "cell_type": "markdown",
      "source": [
        "```\n",
        "# Define/write a function calculating the fibonacci numbers\n",
        "def fibonacci(N):\n",
        "    L = []\n",
        "    a, b = 0, 1\n",
        "    while len(L) < N:\n",
        "        a, b = b, a + b\n",
        "        L.append(a)\n",
        "    return L\n",
        "# Call that function\n",
        "fibonacci(10)\n",
        "```"
      ],
      "metadata": {
        "id": "BNOGOaoisjv2"
      }
    },
    {
      "cell_type": "code",
      "source": [
        "def fibonacci(N):\n",
        "  L = []\n",
        "  a, b = 0, 1\n",
        "  while len(L) < N:\n",
        "    a, b = b, a + b # reassigning the values of a and b\n",
        "    L.append(a)\n",
        "  return L\n",
        "fibonacci(10)    "
      ],
      "metadata": {
        "id": "YRjdVc2NumEo",
        "colab": {
          "base_uri": "https://localhost:8080/"
        },
        "outputId": "a4b07261-91fe-42da-ca66-5e4f391c4198"
      },
      "execution_count": null,
      "outputs": [
        {
          "output_type": "execute_result",
          "data": {
            "text/plain": [
              "[1, 1, 2, 3, 5, 8, 13, 21, 34, 55]"
            ]
          },
          "metadata": {},
          "execution_count": 43
        }
      ]
    },
    {
      "cell_type": "code",
      "source": [
        "# recursive definition of the Fibonacci sequence\n",
        "\n",
        "N = int(input(\"How many Fibonacci-elements? \"))\n",
        "\n",
        "def rec_fib(N):\n",
        "    if N > 1:\n",
        "        return rec_fib(N-1) + rec_fib(N-2)\n",
        "    return N\n",
        "for i in range(N):\n",
        "    print(rec_fib(i+1))"
      ],
      "metadata": {
        "colab": {
          "base_uri": "https://localhost:8080/"
        },
        "id": "conrx51QV10k",
        "outputId": "2f4ed243-988c-466c-9d33-d2f812987720"
      },
      "execution_count": null,
      "outputs": [
        {
          "output_type": "stream",
          "name": "stdout",
          "text": [
            "How many Fibonacci-elements? 10\n",
            "1\n",
            "1\n",
            "2\n",
            "3\n",
            "5\n",
            "8\n",
            "13\n",
            "21\n",
            "34\n",
            "55\n"
          ]
        }
      ]
    },
    {
      "cell_type": "markdown",
      "source": [
        "```\n",
        "def real_imag_conj(val):\n",
        "    return val.real, val.imag, val.conjugate()\n",
        "\n",
        "r, i, c = real_imag_conj(3 + 4j)\n",
        "print(r, i, c)\n",
        "```"
      ],
      "metadata": {
        "id": "kPec2drCssw_"
      }
    },
    {
      "cell_type": "code",
      "source": [
        "def real_imag_conj(val):\n",
        "  return val.real, val.imag, val.conjugate()\n",
        "\n",
        "r, i, c = real_imag_conj(3 + 4j) \n",
        "print(\"Real part:\", r, \"Imaginary part:\", i , \"Complex conjugate:\", c) "
      ],
      "metadata": {
        "id": "uQzc9u-vuwer",
        "colab": {
          "base_uri": "https://localhost:8080/"
        },
        "outputId": "78538ced-da14-4da3-d55b-fc0dea6b50df"
      },
      "execution_count": null,
      "outputs": [
        {
          "output_type": "stream",
          "name": "stdout",
          "text": [
            "Real part: 3.0 Imaginary part: 4.0 Complex conjugate: (3-4j)\n"
          ]
        }
      ]
    },
    {
      "cell_type": "markdown",
      "source": [
        "```\n",
        "# Default arguments\n",
        "def fibonacci(N, a=0, b=1):\n",
        "    L = []\n",
        "    while len(L) < N:\n",
        "        a, b = b, a + b\n",
        "        L.append(a)\n",
        "    return L\n",
        "\n",
        "print(fibonacci(10))\n",
        "print(fibonacci(10,3,1))\n",
        "print(fibonacci(10, b=3, a=1))\n",
        "```"
      ],
      "metadata": {
        "id": "cHMxRpBPs_gV"
      }
    },
    {
      "cell_type": "code",
      "source": [
        "def fibonacci(N, a = 0, b = 1):\n",
        "  L = []\n",
        "  while len(L) < N:\n",
        "    a = b \n",
        "    b = a + b\n",
        "    L.append(a)\n",
        "  return L\n",
        "\n",
        "print(fibonacci(10))\n",
        "print(fibonacci(10,3,1))\n",
        "print(fibonacci(10, b=3, a=1))  # starting from different indices\n"
      ],
      "metadata": {
        "id": "6Er9Uj8vu6Gv",
        "colab": {
          "base_uri": "https://localhost:8080/"
        },
        "outputId": "932253cf-6bc9-49b1-df45-605d4fc160d7"
      },
      "execution_count": null,
      "outputs": [
        {
          "output_type": "stream",
          "name": "stdout",
          "text": [
            "[1, 2, 4, 8, 16, 32, 64, 128, 256, 512]\n",
            "[1, 2, 4, 8, 16, 32, 64, 128, 256, 512]\n",
            "[3, 6, 12, 24, 48, 96, 192, 384, 768, 1536]\n"
          ]
        }
      ]
    },
    {
      "cell_type": "markdown",
      "metadata": {
        "id": "8cbjKzwFtw7b"
      },
      "source": [
        "### \\*args and **kwargs: Flexible Arguments\n",
        "\n",
        "Sometimes you might wish to write a function in which you don't initially know how many arguments the user will pass. In this case, you can use the special form *args and **kwargs to catch all arguments that are passed. Here is an example:"
      ]
    },
    {
      "cell_type": "code",
      "metadata": {
        "colab": {
          "base_uri": "https://localhost:8080/"
        },
        "id": "5SGgTXxotTol",
        "outputId": "821b4945-1052-4cb8-96c2-34adb6b42dd0"
      },
      "source": [
        "def catch_all(*args, **kwargs):\n",
        "    print(\"args =\", args)\n",
        "    print(\"kwargs = \", kwargs)\n",
        "\n",
        "catch_all(1, 2, 3, a=4, b=5)\n",
        "catch_all('a', keyword=2)"
      ],
      "execution_count": null,
      "outputs": [
        {
          "output_type": "stream",
          "name": "stdout",
          "text": [
            "args = (1, 2, 3)\n",
            "kwargs =  {'a': 4, 'b': 5}\n",
            "args = ('a',)\n",
            "kwargs =  {'keyword': 2}\n"
          ]
        }
      ]
    },
    {
      "cell_type": "code",
      "source": [
        "def arg_one(*args): # the function arg_one is arbitarily many variables, defined by *args\n",
        "  for i in args:\n",
        "    print(i)\n",
        "\n",
        "list = [\"Honda\", \"BMW\", \"Toyota\", \"Ford\", \"Chevy\"] \n",
        "\n",
        "arg_one(*list) # call the function arg_one with \"list\" as the input (asterisk \"*\" required)"
      ],
      "metadata": {
        "colab": {
          "base_uri": "https://localhost:8080/"
        },
        "id": "RylJDNypaQco",
        "outputId": "0ca5bf06-f4d1-4e8c-85d1-a57e8d218da4"
      },
      "execution_count": null,
      "outputs": [
        {
          "output_type": "stream",
          "name": "stdout",
          "text": [
            "Honda\n",
            "BMW\n",
            "Toyota\n",
            "Ford\n",
            "Chevy\n"
          ]
        }
      ]
    },
    {
      "cell_type": "code",
      "source": [
        "def arg_three(one, two, *args):\n",
        "  print(one)\n",
        "  print(two)\n",
        "  for i in args:\n",
        "    print(i)\n",
        "\n",
        "list = [\"Honda\", \"BMW\", \"Toyota\", \"Ford\", \"Chevy\"]    \n",
        "\n",
        "arg_three(\"Jeep\", \"Mercedes\", *list)"
      ],
      "metadata": {
        "colab": {
          "base_uri": "https://localhost:8080/"
        },
        "id": "FA_s1rydbYCJ",
        "outputId": "1a604c3a-325a-4f4f-b3b4-9b1c5f4d6975"
      },
      "execution_count": null,
      "outputs": [
        {
          "output_type": "stream",
          "name": "stdout",
          "text": [
            "Jeep\n",
            "Mercedes\n",
            "Honda\n",
            "BMW\n",
            "Toyota\n",
            "Ford\n",
            "Chevy\n"
          ]
        }
      ]
    },
    {
      "cell_type": "code",
      "source": [
        " # kwargs => requires key-word arguments (dictionary)\n",
        "\n",
        " def kwarg_one(**kwargs):\n",
        "   for key, value in kwargs.items():\n",
        "     print(key)\n",
        "     print(value)\n",
        "\n",
        "d_example = {\"Key1\" : \"Value1\", \"Key2\" : \"Value2\", \"Key3\" : \"Value3\"}\n",
        "\n",
        "kwarg_one(**d_example)"
      ],
      "metadata": {
        "colab": {
          "base_uri": "https://localhost:8080/"
        },
        "id": "rTz6OaUAcnWr",
        "outputId": "1b552cd2-6a72-44a8-b3ae-59007e445728"
      },
      "execution_count": null,
      "outputs": [
        {
          "output_type": "stream",
          "name": "stdout",
          "text": [
            "Key1\n",
            "Value1\n",
            "Key2\n",
            "Value2\n",
            "Key3\n",
            "Value3\n"
          ]
        }
      ]
    },
    {
      "cell_type": "code",
      "source": [
        "def kwarg_two(**kwargs):\n",
        "  for key, value in kwargs.items():\n",
        "     print(key)\n",
        "     print(value)\n",
        "\n",
        "d_example = {\"Key1\" : \"Value1\", \"Key2\" : \"Value2\", \"Key3\" : \"Value3\"} \n",
        "\n",
        "kwarg_two(Keye1 = \"Value1e\", Keye2 = \"Value2e\", Keye3 = \"Value3e\")"
      ],
      "metadata": {
        "colab": {
          "base_uri": "https://localhost:8080/"
        },
        "id": "TBcWBjsGdR2h",
        "outputId": "bacb9fa8-bf12-4f48-e8a4-5ceee1810a44"
      },
      "execution_count": null,
      "outputs": [
        {
          "output_type": "stream",
          "name": "stdout",
          "text": [
            "Keye1\n",
            "Value1e\n",
            "Keye2\n",
            "Value2e\n",
            "Keye3\n",
            "Value3e\n"
          ]
        }
      ]
    },
    {
      "cell_type": "markdown",
      "metadata": {
        "id": "2wjL1eARuQIl"
      },
      "source": [
        "\n",
        "### Anonymous (lambda) Functions\n",
        "\n",
        "Earlier we quickly covered the most common way of defining functions, the def statement. You'll likely come across another way of defining short, one-off functions with the lambda statement. It looks something like this:"
      ]
    },
    {
      "cell_type": "code",
      "metadata": {
        "colab": {
          "base_uri": "https://localhost:8080/"
        },
        "id": "X1SMnFmGuFYU",
        "outputId": "41491531-4194-42d0-a1c7-1dfa44403c7d"
      },
      "source": [
        "\n",
        "add = lambda x, y: x + y\n",
        "add(1, 2)"
      ],
      "execution_count": null,
      "outputs": [
        {
          "output_type": "execute_result",
          "data": {
            "text/plain": [
              "3"
            ]
          },
          "metadata": {},
          "execution_count": 82
        }
      ]
    },
    {
      "cell_type": "code",
      "source": [
        "# standard way to use functions\n",
        "def f(x):\n",
        "  return 3*x + 1\n",
        "f(3)  \n",
        "\n",
        "# Lambda expressions i.e anonymous functions\n",
        "g = lambda x: 3*x + 1\n",
        "g(3)\n"
      ],
      "metadata": {
        "id": "hFw0L9ZqeL8v"
      },
      "execution_count": null,
      "outputs": []
    },
    {
      "cell_type": "markdown",
      "metadata": {
        "id": "gVmK2F_Bv0K1"
      },
      "source": [
        "## String Manipulation and Regular Expressions\n",
        "\n",
        "One place where the Python language really shines is in the manipulation of strings. This section will cover some of Python's built-in string methods and formatting operations, before moving on to a quick guide to the extremely useful subject of regular expressions. Such string manipulation patterns come up often in the context of data science work, and is one big perk of Python in this context.\n",
        "\n",
        "Strings in Python can be defined using either single or double quotations (they are functionally equivalent):"
      ]
    },
    {
      "cell_type": "code",
      "metadata": {
        "id": "0l2HG8VcwN0A",
        "colab": {
          "base_uri": "https://localhost:8080/"
        },
        "outputId": "b92c0e23-59d6-47a3-b563-6735b8faddf7"
      },
      "source": [
        " x = 'a string'\n",
        " y = \"a string\"\n",
        " x == y"
      ],
      "execution_count": null,
      "outputs": [
        {
          "output_type": "execute_result",
          "data": {
            "text/plain": [
              "True"
            ]
          },
          "metadata": {},
          "execution_count": 1
        }
      ]
    },
    {
      "cell_type": "code",
      "metadata": {
        "id": "RvSpFAljw3vE",
        "colab": {
          "base_uri": "https://localhost:8080/"
        },
        "outputId": "c16dc686-e242-4e88-fecc-517ba8f68cc7"
      },
      "source": [
        "# # Multiline strings\n",
        "multiline = \"\"\"\n",
        " one\n",
        " two\n",
        " three\n",
        " \"\"\"\n",
        "print(multiline)"
      ],
      "execution_count": null,
      "outputs": [
        {
          "output_type": "stream",
          "name": "stdout",
          "text": [
            "\n",
            " one\n",
            " two\n",
            " three\n",
            " \n"
          ]
        }
      ]
    },
    {
      "cell_type": "markdown",
      "metadata": {
        "id": "nqLu4L-bw-g8"
      },
      "source": [
        "\n",
        "With this, let's take a quick tour of some of Python's string manipulation tools."
      ]
    },
    {
      "cell_type": "code",
      "source": [
        "fox = \"tHe qUICk bROWn fOx.\"\n",
        "print(fox.upper()) # returns string in upper-case\n",
        "print(fox.lower()) # returns string in lower-case\n",
        "print(fox.title()) # returns capitalized words wrt the first letter\n",
        "print(fox.capitalize()) # capitalizes the first letter of the first word\n",
        "print(fox.swapcase()) # inverses upper and lower case letters"
      ],
      "metadata": {
        "colab": {
          "base_uri": "https://localhost:8080/"
        },
        "id": "-N4MIadYQG4a",
        "outputId": "b09f0a33-f1ca-495c-91fc-559665b8b543"
      },
      "execution_count": null,
      "outputs": [
        {
          "output_type": "stream",
          "name": "stdout",
          "text": [
            "THE QUICK BROWN FOX.\n",
            "the quick brown fox.\n",
            "The Quick Brown Fox.\n",
            "The quick brown fox.\n",
            "ThE QuicK BrowN FoX.\n"
          ]
        }
      ]
    },
    {
      "cell_type": "code",
      "metadata": {
        "id": "xMu8D22sxbju",
        "colab": {
          "base_uri": "https://localhost:8080/"
        },
        "outputId": "24470adb-0e8d-4f2f-9190-9ede267ed637"
      },
      "source": [
        "# The strip() method removes any leading (spaces at the beginning) \n",
        "# and trailing (spaces at the end) characters (space is the default leading character to remove)\n",
        "\n",
        "fox = \"       tHe   qUICk bROWn fOx.\"\n",
        "print(fox)\n",
        "print(fox.strip())\n",
        "print(fox.lstrip())\n",
        "print(fox.rstrip())\n",
        "print(fox.rstrip('.')) # removes tailing character \".\"\n",
        "print(fox.replace('Ox','XX')) # replaces \"Ox\" by \"XX\""
      ],
      "execution_count": null,
      "outputs": [
        {
          "output_type": "stream",
          "name": "stdout",
          "text": [
            "       tHe   qUICk bROWn fOx.\n",
            "tHe   qUICk bROWn fOx.\n",
            "tHe   qUICk bROWn fOx.\n",
            "       tHe   qUICk bROWn fOx.\n",
            "       tHe   qUICk bROWn fOx\n",
            "       tHe   qUICk bROWn fXX.\n"
          ]
        }
      ]
    },
    {
      "cell_type": "markdown",
      "metadata": {
        "id": "GvEfvI0nzZRT"
      },
      "source": [
        "There are many more convenient string methods. You can look the up in the online documentation."
      ]
    },
    {
      "cell_type": "code",
      "metadata": {
        "id": "DQLkLvmQx11T",
        "colab": {
          "base_uri": "https://localhost:8080/"
        },
        "outputId": "5d3daad2-fb76-4992-8d9b-eaa733bad18d"
      },
      "source": [
        "# Split and work on substrings\n",
        "haiku = \"\"\"matsushima-ya \n",
        "aah matsushima-ya\n",
        "matsushima-ya\"\"\"\n",
        "print(haiku,'\\n')  # \\n is the code for newline, i.e. this statements prints an empty line after the string\n",
        "lines = haiku.splitlines()\n",
        "i=0\n",
        "for line in lines:\n",
        "    i+=1\n",
        "    words = line.split()\n",
        "    print('Line',i,'has', len(words), 'words.')"
      ],
      "execution_count": null,
      "outputs": [
        {
          "output_type": "stream",
          "name": "stdout",
          "text": [
            "matsushima-ya\n",
            "aah matsushima-ya\n",
            "matsushima-ya \n",
            "\n",
            "Line 1 has 1 words.\n",
            "Line 2 has 2 words.\n",
            "Line 3 has 1 words.\n"
          ]
        }
      ]
    },
    {
      "cell_type": "markdown",
      "metadata": {
        "id": "ciRl-jW91Lhc"
      },
      "source": [
        "\n",
        "### Format Strings\n",
        "\n",
        "In the preceding methods, we have learned how to extract values from strings, and to manipulate strings themselves into desired formats. Another use of string methods is to manipulate string representations of values of other types. Of course, string representations can always be found using the str() function; for example"
      ]
    },
    {
      "cell_type": "code",
      "metadata": {
        "colab": {
          "base_uri": "https://localhost:8080/",
          "height": 88
        },
        "id": "ucZ_gTWhz982",
        "outputId": "8caaa662-5057-4d1f-8f8d-5d87a20405e2"
      },
      "source": [
        "pi = 3.14159\n",
        "print(\"The value of pi is \" + str(pi))\n",
        "print(\"pi = %.2f\" % pi)               # % formatting, old style\n",
        "print(\"pi = {0:.3f}\".format(pi))      # format formatting\n",
        "f'pi = {pi:.3f}'                      # fstring formatting"
      ],
      "execution_count": null,
      "outputs": [
        {
          "output_type": "stream",
          "name": "stdout",
          "text": [
            "The value of pi is 3.14159\n",
            "pi = 3.14\n",
            "pi = 3.142\n"
          ]
        },
        {
          "output_type": "execute_result",
          "data": {
            "application/vnd.google.colaboratory.intrinsic+json": {
              "type": "string"
            },
            "text/plain": [
              "'pi = 3.142'"
            ]
          },
          "metadata": {},
          "execution_count": 18
        }
      ]
    },
    {
      "cell_type": "markdown",
      "metadata": {
        "id": "pjph6M7O2GF9"
      },
      "source": [
        "This style of format specification is very flexible, and the examples here barely scratch the surface of the formatting options available. For more information on the syntax of these format strings, see the Format Specification section of Python's online documentation."
      ]
    },
    {
      "cell_type": "markdown",
      "metadata": {
        "id": "UYXde0tZ3LRL"
      },
      "source": [
        "### Flexible Pattern Matching with Regular Expressions¶\n",
        "\n",
        "The methods of Python's str type give you a powerful set of tools for formatting, splitting, and manipulating string data. But even more powerful tools are available in Python's built-in regular expression module. Regular expressions are a huge topic; there are entire books written on the topic (including Jeffrey E.F. Friedl’s Mastering Regular Expressions, 3rd Edition), so it will be hard to do justice within just a single subsection.\n"
      ]
    },
    {
      "cell_type": "code",
      "metadata": {
        "colab": {
          "base_uri": "https://localhost:8080/"
        },
        "id": "PL0fGoi81qfz",
        "outputId": "b3af10c7-5084-45e7-96c7-54838060260b"
      },
      "source": [
        "# Just one example with regular expressions\n",
        "import re\n",
        "email = re.compile('\\w+@\\w+\\.[a-z]{3}')\n",
        "text = \"To email Guido, try guido@python.org or the older address guido@google.com.\"\n",
        "email.findall(text)"
      ],
      "execution_count": null,
      "outputs": [
        {
          "output_type": "execute_result",
          "data": {
            "text/plain": [
              "['guido@python.org', 'guido@google.com']"
            ]
          },
          "metadata": {},
          "execution_count": 19
        }
      ]
    },
    {
      "cell_type": "code",
      "source": [
        "# validation of an email adress\n",
        "import re\n",
        "\n",
        "pattern = \"[a-zA-Z0-9]+@[a-zA-Z]+\\.(com|edu|net|ch)\"\n",
        "user_input = input()\n",
        "if(re.search(pattern, user_input)):\n",
        "  print(\"Valid\")\n",
        "else:\n",
        "  print(\"Invalid\")  "
      ],
      "metadata": {
        "colab": {
          "base_uri": "https://localhost:8080/"
        },
        "id": "p7gBVBk7TfsC",
        "outputId": "2c21a2a2-6bb3-4bbb-b1d2-fdfb2575536c"
      },
      "execution_count": null,
      "outputs": [
        {
          "output_type": "stream",
          "name": "stdout",
          "text": [
            "m\n",
            "Invalid\n"
          ]
        }
      ]
    },
    {
      "cell_type": "markdown",
      "metadata": {
        "id": "yH876ZqL4J_i"
      },
      "source": [
        "### Further Resources on Regular Expressions\n",
        "\n",
        "If you'd like to learn more, I recommend the following resources:\n",
        "\n",
        "- [Python's ``re`` package Documentation](https://docs.python.org/3/library/re.html): I find that I promptly forget how to use regular expressions just about every time I use them. Now that I have the basics down, I have found this page to be an incredibly valuable resource to recall what each specific character or sequence means within a regular expression.\n",
        "- [Python's official regular expression HOWTO](https://docs.python.org/3/howto/regex.html): a more narrative approach to regular expressions in Python.\n",
        "- [Mastering Regular Expressions (OReilly, 2006)](http://shop.oreilly.com/product/9780596528126.do) is a 500+ page book on the subject. If you want a really complete treatment of this topic, this is the resource for you.\n",
        "\n",
        "For some examples of string manipulation and regular expressions in action at a larger scale, see [Pandas: Labeled Column-oriented Data](15-Preview-of-Data-Science-Tools.ipynb#Pandas:-Labeled-Column-oriented-Data), where we look at applying these sorts of expressions across *tables* of string data within the Pandas package."
      ]
    },
    {
      "cell_type": "code",
      "source": [
        "import re\n",
        "string = \"this 34 a tex with some 12 numbers 45\"\n",
        "numbers = re.findall(\"\\d+\", string) # finds all numbers in the string \n",
        "numbers"
      ],
      "metadata": {
        "colab": {
          "base_uri": "https://localhost:8080/"
        },
        "id": "Id-qsKJfRfyW",
        "outputId": "0876b7b2-7ff5-4497-8f4d-c96889da06f5"
      },
      "execution_count": 3,
      "outputs": [
        {
          "output_type": "execute_result",
          "data": {
            "text/plain": [
              "['34', '12', '45']"
            ]
          },
          "metadata": {},
          "execution_count": 3
        }
      ]
    },
    {
      "cell_type": "markdown",
      "metadata": {
        "id": "nBcpdGVV4NNR"
      },
      "source": [
        "## File and Operating System Operations"
      ]
    },
    {
      "cell_type": "markdown",
      "metadata": {
        "id": "FBSd80eF9tdv"
      },
      "source": [
        "\n",
        "Filesystem operations can be carried out by executing a normal shell command preceded by exclamation mark. Here is how may look like on a Linux machine."
      ]
    },
    {
      "cell_type": "code",
      "metadata": {
        "id": "ocFAH5Gc4q6e"
      },
      "source": [
        " # ! ls -l\n",
        " # ! pwd\n",
        " # ! cd dir_name \n",
        " # ! mkdir dir_name\n",
        " # etc."
      ],
      "execution_count": null,
      "outputs": []
    },
    {
      "cell_type": "markdown",
      "metadata": {
        "id": "_TP1muXT951n"
      },
      "source": [
        "Python has a library, the [operating system module (os)](https://docs.python.org/3/library/os.html), which makes the code os independent and the interface to the rest of the Python code transparent. "
      ]
    },
    {
      "cell_type": "code",
      "metadata": {
        "id": "a4C-sMrA93D3",
        "colab": {
          "base_uri": "https://localhost:8080/"
        },
        "outputId": "2b5b8e95-7e40-4eda-afd3-3758de63926d"
      },
      "source": [
        " import os\n",
        " cwd = os.getcwd()        # Returns the path to the current working directory.\n",
        " os.mkdir(cwd+'/data')   # Creates a directory; nothing happens if the directory already exists. Creates all the intermediate-level directories needed to contain the leaf.\n",
        " os.chdir('data')         # Changes the current working directory to path.\n",
        " print(os.listdir())    # Returns the list of entries in directory dir (omitting ‘.’ and ‘..’) \n",
        " os.chdir('..')\n",
        " print(os.listdir())\n",
        " os.rename('data','data-new') # Renames a file or directory from old to new.\n",
        " print(os.listdir())"
      ],
      "execution_count": null,
      "outputs": [
        {
          "output_type": "stream",
          "name": "stdout",
          "text": [
            "[]\n",
            "['.config', 'data', 'sample_data']\n",
            "['.config', 'data-new', 'sample_data']\n"
          ]
        }
      ]
    },
    {
      "cell_type": "code",
      "metadata": {
        "id": "lqq2VilV_r1h",
        "colab": {
          "base_uri": "https://localhost:8080/"
        },
        "outputId": "00f2cea9-65c1-4811-9e98-c7b858b15c4f"
      },
      "source": [
        "# # More stuff\n",
        "path = 'data-new'\n",
        "print(os.path.exists(path))   # Returns True if path exists.\n",
        "print(os.path.isdir(path))    # Returns True if path is a directory.\n",
        "print(os.path.isfile(path))   # Returns True if path is a regular file.\n",
        "print(os.path.basename(path)) # Returns the base name (the part after the last ‘/’ character)\n",
        "print(os.path.dirname(path))  # Returns the directory name (the part before the last / character).\n",
        "print(os.path.abspath(path))  # Make path absolute (i.e., start with a /).\n",
        "print(os.path.relpath(path))  # Make path relative"
      ],
      "execution_count": null,
      "outputs": [
        {
          "output_type": "stream",
          "name": "stdout",
          "text": [
            "True\n",
            "True\n",
            "False\n",
            "data-new\n",
            "\n",
            "/content/data-new\n",
            "data-new\n"
          ]
        }
      ]
    },
    {
      "cell_type": "markdown",
      "metadata": {
        "id": "DSgNno1vCqho"
      },
      "source": [
        "The shell utilities module [shutil](https://docs.python.org/3/library/shutil.html) is also very useful."
      ]
    },
    {
      "cell_type": "code",
      "metadata": {
        "id": "IRCS1SRFA8Md"
      },
      "source": [
        "# import shutil as sh\n",
        "# sh.copy('../sample_data/README.md','./')\n",
        "# sh.move('README.md','ReadMe.md')\n",
        "# ! ls -l\n",
        "# os.remove('ReadMe.md')\n",
        "# ! ls -l"
      ],
      "execution_count": null,
      "outputs": []
    },
    {
      "cell_type": "markdown",
      "metadata": {
        "id": "WX9MxvZVE2X6"
      },
      "source": [
        "## Reading and Writing (text) Files\n"
      ]
    },
    {
      "cell_type": "markdown",
      "metadata": {
        "id": "RFI3ywGRtsFm"
      },
      "source": [
        "There are many types of files, i.e. they have different formats. For data analysis the Pandas library has the methods for reading and writing common data files (csv, excel, json, html ...). There are other libraries for handling other types of files like images, audio files etc. Quite often one needs to deal with text (ascii) files in a data analysis process. Here we show how this can be done. "
      ]
    },
    {
      "cell_type": "code",
      "metadata": {
        "id": "jqdypWPkE8pY"
      },
      "source": [
        "# Here we have some text to be saved to a file\n",
        "mytext = \"\"\"WORKSHOP HAIKU\n",
        "translated by Éva Antal\n",
        "\n",
        "Perhaps do not even touch it.\n",
        "Just look at it, look at it,\n",
        "until it becomes beautiful.\n",
        "\n",
        " \n",
        "\n",
        "TEST QUESTION FOR EVERY DAY\n",
        "translated by Éva Antal\n",
        "\n",
        "Do you still see\n",
        "what you look at, or you only\n",
        "know: \"there\" \"it\" \"is\"?\n",
        "\n",
        " \n",
        "\n",
        "FROM THE BEST OF INTENTIONS\n",
        "translated by Gábor G. Gyukics and Michael Castro\n",
        "\n",
        "fall asleep;\n",
        "die the same way a child\n",
        "bites into an apple.\n",
        "\n",
        " \n",
        "\n",
        "MEETING\n",
        "translated by Gábor G. Gyukics and Michael Castro\n",
        "\n",
        "I plan it as a farewell\n",
        "\n",
        " \n",
        "\n",
        "THE HAIKU\n",
        "translated by Tamás Révbíró\n",
        "\n",
        "in front of my feet\n",
        "a bird sat, and then took flight.\n",
        "Now I'm heavier.\n",
        "\n",
        " \n",
        "\n",
        "AXIOM\n",
        "translated by Tamás Révbíró\n",
        "\n",
        "You should try and help\n",
        "everything to be the way\n",
        "it is anyway.\n",
        "\n",
        " \n",
        "\n",
        "ECHO ON EPICTETUS\n",
        "translated by Tamás Révbíró\n",
        "\n",
        "Don't say, \"I lost it\",\n",
        "about anything. Rather\n",
        "say, \"I gave it back\".\n",
        "\n",
        " \n",
        "\n",
        "AXIOM\n",
        "translated by Tamás Révbíró\n",
        "\n",
        "Parents and killers:\n",
        "almost-innocent servants.\n",
        "They just execute.\n",
        "\n",
        " \n",
        "\n",
        "ZENsation\n",
        "translated by Tamás Révbíró\n",
        "\n",
        "Look, the snow gives body to the wind!\n",
        "\n",
        " \n",
        "\n",
        "DISILLUSIONIST\n",
        "translated by Tamás Révbíró\n",
        "\n",
        "Why should I travel\n",
        "when I can be a stranger\n",
        "right here, standing still?\"\"\""
      ],
      "execution_count": null,
      "outputs": []
    },
    {
      "cell_type": "code",
      "metadata": {
        "id": "8lAQkZDGvMB2"
      },
      "source": [
        "# # Create a file with argument w and use it as an object\n",
        "# with open('Haikus.txt', 'w') as outstream:\n",
        "# outstream.write(mytext)"
      ],
      "execution_count": null,
      "outputs": []
    },
    {
      "cell_type": "code",
      "metadata": {
        "id": "IZ_RX7AovnN7"
      },
      "source": [
        "# # Open the file and read the first two lines\n",
        "# with open('Haikus.txt', 'r') as instream:\n",
        "#     print(instream.readline())\n",
        "#     print(instream.readline())"
      ],
      "execution_count": null,
      "outputs": []
    },
    {
      "cell_type": "code",
      "metadata": {
        "id": "nSESjjU7vywA"
      },
      "source": [
        "# # Read all the lines and print the first 6\n",
        "# with open('Haikus.txt', 'r') as instream:\n",
        "#     textlines = instream.readlines()\n",
        "# for i in range(6):\n",
        "#     print(textlines[i])"
      ],
      "execution_count": null,
      "outputs": []
    },
    {
      "cell_type": "markdown",
      "metadata": {
        "id": "sOyIxpDPwTYG"
      },
      "source": [
        "Now that we knows how to read and write files, we can use the string methods or regular expressions to work on them. "
      ]
    },
    {
      "cell_type": "markdown",
      "metadata": {
        "id": "S58uKUGzwpNR"
      },
      "source": [
        "## Modules and Packages\n"
      ]
    },
    {
      "cell_type": "markdown",
      "metadata": {
        "id": "nlQ21JjyPJxe"
      },
      "source": [
        "\n",
        "One feature of Python that makes it useful for a wide range of tasks is the fact that it comes \"batteries included\" – that is, the Python standard library contains useful tools for a wide range of tasks. On top of this, there is a broad ecosystem of third-party tools and packages that offer more specialized functionality. Here we'll take a look at importing standard library modules and tools for installing third-party modules.\n",
        "\n",
        "### Loading Modules: the import Statement\n",
        "For loading built-in and third-party modules, Python provides the import statement. There are a few ways to use the statement."
      ]
    },
    {
      "cell_type": "code",
      "metadata": {
        "id": "amctv8p3PZZE",
        "colab": {
          "base_uri": "https://localhost:8080/"
        },
        "outputId": "8bbe0ebe-2ebf-43e1-ff7a-f58d4b8ee59f"
      },
      "source": [
        "# # Explicit \n",
        "import math\n",
        "print(math.cos(math.pi))\n",
        "print(math.sin(math.pi))"
      ],
      "execution_count": null,
      "outputs": [
        {
          "output_type": "stream",
          "name": "stdout",
          "text": [
            "-1.0\n",
            "1.2246467991473532e-16\n"
          ]
        }
      ]
    },
    {
      "cell_type": "code",
      "metadata": {
        "id": "MKqt3iirPnTB",
        "colab": {
          "base_uri": "https://localhost:8080/"
        },
        "outputId": "36e1d989-6d85-4031-9c55-6a2501a42ea4"
      },
      "source": [
        "# # Explicit by alias\n",
        "import numpy as np\n",
        "print(np.cos(np.pi))\n",
        "print(np.sin(np.pi))"
      ],
      "execution_count": null,
      "outputs": [
        {
          "output_type": "stream",
          "name": "stdout",
          "text": [
            "-1.0\n",
            "1.2246467991473532e-16\n"
          ]
        }
      ]
    },
    {
      "cell_type": "code",
      "metadata": {
        "id": "7Enyf3gCP27C",
        "colab": {
          "base_uri": "https://localhost:8080/"
        },
        "outputId": "c419caf4-f020-405a-af69-286a3b1d0a87"
      },
      "source": [
        "# # Explicit import of contents from a module\n",
        "from math import cos, sin, pi\n",
        "print(cos(pi))\n",
        "print(sin(pi))"
      ],
      "execution_count": null,
      "outputs": [
        {
          "output_type": "stream",
          "name": "stdout",
          "text": [
            "-1.0\n",
            "1.2246467991473532e-16\n"
          ]
        }
      ]
    },
    {
      "cell_type": "code",
      "metadata": {
        "id": "C9gK1VGdQKiT",
        "colab": {
          "base_uri": "https://localhost:8080/"
        },
        "outputId": "6a4ab4de-73d1-415a-fbfe-c53987891586"
      },
      "source": [
        "# # Implicit import of module contents\n",
        "from math import *\n",
        "sin(pi) ** 2 + cos(pi) ** 2 # Eulers identity"
      ],
      "execution_count": null,
      "outputs": [
        {
          "output_type": "execute_result",
          "data": {
            "text/plain": [
              "1.0"
            ]
          },
          "metadata": {},
          "execution_count": 14
        }
      ]
    },
    {
      "cell_type": "code",
      "source": [
        "# plotting\n",
        "\n",
        "import numpy as np\n",
        "import matplotlib.pyplot as plt\n",
        "\n",
        "def f(x, a, b, c):\n",
        "  return a*x**2 + b*x + c\n",
        "\n",
        "x_list = np.linspace(-10, 10, num=1000)\n",
        "y_list = f(x_list, a=3, b=-1, c=5)\n",
        "\n",
        "plt.figure(num=0, dpi=120)\n",
        "plt.plot(x_list, y_list, label=r\"$f(x)=ax^2 + bx + c$\")\n",
        "plt.plot(x_list, y_list**(1/2), label=r\"$\\sqrt{f(x)}$\")\n",
        "plt.title(\"Title\")\n",
        "plt.xlabel(\"x / cm\")\n",
        "plt.ylabel(\"y / cm\")\n",
        "plt.legend()"
      ],
      "metadata": {
        "colab": {
          "base_uri": "https://localhost:8080/",
          "height": 499
        },
        "id": "4ZMS5bSVgItE",
        "outputId": "54882dd5-df74-4a2b-bfc6-77723b71169d"
      },
      "execution_count": null,
      "outputs": [
        {
          "output_type": "execute_result",
          "data": {
            "text/plain": [
              "<matplotlib.legend.Legend at 0x7f2301c23ad0>"
            ]
          },
          "metadata": {},
          "execution_count": 37
        },
        {
          "output_type": "display_data",
          "data": {
            "image/png": "[encoded data removed]",
            "text/plain": [
              "<Figure size 720x480 with 1 Axes>"
            ]
          },
          "metadata": {
            "needs_background": "light"
          }
        }
      ]
    },
    {
      "cell_type": "markdown",
      "metadata": {
        "id": "jMXkSbf4QYzq"
      },
      "source": [
        "\n",
        "### Importing from Python's Standard Library\n",
        "Python's standard library contains many useful built-in modules, which you can read about fully in Python's documentation. Any of these can be imported with the import statement, and then explored using the help function.\n",
        "\n",
        "You can find information on these, and many more, in the Python standard library documentation: https://docs.python.org/3/library/."
      ]
    },
    {
      "cell_type": "code",
      "metadata": {
        "id": "t3MKZyVmQhog",
        "colab": {
          "base_uri": "https://localhost:8080/"
        },
        "outputId": "581dfd9c-fd52-4db7-b4c4-cc053abd4cae"
      },
      "source": [
        "import math\n",
        "help(math)"
      ],
      "execution_count": null,
      "outputs": [
        {
          "output_type": "stream",
          "name": "stdout",
          "text": [
            "Help on built-in module math:\n",
            "\n",
            "NAME\n",
            "    math\n",
            "\n",
            "DESCRIPTION\n",
            "    This module provides access to the mathematical functions\n",
            "    defined by the C standard.\n",
            "\n",
            "FUNCTIONS\n",
            "    acos(x, /)\n",
            "        Return the arc cosine (measured in radians) of x.\n",
            "    \n",
            "    acosh(x, /)\n",
            "        Return the inverse hyperbolic cosine of x.\n",
            "    \n",
            "    asin(x, /)\n",
            "        Return the arc sine (measured in radians) of x.\n",
            "    \n",
            "    asinh(x, /)\n",
            "        Return the inverse hyperbolic sine of x.\n",
            "    \n",
            "    atan(x, /)\n",
            "        Return the arc tangent (measured in radians) of x.\n",
            "    \n",
            "    atan2(y, x, /)\n",
            "        Return the arc tangent (measured in radians) of y/x.\n",
            "        \n",
            "        Unlike atan(y/x), the signs of both x and y are considered.\n",
            "    \n",
            "    atanh(x, /)\n",
            "        Return the inverse hyperbolic tangent of x.\n",
            "    \n",
            "    ceil(x, /)\n",
            "        Return the ceiling of x as an Integral.\n",
            "        \n",
            "        This is the smallest integer >= x.\n",
            "    \n",
            "    copysign(x, y, /)\n",
            "        Return a float with the magnitude (absolute value) of x but the sign of y.\n",
            "        \n",
            "        On platforms that support signed zeros, copysign(1.0, -0.0)\n",
            "        returns -1.0.\n",
            "    \n",
            "    cos(x, /)\n",
            "        Return the cosine of x (measured in radians).\n",
            "    \n",
            "    cosh(x, /)\n",
            "        Return the hyperbolic cosine of x.\n",
            "    \n",
            "    degrees(x, /)\n",
            "        Convert angle x from radians to degrees.\n",
            "    \n",
            "    erf(x, /)\n",
            "        Error function at x.\n",
            "    \n",
            "    erfc(x, /)\n",
            "        Complementary error function at x.\n",
            "    \n",
            "    exp(x, /)\n",
            "        Return e raised to the power of x.\n",
            "    \n",
            "    expm1(x, /)\n",
            "        Return exp(x)-1.\n",
            "        \n",
            "        This function avoids the loss of precision involved in the direct evaluation of exp(x)-1 for small x.\n",
            "    \n",
            "    fabs(x, /)\n",
            "        Return the absolute value of the float x.\n",
            "    \n",
            "    factorial(x, /)\n",
            "        Find x!.\n",
            "        \n",
            "        Raise a ValueError if x is negative or non-integral.\n",
            "    \n",
            "    floor(x, /)\n",
            "        Return the floor of x as an Integral.\n",
            "        \n",
            "        This is the largest integer <= x.\n",
            "    \n",
            "    fmod(x, y, /)\n",
            "        Return fmod(x, y), according to platform C.\n",
            "        \n",
            "        x % y may differ.\n",
            "    \n",
            "    frexp(x, /)\n",
            "        Return the mantissa and exponent of x, as pair (m, e).\n",
            "        \n",
            "        m is a float and e is an int, such that x = m * 2.**e.\n",
            "        If x is 0, m and e are both 0.  Else 0.5 <= abs(m) < 1.0.\n",
            "    \n",
            "    fsum(seq, /)\n",
            "        Return an accurate floating point sum of values in the iterable seq.\n",
            "        \n",
            "        Assumes IEEE-754 floating point arithmetic.\n",
            "    \n",
            "    gamma(x, /)\n",
            "        Gamma function at x.\n",
            "    \n",
            "    gcd(x, y, /)\n",
            "        greatest common divisor of x and y\n",
            "    \n",
            "    hypot(x, y, /)\n",
            "        Return the Euclidean distance, sqrt(x*x + y*y).\n",
            "    \n",
            "    isclose(a, b, *, rel_tol=1e-09, abs_tol=0.0)\n",
            "        Determine whether two floating point numbers are close in value.\n",
            "        \n",
            "          rel_tol\n",
            "            maximum difference for being considered \"close\", relative to the\n",
            "            magnitude of the input values\n",
            "          abs_tol\n",
            "            maximum difference for being considered \"close\", regardless of the\n",
            "            magnitude of the input values\n",
            "        \n",
            "        Return True if a is close in value to b, and False otherwise.\n",
            "        \n",
            "        For the values to be considered close, the difference between them\n",
            "        must be smaller than at least one of the tolerances.\n",
            "        \n",
            "        -inf, inf and NaN behave similarly to the IEEE 754 Standard.  That\n",
            "        is, NaN is not close to anything, even itself.  inf and -inf are\n",
            "        only close to themselves.\n",
            "    \n",
            "    isfinite(x, /)\n",
            "        Return True if x is neither an infinity nor a NaN, and False otherwise.\n",
            "    \n",
            "    isinf(x, /)\n",
            "        Return True if x is a positive or negative infinity, and False otherwise.\n",
            "    \n",
            "    isnan(x, /)\n",
            "        Return True if x is a NaN (not a number), and False otherwise.\n",
            "    \n",
            "    ldexp(x, i, /)\n",
            "        Return x * (2**i).\n",
            "        \n",
            "        This is essentially the inverse of frexp().\n",
            "    \n",
            "    lgamma(x, /)\n",
            "        Natural logarithm of absolute value of Gamma function at x.\n",
            "    \n",
            "    log(...)\n",
            "        log(x, [base=math.e])\n",
            "        Return the logarithm of x to the given base.\n",
            "        \n",
            "        If the base not specified, returns the natural logarithm (base e) of x.\n",
            "    \n",
            "    log10(x, /)\n",
            "        Return the base 10 logarithm of x.\n",
            "    \n",
            "    log1p(x, /)\n",
            "        Return the natural logarithm of 1+x (base e).\n",
            "        \n",
            "        The result is computed in a way which is accurate for x near zero.\n",
            "    \n",
            "    log2(x, /)\n",
            "        Return the base 2 logarithm of x.\n",
            "    \n",
            "    modf(x, /)\n",
            "        Return the fractional and integer parts of x.\n",
            "        \n",
            "        Both results carry the sign of x and are floats.\n",
            "    \n",
            "    pow(x, y, /)\n",
            "        Return x**y (x to the power of y).\n",
            "    \n",
            "    radians(x, /)\n",
            "        Convert angle x from degrees to radians.\n",
            "    \n",
            "    remainder(x, y, /)\n",
            "        Difference between x and the closest integer multiple of y.\n",
            "        \n",
            "        Return x - n*y where n*y is the closest integer multiple of y.\n",
            "        In the case where x is exactly halfway between two multiples of\n",
            "        y, the nearest even value of n is used. The result is always exact.\n",
            "    \n",
            "    sin(x, /)\n",
            "        Return the sine of x (measured in radians).\n",
            "    \n",
            "    sinh(x, /)\n",
            "        Return the hyperbolic sine of x.\n",
            "    \n",
            "    sqrt(x, /)\n",
            "        Return the square root of x.\n",
            "    \n",
            "    tan(x, /)\n",
            "        Return the tangent of x (measured in radians).\n",
            "    \n",
            "    tanh(x, /)\n",
            "        Return the hyperbolic tangent of x.\n",
            "    \n",
            "    trunc(x, /)\n",
            "        Truncates the Real x to the nearest Integral toward 0.\n",
            "        \n",
            "        Uses the __trunc__ magic method.\n",
            "\n",
            "DATA\n",
            "    e = 2.718281828459045\n",
            "    inf = inf\n",
            "    nan = nan\n",
            "    pi = 3.141592653589793\n",
            "    tau = 6.283185307179586\n",
            "\n",
            "FILE\n",
            "    (built-in)\n",
            "\n",
            "\n"
          ]
        }
      ]
    },
    {
      "cell_type": "markdown",
      "metadata": {
        "id": "zHWdzz2FQ802"
      },
      "source": [
        "### Importing third-party modules"
      ]
    },
    {
      "cell_type": "markdown",
      "metadata": {
        "id": "MCYSaobaQjuA"
      },
      "source": [
        "Importing from Third-Party Modules\n",
        "One of the things that makes Python useful, especially within the world of data science, is its ecosystem of third-party modules. These can be imported just as the built-in modules, but first the modules must be installed on your system. The standard registry for such modules is the Python Package Index (PyPI for short), found on the Web at http://pypi.python.org/. For convenience, Python comes with a program called pip (a recursive acronym meaning \"pip installs packages\"), which will automatically fetch packages released and listed on PyPI (if you use Python version 2, pip must be installed separately). For example, if you'd like to install the supersmoother package, all that is required is to type the following at the command line:"
      ]
    },
    {
      "cell_type": "code",
      "metadata": {
        "id": "l4U1IRRIQz32",
        "colab": {
          "base_uri": "https://localhost:8080/"
        },
        "outputId": "67e813ad-958c-43ae-e98c-ff2813729b2d"
      },
      "source": [
        "# !pip install supersmooother"
      ],
      "execution_count": null,
      "outputs": [
        {
          "output_type": "stream",
          "name": "stdout",
          "text": [
            "\u001b[31mERROR: Could not find a version that satisfies the requirement supersmooother (from versions: none)\u001b[0m\n",
            "\u001b[31mERROR: No matching distribution found for supersmooother\u001b[0m\n"
          ]
        }
      ]
    },
    {
      "cell_type": "markdown",
      "metadata": {
        "id": "lSZGdBjBRHEb"
      },
      "source": [
        "### Writing own modules and packages"
      ]
    },
    {
      "cell_type": "markdown",
      "metadata": {
        "id": "u91mEYTiROuF"
      },
      "source": [
        "You may of course write your own Python modules and import them when needed. You can also package them and make them available to others. We don't cover this in this course."
      ]
    },
    {
      "cell_type": "code",
      "metadata": {
        "id": "VliguZ9yRfeS"
      },
      "source": [
        ""
      ],
      "execution_count": null,
      "outputs": []
    },
    {
      "cell_type": "markdown",
      "source": [
        "# Exercise"
      ],
      "metadata": {
        "id": "Jn69nKYDxJQu"
      }
    },
    {
      "cell_type": "markdown",
      "source": [
        "- Write a function which takes the path and name of the CCD data file on your google drive, opens the file and reads the metadata at the beginning of the file and returns this as a string which you can print.\n",
        "- Modify the function such that it saves the metadata in a file called \"CCD-Data.txt\" and the rest, i.e. only the data, in a file called CCD-Data.csv\n",
        "- Write a script which counts the number of time stamps in the data file."
      ],
      "metadata": {
        "id": "lNKRs-0kxPT4"
      }
    },
    {
      "cell_type": "code",
      "source": [
        "# Note: wrong doucment mentionned above"
      ],
      "metadata": {
        "id": "7Y56XoLRl_gg",
        "outputId": "15ad2c33-391f-4802-8334-35f22bbc0887",
        "colab": {
          "base_uri": "https://localhost:8080/"
        }
      },
      "execution_count": null,
      "outputs": [
        {
          "output_type": "stream",
          "name": "stdout",
          "text": [
            "6\n"
          ]
        }
      ]
    }
  ]
}