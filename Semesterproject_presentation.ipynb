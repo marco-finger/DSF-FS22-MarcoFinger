{
  "nbformat": 4,
  "nbformat_minor": 0,
  "metadata": {
    "colab": {
      "name": "Untitled1.ipynb",
      "provenance": [],
      "authorship_tag": "ABX9TyOb2pXdbj5AdRynUP2F92y7",
      "include_colab_link": true
    },
    "kernelspec": {
      "name": "python3",
      "display_name": "Python 3"
    },
    "language_info": {
      "name": "python"
    }
  },
  "cells": [
    {
      "cell_type": "markdown",
      "metadata": {
        "id": "view-in-github",
        "colab_type": "text"
      },
      "source": [
        "<a href=\"https://colab.research.google.com/github/marco-finger/DSF-FS22-MarcoFinger/blob/main/Semesterproject_presentation.ipynb\" target=\"_parent\"><img src=\"https://colab.research.google.com/assets/colab-badge.svg\" alt=\"Open In Colab\"/></a>"
      ]
    },
    {
      "cell_type": "markdown",
      "source": [
        "475186-FS2022-0-Data Science Fundamentals - for chemists and biochemists \\\\\n",
        "Semester project: molecular dynamics (MD) with use of high performance computing (HPC) cluster"
      ],
      "metadata": {
        "id": "jEFXdE9DjDGE"
      }
    },
    {
      "cell_type": "markdown",
      "source": [
        "# Semesterproject - Group 5"
      ],
      "metadata": {
        "id": "0M1xZopqjEoX"
      }
    },
    {
      "cell_type": "markdown",
      "source": [
        "## Getting Started"
      ],
      "metadata": {
        "id": "bm9OE0hpjb4B"
      }
    },
    {
      "cell_type": "markdown",
      "source": [
        "Putty\n",
        "\n",
        "Shell / Terminal\n",
        "\n",
        "VPN \n",
        "\n",
        "FileZilla"
      ],
      "metadata": {
        "id": "ye4niiyFj2T6"
      }
    },
    {
      "cell_type": "markdown",
      "source": [
        "## Tutorial"
      ],
      "metadata": {
        "id": "vqz5W4xBkQ86"
      }
    },
    {
      "cell_type": "markdown",
      "source": [
        "Adopt file names\n",
        "\n",
        "Wait for feedback / output\n",
        "\n",
        "Plots"
      ],
      "metadata": {
        "id": "V0y8BYD3kUK1"
      }
    },
    {
      "cell_type": "markdown",
      "source": [
        "## UBELIX 1 - Hello World"
      ],
      "metadata": {
        "id": "xn7_WQlyknkp"
      }
    },
    {
      "cell_type": "markdown",
      "source": [
        "Getting access\n",
        "\n",
        "Run code\n",
        "\n",
        "Output / Job manager\n",
        "\n",
        "Refer to documentation"
      ],
      "metadata": {
        "id": "Sx8kV_jllAEB"
      }
    },
    {
      "cell_type": "markdown",
      "source": [
        "## UBELIX 2 - Production Run"
      ],
      "metadata": {
        "id": "X9q3229ZlPRn"
      }
    },
    {
      "cell_type": "markdown",
      "source": [
        "## Learning Outcomes"
      ],
      "metadata": {
        "id": "fyeCRKp3mtZU"
      }
    },
    {
      "cell_type": "markdown",
      "source": [
        "\n",
        "\n",
        "*   Remote access to servers\n",
        "*   Introduction into MD\n",
        "*   Basic Bash / command line interface / Terminal window\n",
        "*   SLURM scheduling system\n",
        "*   Accessing UBELIX and perform basic computations\n",
        "\n"
      ],
      "metadata": {
        "id": "prAiKeRVmwda"
      }
    },
    {
      "cell_type": "markdown",
      "source": [
        "## Conclusion"
      ],
      "metadata": {
        "id": "t8yNLLVXlnrJ"
      }
    },
    {
      "cell_type": "markdown",
      "source": [
        "\n",
        "\n",
        "*   Take your time and read the manuel beforehand, especially when it comes to UBELIX\n",
        "*   When working from home, connect to the Uni VPN\n",
        "*   Always make sure to use latest versions of your files and name them properly\n",
        "*   Files should always be in the correct directory\n",
        "*   Patience and resilience are key\n",
        "\n"
      ],
      "metadata": {
        "id": "SDIK0cYelsmN"
      }
    }
  ]
}