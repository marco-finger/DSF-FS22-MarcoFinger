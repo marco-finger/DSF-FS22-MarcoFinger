{
  "nbformat": 4,
  "nbformat_minor": 0,
  "metadata": {
    "colab": {
      "name": "CodingTask2.ipynb",
      "provenance": [],
      "include_colab_link": true
    },
    "kernelspec": {
      "name": "python3",
      "display_name": "Python 3"
    },
    "language_info": {
      "name": "python"
    }
  },
  "cells": [
    {
      "cell_type": "markdown",
      "metadata": {
        "id": "view-in-github",
        "colab_type": "text"
      },
      "source": [
        "<a href=\"https://colab.research.google.com/github/marco-finger/DSF-FS22-MarcoFinger/blob/main/CodingTask2.ipynb\" target=\"_parent\"><img src=\"https://colab.research.google.com/assets/colab-badge.svg\" alt=\"Open In Colab\"/></a>"
      ]
    },
    {
      "cell_type": "markdown",
      "source": [
        "Data Science Fundamentals for DCBP, S. Haug, University of Bern "
      ],
      "metadata": {
        "id": "_-1mhuoK6uqC"
      }
    },
    {
      "cell_type": "markdown",
      "source": [
        "# Coding Task 2\n",
        "\n",
        "- Deadline (upload to Ilias): 2022-05-15 24:00\n",
        "- Solutions in lecture on 2022-05-18\n",
        "- Estimated effort: from 4 to 60 hours\n",
        "- Images (data) on Ilias in the Data folder, the images.zip file\n",
        "- Main notebook is number 11 for this task, however, also others may help you. You can also benefit a lot from googeling for code examples\n"
      ],
      "metadata": {
        "id": "gn4RkUC66-ou"
      }
    },
    {
      "cell_type": "markdown",
      "source": [
        "## Subtasks (maximum 12.5 points)"
      ],
      "metadata": {
        "id": "KYKF2iS56v1z"
      }
    },
    {
      "cell_type": "markdown",
      "source": [
        "- Upload the images to a folder on your google drive. Write a function which retrieves the filenames of the images, contains a loop converting them to png images and saves them. [about 1 hour] [max 3 points] \n",
        "- With some filtering and sthresholding, write a function which converts the colored bins into nice white segments on a black background for one image. [about 1 hour][max 3 points]\n",
        "- Write an algorithm which counts the number of bins. First approach could be a \"sliding window\" algorithm, i.e a loop sliding over the image and counting regions with substantial white content. There may also be nice segmentation tools out \"there\" already. You may google. [about 4 hours][max 3 points] \n",
        "- Write an algorithm which does the latter task on all images. As the images are quite different, this is a large task which goes beyond the time budget of this exercise, however, you can give it a try. If it works out for a couple of images, that is already good. [from 4 to 50 hours][max 3.5 points]"
      ],
      "metadata": {
        "id": "rXqhhPMu9aPx"
      }
    },
    {
      "cell_type": "markdown",
      "source": [
        "Work in teams and have fun ! "
      ],
      "metadata": {
        "id": "OfvMackX-SFc"
      }
    },
    {
      "cell_type": "markdown",
      "source": [
        "### Substask 1"
      ],
      "metadata": {
        "id": "PVvcAC2251Fh"
      }
    },
    {
      "cell_type": "code",
      "source": [
        "import numpy as np\n",
        "import matplotlib.pyplot as plt\n",
        "import skimage.io as io"
      ],
      "metadata": {
        "id": "rwnCWPuO7sJZ"
      },
      "execution_count": 23,
      "outputs": []
    },
    {
      "cell_type": "code",
      "source": [
        "from google.colab import drive\n",
        "drive.mount('/content/drive')"
      ],
      "metadata": {
        "colab": {
          "base_uri": "https://localhost:8080/"
        },
        "id": "4CvSHr970pbZ",
        "outputId": "c6d248e4-141b-4e41-ff20-6a1d8a7d2c1f"
      },
      "execution_count": 24,
      "outputs": [
        {
          "output_type": "stream",
          "name": "stdout",
          "text": [
            "Drive already mounted at /content/drive; to attempt to forcibly remount, call drive.mount(\"/content/drive\", force_remount=True).\n"
          ]
        }
      ]
    },
    {
      "cell_type": "code",
      "source": [
        "!pip install pyheif"
      ],
      "metadata": {
        "colab": {
          "base_uri": "https://localhost:8080/"
        },
        "id": "4LXZDl3W1lMR",
        "outputId": "23a05e4d-0bfa-45ed-a12f-760efda15ca2"
      },
      "execution_count": 8,
      "outputs": [
        {
          "output_type": "stream",
          "name": "stdout",
          "text": [
            "Requirement already satisfied: pyheif in /usr/local/lib/python3.7/dist-packages (0.7.0)\n",
            "Requirement already satisfied: cffi>=1.0.0 in /usr/local/lib/python3.7/dist-packages (from pyheif) (1.15.0)\n",
            "Requirement already satisfied: pycparser in /usr/local/lib/python3.7/dist-packages (from cffi>=1.0.0->pyheif) (2.21)\n"
          ]
        }
      ]
    },
    {
      "cell_type": "code",
      "source": [
        "# https://www.linuxtut.com/en/c2a85dced32c08aca209/\n",
        "\n",
        "from PIL import Image\n",
        "import pyheif\n",
        "\n",
        "def conv(image_path):\n",
        "    new_name = image_path.replace('.HEIC', '.png')\n",
        "    heif_file = pyheif.read(image_path)\n",
        "    data = Image.frombytes(\n",
        "        heif_file.mode,\n",
        "        heif_file.size,\n",
        "        heif_file.data,\n",
        "        \"raw\",\n",
        "        heif_file.mode,\n",
        "        heif_file.stride,\n",
        "        )\n",
        "    data.save(new_name, \"PNG\")\n",
        "    print(new_name)"
      ],
      "metadata": {
        "colab": {
          "base_uri": "https://localhost:8080/"
        },
        "id": "eFHpJxjs1BP4",
        "outputId": "0d04671e-8396-4d13-c355-5bb55a584318"
      },
      "execution_count": 34,
      "outputs": [
        {
          "output_type": "stream",
          "name": "stdout",
          "text": [
            "/content/drive/MyDrive/DSF-FS22/data/task2/IMG_5391.png\n"
          ]
        }
      ]
    },
    {
      "cell_type": "code",
      "source": [
        "# https://www.geeksforgeeks.org/python-loop-through-files-of-certain-extensions/\n",
        "\n",
        "import os\n",
        "\n",
        "path = \"/content/drive/MyDrive/DSF-FS22/data/task2/\"\n",
        "\n",
        "for file in os.listdir(path):\n",
        "  if file.endswith(\".HEIC\"):\n",
        "    print(path + file)\n",
        "    conv(path + file)\n",
        "print(\"Done\")"
      ],
      "metadata": {
        "colab": {
          "base_uri": "https://localhost:8080/"
        },
        "id": "rM82_nMo2apN",
        "outputId": "eb767b48-0367-4e9e-c30f-f5b91b68cff6"
      },
      "execution_count": 36,
      "outputs": [
        {
          "output_type": "stream",
          "name": "stdout",
          "text": [
            "/content/drive/MyDrive/DSF-FS22/data/task2/IMG_5379.HEIC\n",
            "/content/drive/MyDrive/DSF-FS22/data/task2/IMG_5379.png\n",
            "/content/drive/MyDrive/DSF-FS22/data/task2/IMG_5387.HEIC\n",
            "/content/drive/MyDrive/DSF-FS22/data/task2/IMG_5387.png\n",
            "/content/drive/MyDrive/DSF-FS22/data/task2/IMG_5386.HEIC\n",
            "/content/drive/MyDrive/DSF-FS22/data/task2/IMG_5386.png\n",
            "/content/drive/MyDrive/DSF-FS22/data/task2/IMG_5385.HEIC\n",
            "/content/drive/MyDrive/DSF-FS22/data/task2/IMG_5385.png\n",
            "/content/drive/MyDrive/DSF-FS22/data/task2/IMG_5384.HEIC\n",
            "/content/drive/MyDrive/DSF-FS22/data/task2/IMG_5384.png\n",
            "/content/drive/MyDrive/DSF-FS22/data/task2/IMG_5383.HEIC\n",
            "/content/drive/MyDrive/DSF-FS22/data/task2/IMG_5383.png\n",
            "/content/drive/MyDrive/DSF-FS22/data/task2/IMG_5382.HEIC\n",
            "/content/drive/MyDrive/DSF-FS22/data/task2/IMG_5382.png\n",
            "/content/drive/MyDrive/DSF-FS22/data/task2/IMG_5381.HEIC\n",
            "/content/drive/MyDrive/DSF-FS22/data/task2/IMG_5381.png\n",
            "/content/drive/MyDrive/DSF-FS22/data/task2/IMG_5393.HEIC\n",
            "/content/drive/MyDrive/DSF-FS22/data/task2/IMG_5393.png\n",
            "/content/drive/MyDrive/DSF-FS22/data/task2/IMG_5392.HEIC\n",
            "/content/drive/MyDrive/DSF-FS22/data/task2/IMG_5392.png\n",
            "/content/drive/MyDrive/DSF-FS22/data/task2/IMG_5391.HEIC\n",
            "/content/drive/MyDrive/DSF-FS22/data/task2/IMG_5391.png\n",
            "/content/drive/MyDrive/DSF-FS22/data/task2/IMG_5390.HEIC\n",
            "/content/drive/MyDrive/DSF-FS22/data/task2/IMG_5390.png\n",
            "/content/drive/MyDrive/DSF-FS22/data/task2/IMG_5389.HEIC\n",
            "/content/drive/MyDrive/DSF-FS22/data/task2/IMG_5389.png\n",
            "/content/drive/MyDrive/DSF-FS22/data/task2/IMG_5388.HEIC\n",
            "/content/drive/MyDrive/DSF-FS22/data/task2/IMG_5388.png\n",
            "/content/drive/MyDrive/DSF-FS22/data/task2/IMG_5380.HEIC\n",
            "/content/drive/MyDrive/DSF-FS22/data/task2/IMG_5380.png\n"
          ]
        }
      ]
    },
    {
      "cell_type": "markdown",
      "source": [
        "### Subtask 2"
      ],
      "metadata": {
        "id": "7zRWYOtN-vwy"
      }
    }
  ]
}