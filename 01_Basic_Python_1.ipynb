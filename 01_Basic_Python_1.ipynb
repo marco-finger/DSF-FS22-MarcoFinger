{
  "nbformat": 4,
  "nbformat_minor": 0,
  "metadata": {
    "anaconda-cloud": {},
    "kernelspec": {
      "display_name": "Python 3",
      "language": "python",
      "name": "python3"
    },
    "language_info": {
      "codemirror_mode": {
        "name": "ipython",
        "version": 3
      },
      "file_extension": ".py",
      "mimetype": "text/x-python",
      "name": "python",
      "nbconvert_exporter": "python",
      "pygments_lexer": "ipython3",
      "version": "3.6.8"
    },
    "colab": {
      "name": "01-Basic-Python-1.ipynb",
      "provenance": [],
      "toc_visible": true,
      "include_colab_link": true
    }
  },
  "cells": [
    {
      "cell_type": "markdown",
      "metadata": {
        "id": "view-in-github",
        "colab_type": "text"
      },
      "source": [
        "<a href=\"https://colab.research.google.com/github/marco-finger/derLauch/blob/main/01_Basic_Python_1.ipynb\" target=\"_parent\"><img src=\"https://colab.research.google.com/assets/colab-badge.svg\" alt=\"Open In Colab\"/></a>"
      ]
    },
    {
      "cell_type": "markdown",
      "metadata": {
        "id": "GbB2F0nUnmkv"
      },
      "source": [
        "<!--BOOK_INFORMATION-->\n",
        "<img align=\"left\" style=\"padding-right:10px;\" src=\"https://github.com/sigvehaug/Introduction-to-Python-Programming-For-Medical-Researchers/blob/master/cover-small.jpg?raw=1\">\n",
        "\n",
        "*This notebook contains an excerpt from the [Whirlwind Tour of Python](http://www.oreilly.com/programming/free/a-whirlwind-tour-of-python.csp) by Jake VanderPlas; the content is available [on GitHub](https://github.com/jakevdp/WhirlwindTourOfPython).*\n",
        "\n",
        "*The text and code are released under the [CC0](https://github.com/jakevdp/WhirlwindTourOfPython/blob/master/LICENSE) license; see also the companion project, the [Python Data Science Handbook](https://github.com/jakevdp/PythonDataScienceHandbook).*\n"
      ]
    },
    {
      "cell_type": "markdown",
      "metadata": {
        "id": "rzrzHykrUoFO"
      },
      "source": [
        "Introduction to Python Programming, 2022-02-15, University of Bern, Sigve Haug"
      ]
    },
    {
      "cell_type": "markdown",
      "source": [
        "# Basic Python (60 min)"
      ],
      "metadata": {
        "id": "4tho8lJEJtM9"
      }
    },
    {
      "cell_type": "markdown",
      "metadata": {
        "id": "cpigRldCUqre"
      },
      "source": [
        "This notebook is a systematic and very condenced overview of\n",
        "- Python Syntax\n",
        "- Python Semantics\n",
        "- Python Operators\n",
        "- Python Data Types (Built-In)\n",
        "- Python Data Structures (Built-In)\n",
        "\n",
        "The content is basic and belongs to necessary knowledge by any Python programmers. One does not learn it by heart, however, after some hours of practicing Python, it automatically becomes active knowledge.\n",
        "\n",
        "It corresponds to the first six chapters of the book referenced above. There you may get more detailed descriptions."
      ]
    },
    {
      "cell_type": "markdown",
      "metadata": {
        "id": "7o5d-zXknmk0"
      },
      "source": [
        "# Python Syntax"
      ]
    },
    {
      "cell_type": "markdown",
      "source": [
        "```\n",
        "# Comments start with a #. They can also come after the code on the same line\n",
        "print('Hello') # Write Hello\n"
      ],
      "metadata": {
        "id": "6yvQawUpn-2u"
      }
    },
    {
      "cell_type": "code",
      "source": [
        "print(\"Hello\") # Write Hello"
      ],
      "metadata": {
        "id": "E5MUoOPHIs9T",
        "outputId": "9f3d750e-11b8-4dfd-a663-bf588c9432c6",
        "colab": {
          "base_uri": "https://localhost:8080/"
        }
      },
      "execution_count": null,
      "outputs": [
        {
          "output_type": "stream",
          "name": "stdout",
          "text": [
            "Hello\n"
          ]
        }
      ]
    },
    {
      "cell_type": "markdown",
      "source": [
        "```\n",
        "# Multiline commands can be written with backslash \\ or ()\n",
        "\n",
        "sum = 2 + 3 + 5 \\\n",
        "      - 5*2\n",
        "print(sum)\n",
        "sum = (2 + 3 + 5\n",
        "      - 5*2)\n",
        "print(sum)\n",
        "```\n"
      ],
      "metadata": {
        "id": "tOcDxEO4oSjf"
      }
    },
    {
      "cell_type": "code",
      "source": [
        "sum1 = 2 + 3 + 5 \\\n",
        "- 5 * 2 # no indent needed\n",
        "print(\"The first sum is\", sum1)\n",
        "\n",
        "sum2 = (2 + 3 + 5\n",
        "- 5* 2) # no indent needed\n",
        "print(\"The second sum is\", sum2)\n"
      ],
      "metadata": {
        "id": "CUxwOe2jI0ZP",
        "outputId": "b029f6d9-fff1-4e9d-e03d-0b49fb4f005b",
        "colab": {
          "base_uri": "https://localhost:8080/"
        }
      },
      "execution_count": null,
      "outputs": [
        {
          "output_type": "stream",
          "name": "stdout",
          "text": [
            "The first sum is 0\n",
            "The second sum is 0\n"
          ]
        }
      ]
    },
    {
      "cell_type": "markdown",
      "source": [
        "```\n",
        "# One may write multiple statements on one line by separating with ;\n",
        "x=5; y=6; print(x-y)\n"
      ],
      "metadata": {
        "id": "gclk2kU9pP1F"
      }
    },
    {
      "cell_type": "code",
      "source": [
        "x = 5; y = 6; print(x-y) # all comands in a single line"
      ],
      "metadata": {
        "id": "wYgHhwUQI7Qp",
        "outputId": "d3e1aa29-45c7-4782-9e97-e72062f01636",
        "colab": {
          "base_uri": "https://localhost:8080/"
        }
      },
      "execution_count": null,
      "outputs": [
        {
          "output_type": "stream",
          "name": "stdout",
          "text": [
            "-1\n"
          ]
        }
      ]
    },
    {
      "cell_type": "markdown",
      "source": [
        "```\n",
        "# Codeblocks are indicated by intendation and :\n",
        "for i in range(3):\n",
        "  sum+=i\n",
        "print(sum) # Note that Python starts counting at 0\n",
        "```"
      ],
      "metadata": {
        "id": "3Jj0aXlHpv-c"
      }
    },
    {
      "cell_type": "code",
      "source": [
        "for j in range(3): # range(3) is an array of integers from 0, 1, 2\n",
        "  sum += j # variable \"j\" contains the sum over the array being saved into \"sum\"\n",
        "print(\"The sum is\", sum) # strings and integer using the prin() function "
      ],
      "metadata": {
        "id": "dYm0wryNJW4h",
        "outputId": "eda91542-a1bd-42b4-b320-bf027d9c72c7",
        "colab": {
          "base_uri": "https://localhost:8080/"
        }
      },
      "execution_count": null,
      "outputs": [
        {
          "output_type": "stream",
          "name": "stdout",
          "text": [
            "The sum is 48\n"
          ]
        }
      ]
    },
    {
      "cell_type": "markdown",
      "source": [
        "```\n",
        "# Parentheses () Are for Grouping or Calling\n",
        "y = 2 * (3+4) # Grouping\n",
        "print(y) # Calling\n",
        "L = [4,2,3,1]\n",
        "L.sort()  # Calling\n",
        "print(L) # Calling\n",
        "```\n"
      ],
      "metadata": {
        "id": "_xJAPCu3qd7n"
      }
    },
    {
      "cell_type": "code",
      "source": [
        "y = 2 * (3+4) # defining the varibale \"y\" as an arithmetric operation\n",
        "print(y) # return \"y\"\n",
        "\n",
        "L = [4,2,3,1] # lists are written in square-brackets; the list \"L\" contains 4 items\n",
        "L.sort()\n",
        "print(L)\n"
      ],
      "metadata": {
        "id": "5CZg6MIXJfyF",
        "outputId": "fdb4858b-a75c-4be1-d94a-93fe5833f487",
        "colab": {
          "base_uri": "https://localhost:8080/"
        }
      },
      "execution_count": null,
      "outputs": [
        {
          "output_type": "stream",
          "name": "stdout",
          "text": [
            "14\n",
            "[1, 2, 3, 4]\n"
          ]
        }
      ]
    },
    {
      "cell_type": "markdown",
      "metadata": {
        "id": "lK-q9bm8nmlC"
      },
      "source": [
        "Finishing Up on the Syntax and Learning More\n",
        "\n",
        "This has been a very brief exploration of the essential features of Python syntax; its purpose is to give you a good frame of reference for when you're reading the code in later sections.\n",
        "Several times we've mentioned Python \"style guides\", which can help teams to write code in a consistent style.\n",
        "The most widely used style guide in Python is known as PEP8, and can be found at https://www.python.org/dev/peps/pep-0008/.\n",
        "As you begin to write more Python code, it would be useful to read through this!\n",
        "The style suggestions contain the wisdom of many Python gurus, and most suggestions go beyond simple pedantry: they are experience-based recommendations that can help avoid subtle mistakes and bugs in your code."
      ]
    },
    {
      "cell_type": "markdown",
      "metadata": {
        "id": "TZ3BVJjMrd6Q"
      },
      "source": [
        "#Python Semantics - Variables and Objects\n"
      ]
    },
    {
      "cell_type": "markdown",
      "metadata": {
        "id": "pPERC7iCwJwp"
      },
      "source": [
        "In Python data type declaration on variables is not needed. It has dynamic typing. Most important basic types are natural numbers (integer), real numbers (float), imaginary numbers and text (strings)"
      ]
    },
    {
      "cell_type": "markdown",
      "source": [
        "```\n",
        "# Assignment by =\n",
        "my_variable = 5; print(type(my_variable))\n",
        "my_variable = 5.0; print(type(my_variable))\n",
        "```"
      ],
      "metadata": {
        "id": "9yuRI1lnuTrX"
      }
    },
    {
      "cell_type": "code",
      "source": [
        "var1 = 5; var2 = 5.0\n",
        "print(\"First variable is of type:\", type(var1), \"Second variable is of type:\", type(var2))"
      ],
      "metadata": {
        "id": "pGvAb4LZZzLj",
        "outputId": "2e10d5ad-10ed-43b5-cfab-f0e6f0bc7e4a",
        "colab": {
          "base_uri": "https://localhost:8080/"
        }
      },
      "execution_count": null,
      "outputs": [
        {
          "output_type": "stream",
          "name": "stdout",
          "text": [
            "First variable is of type: <class 'int'> Second variable is of type: <class 'float'>\n"
          ]
        }
      ]
    },
    {
      "cell_type": "markdown",
      "metadata": {
        "id": "s5fGC5Eburr_"
      },
      "source": [
        "In Python variables are pointers, i.e. they point to the memory buckets with the actual values. \n",
        "\n",
        "In Python everything is an object, it contains not only the value, but also attributes and methods. **Methods are invoked by the dot.**"
      ]
    },
    {
      "cell_type": "markdown",
      "source": [
        "```\n",
        "x = 5.1\n",
        "print(x.is_integer(), x.real, '+',x.imag) # A method and two attributes\n",
        "```"
      ],
      "metadata": {
        "id": "xj-ENQ2IufWS"
      }
    },
    {
      "cell_type": "code",
      "source": [
        "x = 5.1\n",
        "print(x.is_integer()) # checks if x is an integer; output is a boolean variable \"True\" or \"False\"\n",
        "print(x.real, \"+\", x.imag) # returns the real an imaginary part of x"
      ],
      "metadata": {
        "id": "_j5n_dOmKNTy",
        "outputId": "28bcef15-b093-4f46-8c33-010ed3ff81d9",
        "colab": {
          "base_uri": "https://localhost:8080/"
        }
      },
      "execution_count": null,
      "outputs": [
        {
          "output_type": "stream",
          "name": "stdout",
          "text": [
            "False\n",
            "5.1 + 0.0\n"
          ]
        }
      ]
    },
    {
      "cell_type": "markdown",
      "source": [
        "Alternative way to check for integers and real numbers"
      ],
      "metadata": {
        "id": "E81xAmttdIfX"
      }
    },
    {
      "cell_type": "code",
      "source": [
        "y = 6.1\n",
        "print(y, \"is an integer: \", isinstance(y, int))\n",
        "\n",
        "z = 6\n",
        "print(z, \"is an integer: \", isinstance(z, int))"
      ],
      "metadata": {
        "id": "dowPlbWvdQwf",
        "outputId": "b27b8d08-cb9c-461e-bece-bf30b7b42a7d",
        "colab": {
          "base_uri": "https://localhost:8080/"
        }
      },
      "execution_count": null,
      "outputs": [
        {
          "output_type": "stream",
          "name": "stdout",
          "text": [
            "6.1 is an integer:  False\n",
            "6 is an integer:  True\n"
          ]
        }
      ]
    },
    {
      "cell_type": "markdown",
      "metadata": {
        "id": "-EildO57xNAa"
      },
      "source": [
        "Since everything is an object and variables are pointers, Python becomes its beauty and slowness. Against slowness there is the library NumPy. "
      ]
    },
    {
      "cell_type": "markdown",
      "metadata": {
        "id": "R7RPX5MwyMGD"
      },
      "source": [
        "# Python Operators"
      ]
    },
    {
      "cell_type": "markdown",
      "metadata": {
        "id": "GxcOnpIx0C_w"
      },
      "source": [
        "Arithmetic operators"
      ]
    },
    {
      "cell_type": "markdown",
      "source": [
        "```\n",
        "# Python arithmetic operators\n",
        "# addition, subtraction, multiplication\n",
        "print((4 + 8) * (6.5 - 3))\n",
        "# True division\n",
        "print(11 / 2)\n",
        "# Floor division\n",
        "print(11 // 2)\n",
        "# Modulus\n",
        "print(11 % 2)\n",
        "# Exponentation\n",
        "print(4 ** 0.5)\n",
        "```\n"
      ],
      "metadata": {
        "id": "njo0-N1zyQhc"
      }
    },
    {
      "cell_type": "code",
      "source": [
        "print((4 + 8) * (6.5 - 3)) # brackets are evaluated first and then multiplied\n",
        "print(11 / 2)\n",
        "print(11 // 2) # floor(x) gives the largest integer less than or equal to x\n",
        "print(11 % 2)"
      ],
      "metadata": {
        "id": "mn6GCEBhLwFO",
        "outputId": "3a5eb1b0-1fbf-4d45-979d-48332a3e8cb7",
        "colab": {
          "base_uri": "https://localhost:8080/"
        }
      },
      "execution_count": null,
      "outputs": [
        {
          "output_type": "stream",
          "name": "stdout",
          "text": [
            "42.0\n",
            "5.5\n",
            "5\n",
            "1\n"
          ]
        }
      ]
    },
    {
      "cell_type": "markdown",
      "metadata": {
        "id": "JcqJGJEMzyLA"
      },
      "source": [
        "There are also bitwise operators. These are rarely used and you can looked them up if you think you need them."
      ]
    },
    {
      "cell_type": "markdown",
      "metadata": {
        "id": "bzIQISck0KfO"
      },
      "source": [
        "Assignment operators"
      ]
    },
    {
      "cell_type": "markdown",
      "source": [
        "```\n",
        "x = 2; x += 2; print(x)\n",
        "x *= 2; print(x)\n",
        "print('etc')\n",
        "```"
      ],
      "metadata": {
        "id": "O6tB-XpA0AoM"
      }
    },
    {
      "cell_type": "code",
      "source": [
        "x = 2 # variable x is set to 2\n",
        "x += 2 # to x is added 2\n",
        "print(x) # the result of 2+2 is obviousely 4\n",
        "\n",
        "y = 2 # variable y is set to 2\n",
        "y *= 2 # y is multiplied by 2\n",
        "print(y) # the result is again 4"
      ],
      "metadata": {
        "id": "yLdjb7mfM-23",
        "outputId": "c3ab5e4e-3498-4f92-b7c8-3e482d05abd1",
        "colab": {
          "base_uri": "https://localhost:8080/"
        }
      },
      "execution_count": null,
      "outputs": [
        {
          "output_type": "stream",
          "name": "stdout",
          "text": [
            "4\n",
            "4\n"
          ]
        }
      ]
    },
    {
      "cell_type": "markdown",
      "metadata": {
        "id": "O_NcxVXu1-iJ"
      },
      "source": [
        "**Comparison operators**"
      ]
    },
    {
      "cell_type": "markdown",
      "source": [
        "\n",
        "```\n",
        "print(4 == 6); print(4 != 6); print(4<6); print(4>6); print(4<=6); print(4>=6)\n",
        "```"
      ],
      "metadata": {
        "id": "TtBl0NO82ODI"
      }
    },
    {
      "cell_type": "code",
      "source": [
        "print(4 == 6) # evaluate if 4 equals 6; returns the boolean variable \"False\" since 4 is not equal to 6\n",
        "print(4 != 6) # checks if 4 is not equal to 6; returns \"True\" since 4 is not equal to 6\n",
        "print(4 < 6) # since 4 is less than 6, this statement is \"True\"\n",
        "print(4 > 6) # returns \"False\" since 4 is not greater than 6\n",
        "print(4 >= 6) # \"False\" since 4 is not greater or equal than 6\n",
        "print(4 <= 6) # \"True\" since 6 is greater than 4"
      ],
      "metadata": {
        "id": "vp-r6NWGNIrf",
        "outputId": "46d4a4b8-d511-4245-f5ab-74e721ef3063",
        "colab": {
          "base_uri": "https://localhost:8080/"
        }
      },
      "execution_count": null,
      "outputs": [
        {
          "output_type": "stream",
          "name": "stdout",
          "text": [
            "False\n",
            "True\n",
            "True\n",
            "False\n",
            "False\n",
            "True\n"
          ]
        }
      ]
    },
    {
      "cell_type": "markdown",
      "metadata": {
        "id": "T1xRnGRm3NhL"
      },
      "source": [
        "**Boolean operators**\n",
        "\n",
        "and, or, not, xor"
      ]
    },
    {
      "cell_type": "markdown",
      "source": [
        "```\n",
        "x = 4\n",
        "print((x < 6) and (x > 2))\n",
        "print((x > 10) or (x % 2 == 0))\n",
        "print(not (x < 6))\n",
        "# (x > 1) xor (x < 10)\n",
        "print((x > 1) != (x < 10))\n",
        "```"
      ],
      "metadata": {
        "id": "N81Fdidx3RL3"
      }
    },
    {
      "cell_type": "code",
      "source": [
        "x = 4\n",
        "print((x < 6) and (x > 2)) # first and second comparisons are \"True\" => entire statement is \"True\"\n",
        "print((x > 10) or (x % 2 == 0)) # entire statement is \"True\", since at least the second statement holds\n",
        "print(not (x < 6)) # negation of a \"True\" statement (4 is less than 6) returns \"False\"\n",
        "print((x > 1) != (x < 10)) # both statements are fulfilled; overall statement is \"False\" (only one must be \"True\")\n"
      ],
      "metadata": {
        "id": "a84XQ-wGNYl1",
        "outputId": "5e730067-c5ff-49af-d574-e9312fd0bb42",
        "colab": {
          "base_uri": "https://localhost:8080/"
        }
      },
      "execution_count": null,
      "outputs": [
        {
          "output_type": "stream",
          "name": "stdout",
          "text": [
            "True\n",
            "True\n",
            "False\n",
            "False\n"
          ]
        }
      ]
    },
    {
      "cell_type": "markdown",
      "metadata": {
        "id": "Ca8MDA3q3_50"
      },
      "source": [
        "**Identity and Membership Operators**"
      ]
    },
    {
      "cell_type": "markdown",
      "metadata": {
        "id": "JvqCnRnb4Ogq"
      },
      "source": [
        "is, is not, in, not in"
      ]
    },
    {
      "cell_type": "markdown",
      "source": [
        "```\n",
        "print(1 is 2)\n",
        "print(1 is 1)\n",
        "print(1 in [1, 2, 3])\n",
        "print(2 not in [1, 2, 3])\n",
        "```"
      ],
      "metadata": {
        "id": "PaTNlA1j4HPo"
      }
    },
    {
      "cell_type": "code",
      "metadata": {
        "id": "PgEmp4wb4dA6",
        "colab": {
          "base_uri": "https://localhost:8080/"
        },
        "outputId": "31b597b8-14a6-4a24-ef18-3f8ab754d077"
      },
      "source": [
        "print(1 is 2) # 1 is not 2 => \"False\"\n",
        "print(1 is 1) # obviousely => \"True\"\n",
        "print(1 in [1,2,3]) # 1 is an element of the list\n",
        "print(5 in range(4)) # 5 is not within the range from 0...3\n",
        "print(3 in range(4)) # 3 is within the range from 0...3\n",
        "print(2 not in [1,2,3]) # \"False\" since 2 is an element of the list\n",
        "print(4 not in [1,2,3]) # \"True\" since 4 is not an element of the list\n"
      ],
      "execution_count": null,
      "outputs": [
        {
          "output_type": "stream",
          "name": "stdout",
          "text": [
            "False\n",
            "True\n",
            "True\n",
            "False\n",
            "True\n",
            "False\n",
            "True\n"
          ]
        }
      ]
    },
    {
      "cell_type": "markdown",
      "metadata": {
        "id": "Az_lm8r85NNs"
      },
      "source": [
        "# Python Built-In Types"
      ]
    },
    {
      "cell_type": "markdown",
      "metadata": {
        "id": "wviVbNfM5aIl"
      },
      "source": [
        "A computer needs to now the data type, i.e. the representation, in order to do calculations. So every computer langueage has built-in types. In Python the simple, in contrast to compund types (data structures), are summarized in the following table:\n",
        "\n",
        "<center>**Python Scalar Types**</center>\n",
        "\n",
        "| Type        | Example        | Description                                                  |\n",
        "|-------------|----------------|--------------------------------------------------------------|\n",
        "| ``int``     | ``x = 1``      | integers (i.e., whole numbers)                               |\n",
        "| ``float``   | ``x = 1.0``    | floating-point numbers (i.e., real numbers)                  |\n",
        "| ``complex`` | ``x = 1 + 2j`` | Complex numbers (i.e., numbers with real and imaginary part) |\n",
        "| ``bool``    | ``x = True``   | Boolean: True/False values                                   |\n",
        "| ``str``     | ``x = 'abc'``  | String: characters or text                                   |\n",
        "| ``NoneType``| ``x = None``   | Special object indicating nulls                              |\n",
        "\n"
      ]
    },
    {
      "cell_type": "markdown",
      "source": [
        "```\n",
        "# Integer\n",
        "x = -3; print(type(x))\n",
        "# Float (real numbers)\n",
        "y1 = 5.3; print(type(y1))\n",
        "y2 = 6e-4; print(y2)          # Exponential notation - 6 times ten to the minus 4\n",
        "# Complex\n",
        "c = 2 + 3j; print(c.real, c.imag)\n",
        "```"
      ],
      "metadata": {
        "id": "IXnw-EOs5S-L"
      }
    },
    {
      "cell_type": "code",
      "source": [
        "x = -3; print(\"The type of x is: \", type(x))\n",
        "y1 = 5.3; print(\"The type of y1 is: \", type(y1))\n",
        "y2 = 6e-4; print(y2) # returns y2 in decimal representation\n",
        "z = 2 + 4j; print(\"Real part of z: \", z.real, \"Imaginary part of z: \", z.imag) # \"j\" is used for imaginary unit"
      ],
      "metadata": {
        "id": "xbQjE9QYO5PM",
        "colab": {
          "base_uri": "https://localhost:8080/"
        },
        "outputId": "c8ff940b-de52-468d-87d9-c24362055fa0"
      },
      "execution_count": null,
      "outputs": [
        {
          "output_type": "stream",
          "name": "stdout",
          "text": [
            "The type of x is:  <class 'int'>\n",
            "The type of y1 is:  <class 'float'>\n",
            "0.0006\n",
            "Real part of z:  2.0 Imaginary part of z:  4.0\n"
          ]
        }
      ]
    },
    {
      "cell_type": "markdown",
      "source": [
        "```\n",
        "# String\n",
        "message = 'Hi Bern. We are happy.'\n",
        "print(message)\n",
        "# There are attributes and many methods for string objects. Some examples:\n",
        "print(len(message), message.upper())\n",
        "response = 'Nice'\n",
        "print(message,' ',response)\n",
        "print(message[3:6])\n",
        "```"
      ],
      "metadata": {
        "id": "Mu_1mNvrBzVv"
      }
    },
    {
      "cell_type": "code",
      "source": [
        "message = 'Hi Bern. We are happy.'\n",
        "print(message) # returns the original text\n",
        "print(\"Number of strings in message:\", len(message)) # returns the number of strings (including spaces)\n",
        "print(message.upper()) # returns the message in upper-case letters\n",
        "print(message.lower()) # returns the message in lower-case letters\n",
        "print(message.count(\"B\")) # returns the number of times a specified value occurs in a string (here the letter \"B\")"
      ],
      "metadata": {
        "id": "zwSx2DxCPIOO",
        "colab": {
          "base_uri": "https://localhost:8080/"
        },
        "outputId": "78e5e832-ab6d-4dad-fe35-80277232ce74"
      },
      "execution_count": null,
      "outputs": [
        {
          "output_type": "stream",
          "name": "stdout",
          "text": [
            "Hi Bern. We are happy.\n",
            "Number of strings in message: 22\n",
            "HI BERN. WE ARE HAPPY.\n",
            "hi bern. we are happy.\n",
            "1\n"
          ]
        }
      ]
    },
    {
      "cell_type": "markdown",
      "source": [
        "More methods used for strings: https://www.w3schools.com/python/python_ref_string.asp"
      ],
      "metadata": {
        "id": "Tk26RwNLq8RA"
      }
    },
    {
      "cell_type": "markdown",
      "metadata": {
        "id": "MNZ0hrJmDY3A"
      },
      "source": [
        "There is also a None type which has the value 'None' and a Boolean type. If you should encounter then, look them up."
      ]
    },
    {
      "cell_type": "markdown",
      "metadata": {
        "id": "HM2zv2J3Dn77"
      },
      "source": [
        "# Python Built-In Data Structures"
      ]
    },
    {
      "cell_type": "markdown",
      "metadata": {
        "id": "_CR2GA0BEVGk"
      },
      "source": [
        "Python also has several built-in compound types, which act as containers for other types.\n",
        "These compound types are:\n",
        "\n",
        "| Type Name | Example                   |Description                            |\n",
        "|-----------|---------------------------|---------------------------------------|\n",
        "| ``list``  | ``[1, 2, 3]``             | Ordered collection                    |\n",
        "| ``tuple`` | ``(1, 2, 3)``             | Immutable ordered collection          |\n",
        "| ``dict``  | ``{'a':1, 'b':2, 'c':3}`` | Unordered (key,value) mapping         |\n",
        "| ``set``   | ``{1, 2, 3}``             | Unordered collection of unique values |\n",
        "\n",
        "As you can see, round, square, and curly brackets have distinct meanings when it comes to the type of collection produced.\n",
        "We'll take a quick tour of these data structures here."
      ]
    },
    {
      "cell_type": "markdown",
      "source": [
        "```\n",
        "# Lists with some built-in methods\n",
        "L = [2, 3, 5, 7]\n",
        "print(len(L))\n",
        "L.append(11); print(L)\n",
        "print(L + [13, 17, 19])\n",
        "L = [2, 5, 1, 6, 3, 4]\n",
        "L.sort()\n",
        "print(L)\n",
        "L = [1, 'two', 3.14, [0, 3, 5]] # Lists can contain various objects\n",
        "print(L)\n",
        "```"
      ],
      "metadata": {
        "id": "c-rL0WU0A8Zt"
      }
    },
    {
      "cell_type": "code",
      "source": [
        "L = [2, 3, 5, 7] # List\n",
        "print(\"Number of items in the list:\", len(L)) # returns the number of items\n",
        "\n",
        "L.append(11) # appends the number 11 at the end of the list \n",
        "print(L)\n",
        "\n",
        "print(L + [13, 17, 19]) # another list is appended\n",
        "\n",
        "M = [2, 5, 1, 6, 3, 4] # new list\n",
        "M.sort() # returns the sorted list\n",
        "print(M)\n",
        "\n",
        "N = [1, 'two', 3.14, [0, 3, 5]] # Lists can contain various objects\n",
        "print(N)"
      ],
      "metadata": {
        "id": "kXLgXEfXPxyy",
        "colab": {
          "base_uri": "https://localhost:8080/"
        },
        "outputId": "1a6b3698-df48-4265-df4d-26090d8c80a7"
      },
      "execution_count": null,
      "outputs": [
        {
          "output_type": "stream",
          "name": "stdout",
          "text": [
            "Number of items in the list: 4\n",
            "[2, 3, 5, 7, 11]\n",
            "[2, 3, 5, 7, 11, 13, 17, 19]\n",
            "[1, 2, 3, 4, 5, 6]\n",
            "[1, 'two', 3.14, [0, 3, 5]]\n"
          ]
        }
      ]
    },
    {
      "cell_type": "markdown",
      "source": [
        "```\n",
        "# Indexing and slicing on lists\n",
        "L=[2,4,5,'madonna']\n",
        "print(L[0], L[len(L)-1], L[-1]) # Indexing\n",
        "print(L[2:4]) # Sclicing\n",
        "print(L[3:], L[:],L[0:-1:2],L[::-1]) # The third argument is the step size\n",
        "```"
      ],
      "metadata": {
        "id": "tk70jf5YFeLB"
      }
    },
    {
      "cell_type": "code",
      "source": [
        "L=[2,4,5,'madonna'] # list of integers and strings\n",
        "print(L[0]) # returns the first item in L\n",
        "print(L[len(L)-1]) # returns the second-last item of the list of length len(L)\n",
        "print(L[-1]) # the index -1 equals the last item\n",
        "print(L[2:4]) # return the elements with index between 2 and 4\n",
        "print(L[3:], L[:],L[0:-1:2],L[::-1]) # The third argument is the step size"
      ],
      "metadata": {
        "id": "4wnf9SrXQk9I",
        "colab": {
          "base_uri": "https://localhost:8080/"
        },
        "outputId": "6727eb77-0971-4a85-9902-9cfb7014ba69"
      },
      "execution_count": null,
      "outputs": [
        {
          "output_type": "stream",
          "name": "stdout",
          "text": [
            "2\n",
            "madonna\n",
            "madonna\n",
            "[5, 'madonna']\n",
            "['madonna'] [2, 4, 5, 'madonna'] [2, 5] ['madonna', 5, 4, 2]\n"
          ]
        }
      ]
    },
    {
      "cell_type": "code",
      "source": [
        "a = [1,5,4,2,4]; print(a) # List\n",
        "b = 3 * a; print(b)\n",
        "\n",
        "c = (1,5,4,2,4); print(c) # Tupel\n",
        "d = 3 * c; print(d)\n",
        "\n",
        "# e = {1,5,4,2,4}; print(e) # Set\n",
        "# f = 3 * e; print(f) => error message"
      ],
      "metadata": {
        "colab": {
          "base_uri": "https://localhost:8080/"
        },
        "id": "chYormjPxT6G",
        "outputId": "9f9672b7-ece7-49d7-ef46-4d696b7bf535"
      },
      "execution_count": null,
      "outputs": [
        {
          "output_type": "stream",
          "name": "stdout",
          "text": [
            "[1, 5, 4, 2, 4]\n",
            "[1, 5, 4, 2, 4, 1, 5, 4, 2, 4, 1, 5, 4, 2, 4]\n",
            "(1, 5, 4, 2, 4)\n",
            "(1, 5, 4, 2, 4, 1, 5, 4, 2, 4, 1, 5, 4, 2, 4)\n"
          ]
        }
      ]
    },
    {
      "cell_type": "markdown",
      "source": [
        "```\n",
        "# Tuples are like lists, but cannot be changed once defined\n",
        "t = (2, 3, 5, 7, 11)     # t = 2,3,5,7,11 also works\n",
        "t[0] = 3 # Not allowed\n",
        "```"
      ],
      "metadata": {
        "id": "_iL52nNeGgqS"
      }
    },
    {
      "cell_type": "code",
      "source": [
        "a = (2, 3, 5, 7, 11)\n",
        "b = (3, 2, 5, 4, 13)\n",
        "c = 5 * a; print(c)"
      ],
      "metadata": {
        "id": "6giIxBdPQsK1",
        "colab": {
          "base_uri": "https://localhost:8080/"
        },
        "outputId": "f79f881a-e45e-4cfa-a8aa-5716cd3129bc"
      },
      "execution_count": null,
      "outputs": [
        {
          "output_type": "stream",
          "name": "stdout",
          "text": [
            "(2, 3, 5, 7, 11, 2, 3, 5, 7, 11, 2, 3, 5, 7, 11, 2, 3, 5, 7, 11, 2, 3, 5, 7, 11)\n"
          ]
        }
      ]
    },
    {
      "cell_type": "code",
      "source": [
        "a = [2, 3, 5, 7, 11]\n",
        "b = [3, 2, 5, 4, 13]\n",
        "c = 5 * a; print(c)"
      ],
      "metadata": {
        "id": "_PnLDxjyya9J",
        "outputId": "e9d6a66f-30fa-42fc-ca02-03a5c0de8b4d",
        "colab": {
          "base_uri": "https://localhost:8080/"
        }
      },
      "execution_count": null,
      "outputs": [
        {
          "output_type": "stream",
          "name": "stdout",
          "text": [
            "[2, 3, 5, 7, 11, 2, 3, 5, 7, 11, 2, 3, 5, 7, 11, 2, 3, 5, 7, 11, 2, 3, 5, 7, 11]\n"
          ]
        }
      ]
    },
    {
      "cell_type": "markdown",
      "source": [
        "```\n",
        "# Dictionaries are like a normal language dictionaries, there is a key word (car) for look up and a value, e.g. what is it in German (Auto).\n",
        "numbers = {'one':1, 'two':2, 'three':3}\n",
        "print(numbers['two'])\n",
        "numbers['car']='Auto'\n",
        "print(numbers)\n",
        "numbers.get('car')\n",
        "```"
      ],
      "metadata": {
        "id": "QTasitpgH5eT"
      }
    },
    {
      "cell_type": "code",
      "source": [
        "numbers = {'one':1, 'two':2, 'three':3} # defining a dictionary\n",
        "print(numbers['two']) # returns the value associated to the key \"two\"\n",
        "numbers['car']='Auto' # adding the key \"car\" with its value \"Auto\" to the list\n",
        "print(numbers) # returns the entire list (incl. new entry)\n",
        "numbers.get('car') # returns the value of the key \"car\""
      ],
      "metadata": {
        "id": "IySNZUAYQ5st",
        "outputId": "8ada8824-b66b-4e5c-ad62-1cea6ac46ba6",
        "colab": {
          "base_uri": "https://localhost:8080/",
          "height": 71
        }
      },
      "execution_count": 165,
      "outputs": [
        {
          "output_type": "stream",
          "name": "stdout",
          "text": [
            "2\n",
            "{'one': 1, 'two': 2, 'three': 3, 'car': 'Auto'}\n"
          ]
        },
        {
          "output_type": "execute_result",
          "data": {
            "application/vnd.google.colaboratory.intrinsic+json": {
              "type": "string"
            },
            "text/plain": [
              "'Auto'"
            ]
          },
          "metadata": {},
          "execution_count": 165
        }
      ]
    },
    {
      "cell_type": "code",
      "source": [
        "student = {\"name\": \"Marco\", \"age\": 25, \"courses\": [\"Data Science\", \"Chemistry\", \"Math\", \"Pyhsics\"]}\n",
        "print(\"The name of the student is:\", student[\"name\"])\n",
        "print(student.get(\"name\"))\n",
        "print(student.get(\"phone\")) # returns \"None\" if there is no key \n",
        "del student[\"age\"]; print(student) # removes the key \"age\" and its entry\n",
        "print(student.keys())\n",
        "print(student.values())\n",
        "print(student.items())"
      ],
      "metadata": {
        "id": "xgAO-X0_z2zw",
        "outputId": "71dc5bf7-9ce4-4c10-c372-9964ece92909",
        "colab": {
          "base_uri": "https://localhost:8080/"
        }
      },
      "execution_count": 183,
      "outputs": [
        {
          "output_type": "stream",
          "name": "stdout",
          "text": [
            "The name of the student is: Marco\n",
            "Marco\n",
            "None\n",
            "{'name': 'Marco', 'courses': ['Data Science', 'Chemistry', 'Math', 'Pyhsics']}\n",
            "dict_keys(['name', 'courses'])\n",
            "dict_values(['Marco', ['Data Science', 'Chemistry', 'Math', 'Pyhsics']])\n",
            "dict_items([('name', 'Marco'), ('courses', ['Data Science', 'Chemistry', 'Math', 'Pyhsics'])])\n"
          ]
        }
      ]
    },
    {
      "cell_type": "markdown",
      "metadata": {
        "id": "EpGiUL5qJiVW"
      },
      "source": [
        "The [python documentation](https://docs.python.org/3/library/stdtypes.html) has a complete list of the methods available for dictionaries."
      ]
    },
    {
      "cell_type": "markdown",
      "source": [
        "```\n",
        "# Sets are much like tuples and you can to set mathematics with them\n",
        "primes = {2, 3, 5, 7}\n",
        "odds = {1, 3, 5, 7, 9}\n",
        "primes.union(odds)\n",
        "```"
      ],
      "metadata": {
        "id": "Zgdqk6NoJDBu"
      }
    },
    {
      "cell_type": "code",
      "source": [
        "primes = {2, 3, 5, 7}\n",
        "odds = {1, 3, 5, 7, 9}\n",
        "union1 = primes.union(odds); print(union1)\n",
        "union2 = odds.union(primes); print(union2)\n",
        "print(union1 == union2) # both methods yield the same"
      ],
      "metadata": {
        "id": "qRuxsHUCRNGy",
        "outputId": "98c18ff3-9fe0-4e9a-c639-002e4437674e",
        "colab": {
          "base_uri": "https://localhost:8080/"
        }
      },
      "execution_count": 193,
      "outputs": [
        {
          "output_type": "stream",
          "name": "stdout",
          "text": [
            "{1, 2, 3, 5, 7, 9}\n",
            "{1, 2, 3, 5, 7, 9}\n",
            "True\n"
          ]
        }
      ]
    },
    {
      "cell_type": "markdown",
      "source": [
        "```\n",
        "# Sometimes you need to start with an empty data structure. You create them like this:\n",
        "L=[]; t=(); dic={}\n",
        "print(L,t,dic)\n",
        "```"
      ],
      "metadata": {
        "id": "sl37O-vmKSQ3"
      }
    },
    {
      "cell_type": "code",
      "source": [
        "L=[]; t=(); dic={}\n",
        "print(L,t,dic) # returns empty list, tuple and dictionary\n",
        "L=[1]; print(L) # the list \"L\" is filled with the entry \"1\"\n"
      ],
      "metadata": {
        "id": "6ZvzYwncRY0S",
        "outputId": "e50ac03c-ceb3-476b-dd8b-2a2784ab0aaf",
        "colab": {
          "base_uri": "https://localhost:8080/"
        }
      },
      "execution_count": 198,
      "outputs": [
        {
          "output_type": "stream",
          "name": "stdout",
          "text": [
            "[] () {}\n",
            "[1]\n"
          ]
        }
      ]
    },
    {
      "cell_type": "markdown",
      "metadata": {
        "id": "TfVDNuVGKvs7"
      },
      "source": [
        "** More Specialized Data Structures **\n",
        "\n",
        "Python contains several other data structures that you might find useful; these can generally be found in the built-in ``collections`` module.\n",
        "The collections module is fully-documented in [Python's online documentation](https://docs.python.org/3/library/collections.html), and you can read more about the various objects available there.\n",
        "\n",
        "In particular, I've found the following very useful on occasion:\n",
        "\n",
        "- ``collections.namedtuple``: Like a tuple, but each value has a name\n",
        "- ``collections.defaultdict``: Like a dictionary, but unspecified keys have a user-specified default value\n",
        "- ``collections.OrderedDict``: Like a dictionary, but the order of keys is maintained\n",
        "\n",
        "Once you've seen the standard built-in collection types, the use of these extended functionalities is very intuitive, and I'd suggest [reading about their use](https://docs.python.org/3/library/collections.html)."
      ]
    },
    {
      "cell_type": "markdown",
      "source": [
        "# Python custom data structures"
      ],
      "metadata": {
        "id": "wrH70IhwTvIY"
      }
    },
    {
      "cell_type": "markdown",
      "metadata": {
        "id": "7bFEZGYaTxuE"
      },
      "source": [
        "Many times we would like to handle data of a specific structure, for example we want to keep track of students of a class or clients of a business. For this purpose one can create custom data structures, this can be achieved by the ``class`` statement. To see a short introduction into classes consult [this link](https://www.mikedane.com/programming-languages/python/classes-objects/). A handy use case for classes can be found [here](https://www.mikedane.com/programming-languages/python/building-a-quiz/)."
      ]
    },
    {
      "cell_type": "code",
      "metadata": {
        "id": "bQ_6CPCULCRO"
      },
      "source": [
        ""
      ],
      "execution_count": null,
      "outputs": []
    },
    {
      "cell_type": "markdown",
      "source": [
        "# Python ``del`` statement"
      ],
      "metadata": {
        "id": "zh8JPwBTT61c"
      }
    },
    {
      "cell_type": "markdown",
      "metadata": {
        "id": "qt67raTnLGeA"
      },
      "source": [
        "The syntax of the ``del`` statement is:\n",
        "\n",
        "``del object_name``,\n",
        "\n",
        "where ``object_name`` can be variable(s), user-defined objects (also classes, attributes of classes), lists, items within lists, dictionaries etc.\n",
        "\n",
        "** ``del`` removes variable names from the namespace**\n",
        "As a result of using del one can free up for example some variable names from the namespace. This command doesn't necessarily affect the object associated to the variable name, it frees up just the pointer (so that it can be used for other purposes maybe). However in some memory intensive applications it might be also used to prepare the objects to be erased by the garbage collector of Python."
      ]
    },
    {
      "cell_type": "code",
      "source": [
        ""
      ],
      "metadata": {
        "id": "WAqCSo4rUEJ7"
      },
      "execution_count": null,
      "outputs": []
    }
  ]
}